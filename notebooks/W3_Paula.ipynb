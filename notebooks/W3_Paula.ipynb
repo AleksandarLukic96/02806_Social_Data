{
 "cells": [
  {
   "cell_type": "markdown",
   "metadata": {},
   "source": [
    "# Week 3 - Prinicples of data visualization"
   ]
  },
  {
   "cell_type": "markdown",
   "metadata": {},
   "source": [
    "## Part 1: Fundamentals of data visualization"
   ]
  },
  {
   "cell_type": "markdown",
   "metadata": {},
   "source": [
    "**Exercise:**\n",
    "- Explain in your own words how the Pearson correlation works and write down it's mathematical formulation. Can you think of an example where it fails (and visualization works)?\n",
    "- What is the difference between a bar-chart and a histogram?\n",
    "- How do you choose the right bin-size in histograms? Do a Google search to find a criterion you like and explain it."
   ]
  },
  {
   "cell_type": "markdown",
   "metadata": {},
   "source": [
    "## Part 2: Reading about the theory of visualization"
   ]
  },
  {
   "cell_type": "markdown",
   "metadata": {},
   "source": [
    "**Exercise**: Questions for DAOST \n",
    "- Explain in your own words the point of the jitter plot.\n",
    "- Explain in your own words the point of figure 2-3. \n",
    "- When can KDEs be misleading? \n",
    "- Janert writes \"CDFs have less intuitive appeal than histograms of KDEs\". What does he mean by that?\n",
    "- What is a *Quantile plot*? What is it good for. \n",
    "- How is a *Probablity plot* defined? What is it useful for? Have you ever seen one before?\n",
    "- One of the reasons we like DAOST is that Janert is so suspicious of mean, median, and related summary statistics. Explain why one has to be careful when using those - and why visualization of the full data is always better. \n",
    "- When are box plots most useful?\n",
    "- Are violin plots better or worse than box plots? Why?\n",
    "- Explain in your own words how this video illustrates potential issues even with box-plots? Do violin-plots help with that issue?"
   ]
  },
  {
   "cell_type": "markdown",
   "metadata": {},
   "source": [
    "## Part 3: Visualizations based on the book"
   ]
  },
  {
   "cell_type": "markdown",
   "metadata": {},
   "source": [
    "**Exercise Part 1**: Connecting the dots and recreating plots from DAOST\n",
    "\n",
    "- Now grab 25 random timepoints from the dataset (of 1000-10000 original data) you've just plotted and create a version of Figure 2-4 based on the 25 data points. Does this shed light on why I think KDEs can be misleading? "
   ]
  },
  {
   "cell_type": "markdown",
   "metadata": {},
   "source": [
    "**Exercise Part 2**:\n",
    "\n",
    "-  What does this plot reveal that you can't see in the plots from last time?"
   ]
  },
  {
   "cell_type": "markdown",
   "metadata": {},
   "source": [
    "**Exercise**: Let's plot a map with some random values in it."
   ]
  },
  {
   "cell_type": "code",
   "execution_count": 2,
   "metadata": {},
   "outputs": [],
   "source": [
    "randomdata = {\n",
    "    'CENTRAL': 0.4821,\n",
    "    'SOUTHERN': 0.9153,\n",
    "    'BAYVIEW': 0.3674,\n",
    "    'MISSION': 0.7542,\n",
    "    'PARK': 0.6285,\n",
    "    'RICHMOND': 0.2147,\n",
    "    'INGLESIDE': 0.05391,\n",
    "    'TARAVAL': 0.007846,\n",
    "    'NORTHERN': 0.4938,\n",
    "    'TENDERLOIN': 0.08127\n",
    "}"
   ]
  },
  {
   "cell_type": "markdown",
   "metadata": {},
   "source": [
    "**Exercise:**\n",
    "\n",
    "Main goal: *determine the districts where you should (and should not) leave your car on Sundays*. (Or stated differently, count up the number of thefts.)\n",
    "\n",
    "- Based on your map and analysis, where should you park the car for it to be safest on a Sunday? And where's the worst place?\n",
    "- Try to change the range of data-values in the plot above. Is there a way to make the difference between district less evident? \n",
    "- Why do you think perceptual errors are a problem? Try to think of a few examples. \n"
   ]
  },
  {
   "cell_type": "code",
   "execution_count": null,
   "metadata": {},
   "outputs": [],
   "source": []
  }
 ],
 "metadata": {
  "kernelspec": {
   "display_name": "Python 3 (ipykernel)",
   "language": "python",
   "name": "python3"
  },
  "language_info": {
   "codemirror_mode": {
    "name": "ipython",
    "version": 3
   },
   "file_extension": ".py",
   "mimetype": "text/x-python",
   "name": "python",
   "nbconvert_exporter": "python",
   "pygments_lexer": "ipython3",
   "version": "3.12.7"
  }
 },
 "nbformat": 4,
 "nbformat_minor": 4
}
