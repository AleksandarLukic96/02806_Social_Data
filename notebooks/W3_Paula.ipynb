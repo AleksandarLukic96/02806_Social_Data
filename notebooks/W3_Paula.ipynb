{
 "cells": [
  {
   "cell_type": "markdown",
   "metadata": {},
   "source": [
    "# Week 3 - Principles of data visualization"
   ]
  },
  {
   "cell_type": "markdown",
   "metadata": {},
   "source": [
    "## Part 1: Fundamentals of data visualization"
   ]
  },
  {
   "cell_type": "markdown",
   "metadata": {},
   "source": [
    "**Exercise:**\n",
    "- Explain in your own words how the Pearson correlation works and write down it's mathematical formulation. Can you think of an example where it fails (and visualization works)?\n",
    "- What is the difference between a bar-chart and a histogram?\n",
    "- How do you choose the right bin-size in histograms? Do a Google search to find a criterion you like and explain it."
   ]
  },
  {
   "cell_type": "markdown",
   "metadata": {},
   "source": [
    "**Answer:**\n",
    "- f"
   ]
  },
  {
   "cell_type": "markdown",
   "metadata": {},
   "source": [
    "## Part 2: Reading about the theory of visualization"
   ]
  },
  {
   "cell_type": "markdown",
   "metadata": {},
   "source": [
    "**Exercise**: Questions for DAOST \n",
    "- Explain in your own words the point of the jitter plot.\n",
    "- Explain in your own words the point of figure 2-3. \n",
    "- When can KDEs be misleading? \n",
    "- Janert writes \"CDFs have less intuitive appeal than histograms of KDEs\". What does he mean by that?\n",
    "- What is a *Quantile plot*? What is it good for. \n",
    "- How is a *Probablity plot* defined? What is it useful for? Have you ever seen one before?\n",
    "- One of the reasons we like DAOST is that Janert is so suspicious of mean, median, and related summary statistics. Explain why one has to be careful when using those - and why visualization of the full data is always better. \n",
    "- When are box plots most useful?\n",
    "- Are violin plots better or worse than box plots? Why?\n",
    "- Explain in your own words how this video illustrates potential issues even with box-plots? Do violin-plots help with that issue?"
   ]
  },
  {
   "cell_type": "markdown",
   "metadata": {},
   "source": [
    "## Part 3: Visualizations based on the book"
   ]
  },
  {
   "cell_type": "code",
   "execution_count": 1,
   "metadata": {},
   "outputs": [],
   "source": [
    "# Imports\n",
    "import matplotlib.pyplot as plt\n",
    "import pandas as pd\n",
    "import os\n",
    "import math\n",
    "\n",
    "# Load the DataFrame\n",
    "data_path = os.path.abspath(os.path.join(os.pardir, \"data\"))\n",
    "cleaned_data_path = os.path.join(data_path, \"Police_Department_Incident_Reports_Complete.csv\")\n",
    "df = pd.read_csv(cleaned_data_path)\n",
    "\n",
    "# Define focus crimes\n",
    "focuscrimes = {'WEAPON LAWS', 'PROSTITUTION', 'DRIVING UNDER THE INFLUENCE', 'ROBBERY', \n",
    "               'BURGLARY', 'ASSAULT', 'DRUNKENNESS', 'DRUG/NARCOTIC', 'TRESPASS', \n",
    "               'LARCENY/THEFT', 'VANDALISM', 'VEHICLE THEFT', 'STOLEN PROPERTY', 'DISORDERLY CONDUCT'}\n",
    "\n",
    "# Define the order of the days of the week\n",
    "days_of_week = ['Monday', 'Tuesday', 'Wednesday', 'Thursday', 'Friday', 'Saturday', 'Sunday']\n",
    "\n",
    "# Filter data for focus crimes\n",
    "df_focus = df[df['Category'].isin(focuscrimes)]"
   ]
  },
  {
   "cell_type": "code",
   "execution_count": null,
   "metadata": {},
   "outputs": [],
   "source": [
    "# Making a jitter-plot based on SF Police data of the arrest times during a single hour (18-19) between Nov 2017 and April 2018\n",
    "\n",
    "# Filter data for weapon laws and the desired time interval:\n",
    "weapon_df = df_focus[df_focus['Category'] == 'WEAPON LAWS']\n",
    "weapon_df = weapon_df[((weapon_df['Year'] == 2017) & (weapon_df['Month'].isin([11, 12]))) | \n",
    "                      ((weapon_df['Year'] == 2018) & (weapon_df['Month'].isin([1, 2, 3, 4])))]\n",
    "\n",
    "# Further filter to 18:00 - 18:59\n",
    "weapon_hour = weapon_df[weapon_df['Hour'] == 18]\n",
    "\n",
    "# Since we don't have minutes in the data, simulate a minute value (0 to 60) for each incident\n",
    "weapon_hour = weapon_hour.copy()  # to avoid SettingWithCopyWarning\n",
    "weapon_hour['SimulatedMinute'] = np.random.uniform(0, 60, size=len(weapon_hour))\n",
    "\n",
    "# Create a vertical jitter value (using a small random offset) so points don't overlap vertically\n",
    "weapon_hour['Jitter'] = np.random.normal(0, 0.1, size=len(weapon_hour))\n",
    "\n",
    "# Now create the jitter plot\n",
    "plt.figure(figsize=(10,6))\n",
    "plt.scatter(weapon_hour['SimulatedMinute'], weapon_hour['Jitter'], \n",
    "            alpha=0.7, color='purple', edgecolor='black')\n",
    "plt.xlabel('Minute within hour (18:00 - 18:59)')\n",
    "plt.ylabel('Jitter (arbitrary offset)')\n",
    "plt.title('Jitter Plot of Weapon Laws Arrests\\n(Nov 2017 - Apr 2018, Hour 18)')\n",
    "plt.xticks(np.arange(0, 61, 10))\n",
    "plt.yticks([])  # remove y-ticks since they only represent random jitter\n",
    "plt.show()\n"
   ]
  },
  {
   "cell_type": "markdown",
   "metadata": {},
   "source": [
    "**Exercise Part 1**: Connecting the dots and recreating plots from DAOST\n",
    "\n",
    "- Now grab 25 random timepoints from the dataset (of 1000-10000 original data) you've just plotted and create a version of Figure 2-4 based on the 25 data points. Does this shed light on why I think KDEs can be misleading? "
   ]
  },
  {
   "cell_type": "markdown",
   "metadata": {},
   "source": [
    "**Exercise Part 2**:\n",
    "\n",
    "-  What does this plot reveal that you can't see in the plots from last time?"
   ]
  },
  {
   "cell_type": "markdown",
   "metadata": {},
   "source": [
    "**Exercise**: Let's plot a map with some random values in it."
   ]
  },
  {
   "cell_type": "code",
   "execution_count": 2,
   "metadata": {},
   "outputs": [],
   "source": [
    "randomdata = {\n",
    "    'CENTRAL': 0.4821,\n",
    "    'SOUTHERN': 0.9153,\n",
    "    'BAYVIEW': 0.3674,\n",
    "    'MISSION': 0.7542,\n",
    "    'PARK': 0.6285,\n",
    "    'RICHMOND': 0.2147,\n",
    "    'INGLESIDE': 0.05391,\n",
    "    'TARAVAL': 0.007846,\n",
    "    'NORTHERN': 0.4938,\n",
    "    'TENDERLOIN': 0.08127\n",
    "}"
   ]
  },
  {
   "cell_type": "markdown",
   "metadata": {},
   "source": [
    "**Exercise:**\n",
    "\n",
    "Main goal: *determine the districts where you should (and should not) leave your car on Sundays*. (Or stated differently, count up the number of thefts.)\n",
    "\n",
    "- Based on your map and analysis, where should you park the car for it to be safest on a Sunday? And where's the worst place?\n",
    "- Try to change the range of data-values in the plot above. Is there a way to make the difference between district less evident? \n",
    "- Why do you think perceptual errors are a problem? Try to think of a few examples. \n"
   ]
  },
  {
   "cell_type": "code",
   "execution_count": null,
   "metadata": {},
   "outputs": [],
   "source": []
  }
 ],
 "metadata": {
  "kernelspec": {
   "display_name": "my-env",
   "language": "python",
   "name": "python3"
  },
  "language_info": {
   "codemirror_mode": {
    "name": "ipython",
    "version": 3
   },
   "file_extension": ".py",
   "mimetype": "text/x-python",
   "name": "python",
   "nbconvert_exporter": "python",
   "pygments_lexer": "ipython3",
   "version": "3.11.9"
  }
 },
 "nbformat": 4,
 "nbformat_minor": 4
}
