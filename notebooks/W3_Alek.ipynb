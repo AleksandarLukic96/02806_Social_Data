{
 "cells": [
  {
   "cell_type": "markdown",
   "metadata": {},
   "source": [
    "# Week 3 - \n",
    "\n",
    "By Group XX:\n",
    "\n",
    "-   Aleksandar Lukic - s194066\n",
    "-   Paula Barho - s242926\n",
    "-   Victor Gustav Harbo Rasmussen - s204475"
   ]
  },
  {
   "cell_type": "markdown",
   "metadata": {},
   "source": [
    "#### Preamble"
   ]
  },
  {
   "cell_type": "code",
   "execution_count": 1,
   "metadata": {},
   "outputs": [],
   "source": [
    "import matplotlib.pyplot as plt\n",
    "import os\n",
    "import numpy as np\n",
    "import pandas as pd\n",
    "import seaborn as sns\n",
    "from scipy import stats"
   ]
  },
  {
   "cell_type": "code",
   "execution_count": 2,
   "metadata": {},
   "outputs": [],
   "source": [
    "# Set pandas display options to show all columns for .head command\n",
    "pd.set_option('display.max_columns', None)  # Show all columns\n",
    "pd.set_option('display.width', None)        # Auto-detect the display width\n",
    "pd.set_option('display.max_colwidth', None) # Show full content of each column"
   ]
  },
  {
   "cell_type": "code",
   "execution_count": 3,
   "metadata": {},
   "outputs": [
    {
     "data": {
      "text/plain": [
       "'c:\\\\Users\\\\Aleksandar\\\\School\\\\02806_Social_Data\\\\files'"
      ]
     },
     "execution_count": 3,
     "metadata": {},
     "output_type": "execute_result"
    }
   ],
   "source": [
    "# Get path of data directory\n",
    "files_path = os.path.abspath(os.path.join(os.pardir, \"files\"))\n",
    "files_path"
   ]
  },
  {
   "cell_type": "code",
   "execution_count": 4,
   "metadata": {},
   "outputs": [
    {
     "data": {
      "text/plain": [
       "'c:\\\\Users\\\\Aleksandar\\\\School\\\\02806_Social_Data\\\\plots'"
      ]
     },
     "execution_count": 4,
     "metadata": {},
     "output_type": "execute_result"
    }
   ],
   "source": [
    "# Get path of plot directory\n",
    "plots_path = os.path.abspath(os.path.join(os.pardir, \"plots\"))\n",
    "plots_path"
   ]
  },
  {
   "cell_type": "code",
   "execution_count": 5,
   "metadata": {},
   "outputs": [],
   "source": [
    "# Read crime data from the CSV file\n",
    "data_path = os.path.abspath(os.path.join(os.pardir, \"data\"))\n",
    "csv_name = \"Police_Department_Incident_Reports_Complete.csv\"\n",
    "df = pd.read_csv(os.path.join(data_path, csv_name))"
   ]
  },
  {
   "cell_type": "markdown",
   "metadata": {},
   "source": [
    "## Part 1: Fundamentals of data visualization"
   ]
  },
  {
   "cell_type": "markdown",
   "metadata": {},
   "source": [
    "> *Excercise:* Questions for the lecture. \n",
    ">\n",
    "> * As mentioned earlier, visualization is not the only way to test for correlation. We can (for example) calculate the Pearson correlation. Explain in your own words how the Pearson correlation works and write down it's mathematical formulation. Can you think of an example where it fails (and visualization works)?"
   ]
  },
  {
   "cell_type": "markdown",
   "metadata": {},
   "source": [
    "_\"**Pearson correlation coefficient** is a correlation coefficient that measures linear correlation between two sets of data\"_"
   ]
  },
  {
   "cell_type": "markdown",
   "metadata": {},
   "source": [
    "> * What is the difference between a bar-chart and a histogram?"
   ]
  },
  {
   "cell_type": "markdown",
   "metadata": {},
   "source": [
    "A bar chart presents categorical data with rectangular bars, where their heights are proportional to the values they represent. A histogram is also a bar chart, but where the values have been grouped into bins. This may make it easier to get an overview of many categories, whereas a simple bar chart can be enough if there are few categories to tally up. "
   ]
  },
  {
   "cell_type": "markdown",
   "metadata": {},
   "source": [
    "> * I mention in the video that it's important to choose the right bin-size in histograms. But how do you do that? Do a Google search to find a criterion you like and explain it."
   ]
  },
  {
   "cell_type": "markdown",
   "metadata": {},
   "source": [
    "The following approach was found at: [Statistics How To](https://www.statisticshowto.com/choose-bin-sizes-statistics/).\n",
    "\n",
    "1. Find the minimum and maximum values (bar heights).\n",
    "\n",
    "2. If the values are not integers; Lower the minimum and raise the maximum to their nearest integers.\n",
    "\n",
    "3. Choose the bin size (no. of bins) based on what information is interesting to convey.\n",
    "\n",
    "4. Divide your range (the numbers in your data set) by the bin size.\n",
    "\n",
    "5. Create the bin boundaries incrementally from minimum to maximum by the value from step 4."
   ]
  },
  {
   "cell_type": "markdown",
   "metadata": {},
   "source": [
    "## Part 2: Reading about the theory of visualization\n",
    "\n",
    "Since we can go deeper with the visualization this year, we are going to read the first couple of chapters from [*Data Analysis with Open Source Tools*](http://shop.oreilly.com/product/9780596802363.do) (DAOST). It's pretty old, but I think it's a fantastic resource and one that is pretty much as relevant now as it was back then. The author is a physicist (like Sune) so he likes the way he thinks. And the books takes the reader all the way from visualization, through modeling to computational mining. Anywho - it's a great book and well worth reading in its entirety. \n",
    "\n",
    "As part of this class we'll be reading the first chapters. Today, we'll read chaper 2 (the first 28 pages) which supports and deepens many of the points we made during the video above. \n",
    "\n",
    "To find the text, you will need to go to **Teams** and have a look under the `Files` tab. The path is `/Documents/General/Week3/DAOST_chapter1.pdf`."
   ]
  },
  {
   "cell_type": "markdown",
   "metadata": {},
   "source": [
    "> *Excercise*: Questions for DAOST \n",
    "> * Explain in your own words the point of the jitter plot.\n",
    "\n",
    "If the data is made up of a numeric value (e.g. no. of months in office) and a categorical value (e.g. name of a president), their points might overlap to some degree. To counter this, we can applly \"jitter\", which is to randomly distribute the points along a 1D-line, where the numeric value is the same. We can from this quickly see if there are any numeric patterns, such as some values that appear frequent (e.g. 48 and 96 months in office, which are exactly equivalent to 1 and 2 full terms in office). "
   ]
  },
  {
   "cell_type": "markdown",
   "metadata": {},
   "source": [
    "> * Explain in your own words the point of figure 2-3. (I'm going to skip saying \"in your own words\" going forward, but I hope you get the point; I expect all answers to be in your own words).\n",
    "\n",
    "When choosing the bin size and anchoring points for histograms, we may see varying results, as outliers may be hidden and the distribution could be misleading. "
   ]
  },
  {
   "cell_type": "markdown",
   "metadata": {},
   "source": [
    "> * The author of DAOST (Philipp Janert) likes KDEs (and think they're better than histograms). And we don't. Sune didn't give a detailed explanation in the video, but now that works to our advantage. We'll ask you to think about this and thereby create an excellent exercise: When can KDEs be misleading? \n",
    "\n",
    "KDEs can be visually interesting, as they display more organic movement, whereas rectangles are very rigid. However, the KDEs neccesity for computational power make them somewhat ineffecient compared to the _simple_ histogram. Additionally, KDEs enforce a slope between categories, which in turn might show misleading results when not taking boundaries into account."
   ]
  },
  {
   "cell_type": "markdown",
   "metadata": {},
   "source": [
    "> * Sune discussed some strengths of the CDF - there are also weaknesses. Janert writes \"CDFs have less intuitive appeal than histograms of KDEs\". What does he mean by that?\n",
    "\n",
    "For histograms and KDFs the initial understanding of the data is based on the values associated with the categories, whereas the distributions is highlighted by CDFs. From a CDF, it is hard to decifer the value of the categories, but it is very visually clear, if at some categories the values ramp up or down dramatically. "
   ]
  },
  {
   "cell_type": "markdown",
   "metadata": {},
   "source": [
    "> * What is a *Quantile plot*? What is it good for. \n",
    "\n",
    "Just like the CDF, the Quantile plot shows us the distribution in a dataset. They tell us where the majority of the values are concentrated and which intervals of values are the most frequent."
   ]
  },
  {
   "cell_type": "markdown",
   "metadata": {},
   "source": [
    "> * How is a *Probablity plot* defined? What is it useful for? Have you ever seen one before?\n",
    "\n",
    "A probability plot shows the values spread over a normal distribution with the z-score along the x-axis.\n",
    "\n",
    "$z = \\frac{x - \\mu}{\\sigma}$"
   ]
  },
  {
   "cell_type": "markdown",
   "metadata": {},
   "source": [
    "> * One of the reasons we like DAOST is that Janert is so suspicious of mean, median, and related summary statistics. Explain why one has to be careful when using those - and why visualization of the full data is always better. \n",
    "\n",
    "As we demonstrated in Week 2 with Anscombe's quartet, the relation between data points might be misleading when followed blindly."
   ]
  },
  {
   "cell_type": "markdown",
   "metadata": {},
   "source": [
    "> * Sune loves box plots (but not enough to own one of [these](https://images.app.goo.gl/rpozyRX3xu5oFobt8) 😂). When are box plots most useful?\n",
    "\n",
    "Box plots are most useful when the data follows a normal distribution and there aren't too many outliers."
   ]
  },
  {
   "cell_type": "markdown",
   "metadata": {},
   "source": [
    "> * The book doesn't mention [violin plots](https://en.wikipedia.org/wiki/Violin_plot). Are those better or worse than box plots? Why?\n",
    "\n",
    "The violin plots show the KDE in stead of a box between the quantiles. This can provide a clearer view of the data spread, but may be bloating when looking at multiple distributions."
   ]
  },
  {
   "cell_type": "markdown",
   "metadata": {},
   "source": [
    "> * Remember the box-plot part from [this video from last time](https://www.youtube.com/watch?v=DbJyPELmhJc) (the part that starts at 0:56)? Explain in your own words how this video illustrates potential issues even with box-plots? Do violin-plots help with that issue?\n",
    "\n",
    "As the animation in the video shows, the box-plot does not change, while the bars and thereby also the KDE does. Thus, the violin plot would prevent the misinformation of the box-plot and would detect misinformation such as the on in Anscombe's quartet."
   ]
  },
  {
   "cell_type": "markdown",
   "metadata": {},
   "source": [
    "## Part 3: Visualizations based on the book\n",
    "\n",
    "### *Excercise Part 1*: Connecting the dots and recreating plots from DAOST but using our own favorite dataset."
   ]
  },
  {
   "cell_type": "markdown",
   "metadata": {},
   "source": [
    "> * Let's make a jitter-plot (that is, code up something like **Figure 2-1** from DAOST from scratch), but based on *SF Police data*. My hunch from inspecting the file is that the police-folks might be a little bit lazy in noting down the **exact** time down to the second. \n",
    "> 1. So choose a crime-type\n",
    "> 2. and a suitable time interval (somewhere between a month and 6 months depending on the crime-type) \n",
    "> 3. and create a jitter plot of the arrest times during a single hour (like 13-14, for example). \n",
    "> * So let time run on the $x$-axis and create vertical jitter."
   ]
  },
  {
   "cell_type": "code",
   "execution_count": 40,
   "metadata": {},
   "outputs": [
    {
     "name": "stdout",
     "output_type": "stream",
     "text": [
      "(710546, 11)\n"
     ]
    },
    {
     "data": {
      "text/html": [
       "<div>\n",
       "<style scoped>\n",
       "    .dataframe tbody tr th:only-of-type {\n",
       "        vertical-align: middle;\n",
       "    }\n",
       "\n",
       "    .dataframe tbody tr th {\n",
       "        vertical-align: top;\n",
       "    }\n",
       "\n",
       "    .dataframe thead th {\n",
       "        text-align: right;\n",
       "    }\n",
       "</style>\n",
       "<table border=\"1\" class=\"dataframe\">\n",
       "  <thead>\n",
       "    <tr style=\"text-align: right;\">\n",
       "      <th></th>\n",
       "      <th>Category</th>\n",
       "      <th>Police District</th>\n",
       "      <th>Longitude (X)</th>\n",
       "      <th>Latitude (Y)</th>\n",
       "      <th>Day of Week</th>\n",
       "      <th>Hour</th>\n",
       "      <th>Minute</th>\n",
       "      <th>Day</th>\n",
       "      <th>Month</th>\n",
       "      <th>MonthName</th>\n",
       "      <th>Year</th>\n",
       "    </tr>\n",
       "  </thead>\n",
       "  <tbody>\n",
       "    <tr>\n",
       "      <th>33</th>\n",
       "      <td>LARCENY/THEFT</td>\n",
       "      <td>TARAVAL</td>\n",
       "      <td>-122.474171</td>\n",
       "      <td>37.716657</td>\n",
       "      <td>Thursday</td>\n",
       "      <td>0</td>\n",
       "      <td>1</td>\n",
       "      <td>1</td>\n",
       "      <td>1</td>\n",
       "      <td>January</td>\n",
       "      <td>2004</td>\n",
       "    </tr>\n",
       "    <tr>\n",
       "      <th>34</th>\n",
       "      <td>LARCENY/THEFT</td>\n",
       "      <td>TARAVAL</td>\n",
       "      <td>-122.507411</td>\n",
       "      <td>37.751921</td>\n",
       "      <td>Thursday</td>\n",
       "      <td>0</td>\n",
       "      <td>1</td>\n",
       "      <td>1</td>\n",
       "      <td>1</td>\n",
       "      <td>January</td>\n",
       "      <td>2004</td>\n",
       "    </tr>\n",
       "    <tr>\n",
       "      <th>37</th>\n",
       "      <td>LARCENY/THEFT</td>\n",
       "      <td>MISSION</td>\n",
       "      <td>-122.407539</td>\n",
       "      <td>37.766425</td>\n",
       "      <td>Thursday</td>\n",
       "      <td>0</td>\n",
       "      <td>1</td>\n",
       "      <td>1</td>\n",
       "      <td>1</td>\n",
       "      <td>January</td>\n",
       "      <td>2004</td>\n",
       "    </tr>\n",
       "    <tr>\n",
       "      <th>40</th>\n",
       "      <td>LARCENY/THEFT</td>\n",
       "      <td>SOUTHERN</td>\n",
       "      <td>-122.403405</td>\n",
       "      <td>37.775421</td>\n",
       "      <td>Thursday</td>\n",
       "      <td>0</td>\n",
       "      <td>1</td>\n",
       "      <td>1</td>\n",
       "      <td>1</td>\n",
       "      <td>January</td>\n",
       "      <td>2004</td>\n",
       "    </tr>\n",
       "    <tr>\n",
       "      <th>42</th>\n",
       "      <td>LARCENY/THEFT</td>\n",
       "      <td>INGLESIDE</td>\n",
       "      <td>-122.437438</td>\n",
       "      <td>37.723717</td>\n",
       "      <td>Thursday</td>\n",
       "      <td>0</td>\n",
       "      <td>1</td>\n",
       "      <td>1</td>\n",
       "      <td>1</td>\n",
       "      <td>January</td>\n",
       "      <td>2004</td>\n",
       "    </tr>\n",
       "  </tbody>\n",
       "</table>\n",
       "</div>"
      ],
      "text/plain": [
       "         Category Police District  Longitude (X)  Latitude (Y) Day of Week  \\\n",
       "33  LARCENY/THEFT         TARAVAL    -122.474171     37.716657    Thursday   \n",
       "34  LARCENY/THEFT         TARAVAL    -122.507411     37.751921    Thursday   \n",
       "37  LARCENY/THEFT         MISSION    -122.407539     37.766425    Thursday   \n",
       "40  LARCENY/THEFT        SOUTHERN    -122.403405     37.775421    Thursday   \n",
       "42  LARCENY/THEFT       INGLESIDE    -122.437438     37.723717    Thursday   \n",
       "\n",
       "    Hour  Minute  Day  Month MonthName  Year  \n",
       "33     0       1    1      1   January  2004  \n",
       "34     0       1    1      1   January  2004  \n",
       "37     0       1    1      1   January  2004  \n",
       "40     0       1    1      1   January  2004  \n",
       "42     0       1    1      1   January  2004  "
      ]
     },
     "execution_count": 40,
     "metadata": {},
     "output_type": "execute_result"
    }
   ],
   "source": [
    "# Crime of choice\n",
    "# crime = \"DRUG/NARCOTIC\"\n",
    "crime = \"LARCENY/THEFT\"\n",
    "df_temp = df[df[\"Category\"] == crime]\n",
    "\n",
    "print(df_temp.shape)\n",
    "df_temp.head()"
   ]
  },
  {
   "cell_type": "code",
   "execution_count": 41,
   "metadata": {},
   "outputs": [
    {
     "name": "stdout",
     "output_type": "stream",
     "text": [
      "(12582, 11)\n"
     ]
    },
    {
     "data": {
      "text/html": [
       "<div>\n",
       "<style scoped>\n",
       "    .dataframe tbody tr th:only-of-type {\n",
       "        vertical-align: middle;\n",
       "    }\n",
       "\n",
       "    .dataframe tbody tr th {\n",
       "        vertical-align: top;\n",
       "    }\n",
       "\n",
       "    .dataframe thead th {\n",
       "        text-align: right;\n",
       "    }\n",
       "</style>\n",
       "<table border=\"1\" class=\"dataframe\">\n",
       "  <thead>\n",
       "    <tr style=\"text-align: right;\">\n",
       "      <th></th>\n",
       "      <th>Category</th>\n",
       "      <th>Police District</th>\n",
       "      <th>Longitude (X)</th>\n",
       "      <th>Latitude (Y)</th>\n",
       "      <th>Day of Week</th>\n",
       "      <th>Hour</th>\n",
       "      <th>Minute</th>\n",
       "      <th>Day</th>\n",
       "      <th>Month</th>\n",
       "      <th>MonthName</th>\n",
       "      <th>Year</th>\n",
       "    </tr>\n",
       "  </thead>\n",
       "  <tbody>\n",
       "    <tr>\n",
       "      <th>2754579</th>\n",
       "      <td>LARCENY/THEFT</td>\n",
       "      <td>NORTHERN</td>\n",
       "      <td>-122.431763</td>\n",
       "      <td>37.778633</td>\n",
       "      <td>Monday</td>\n",
       "      <td>0</td>\n",
       "      <td>0</td>\n",
       "      <td>1</td>\n",
       "      <td>1</td>\n",
       "      <td>January</td>\n",
       "      <td>2024</td>\n",
       "    </tr>\n",
       "    <tr>\n",
       "      <th>2754584</th>\n",
       "      <td>LARCENY/THEFT</td>\n",
       "      <td>NORTHERN</td>\n",
       "      <td>-122.442184</td>\n",
       "      <td>37.771572</td>\n",
       "      <td>Monday</td>\n",
       "      <td>0</td>\n",
       "      <td>0</td>\n",
       "      <td>1</td>\n",
       "      <td>1</td>\n",
       "      <td>January</td>\n",
       "      <td>2024</td>\n",
       "    </tr>\n",
       "    <tr>\n",
       "      <th>2754588</th>\n",
       "      <td>LARCENY/THEFT</td>\n",
       "      <td>CENTRAL</td>\n",
       "      <td>-122.419037</td>\n",
       "      <td>37.790787</td>\n",
       "      <td>Monday</td>\n",
       "      <td>0</td>\n",
       "      <td>0</td>\n",
       "      <td>1</td>\n",
       "      <td>1</td>\n",
       "      <td>January</td>\n",
       "      <td>2024</td>\n",
       "    </tr>\n",
       "    <tr>\n",
       "      <th>2754591</th>\n",
       "      <td>LARCENY/THEFT</td>\n",
       "      <td>NORTHERN</td>\n",
       "      <td>-122.431763</td>\n",
       "      <td>37.778633</td>\n",
       "      <td>Monday</td>\n",
       "      <td>0</td>\n",
       "      <td>0</td>\n",
       "      <td>1</td>\n",
       "      <td>1</td>\n",
       "      <td>January</td>\n",
       "      <td>2024</td>\n",
       "    </tr>\n",
       "    <tr>\n",
       "      <th>2754593</th>\n",
       "      <td>LARCENY/THEFT</td>\n",
       "      <td>SOUTHERN</td>\n",
       "      <td>-122.395576</td>\n",
       "      <td>37.774033</td>\n",
       "      <td>Monday</td>\n",
       "      <td>0</td>\n",
       "      <td>0</td>\n",
       "      <td>1</td>\n",
       "      <td>1</td>\n",
       "      <td>January</td>\n",
       "      <td>2024</td>\n",
       "    </tr>\n",
       "  </tbody>\n",
       "</table>\n",
       "</div>"
      ],
      "text/plain": [
       "              Category Police District  Longitude (X)  Latitude (Y)  \\\n",
       "2754579  LARCENY/THEFT        NORTHERN    -122.431763     37.778633   \n",
       "2754584  LARCENY/THEFT        NORTHERN    -122.442184     37.771572   \n",
       "2754588  LARCENY/THEFT         CENTRAL    -122.419037     37.790787   \n",
       "2754591  LARCENY/THEFT        NORTHERN    -122.431763     37.778633   \n",
       "2754593  LARCENY/THEFT        SOUTHERN    -122.395576     37.774033   \n",
       "\n",
       "        Day of Week  Hour  Minute  Day  Month MonthName  Year  \n",
       "2754579      Monday     0       0    1      1   January  2024  \n",
       "2754584      Monday     0       0    1      1   January  2024  \n",
       "2754588      Monday     0       0    1      1   January  2024  \n",
       "2754591      Monday     0       0    1      1   January  2024  \n",
       "2754593      Monday     0       0    1      1   January  2024  "
      ]
     },
     "execution_count": 41,
     "metadata": {},
     "output_type": "execute_result"
    }
   ],
   "source": [
    "# Time period to sample\n",
    "year = 2024\n",
    "month_start = 1\n",
    "month_end = 6\n",
    "\n",
    "df_sample = df_temp[(df_temp[\"Year\"] == year) & (df_temp[\"Month\"] >= month_start) & (df_temp[\"Month\"] <= month_end)]\n",
    "\n",
    "print(df_sample.shape)\n",
    "df_sample.head()"
   ]
  },
  {
   "cell_type": "code",
   "execution_count": 50,
   "metadata": {},
   "outputs": [
    {
     "name": "stdout",
     "output_type": "stream",
     "text": [
      "(60, 2)\n"
     ]
    },
    {
     "data": {
      "text/plain": [
       "(876, 11)"
      ]
     },
     "metadata": {},
     "output_type": "display_data"
    },
    {
     "data": {
      "text/html": [
       "<div>\n",
       "<style scoped>\n",
       "    .dataframe tbody tr th:only-of-type {\n",
       "        vertical-align: middle;\n",
       "    }\n",
       "\n",
       "    .dataframe tbody tr th {\n",
       "        vertical-align: top;\n",
       "    }\n",
       "\n",
       "    .dataframe thead th {\n",
       "        text-align: right;\n",
       "    }\n",
       "</style>\n",
       "<table border=\"1\" class=\"dataframe\">\n",
       "  <thead>\n",
       "    <tr style=\"text-align: right;\">\n",
       "      <th></th>\n",
       "      <th>Minute</th>\n",
       "      <th>Count</th>\n",
       "    </tr>\n",
       "  </thead>\n",
       "  <tbody>\n",
       "    <tr>\n",
       "      <th>0</th>\n",
       "      <td>0</td>\n",
       "      <td>413</td>\n",
       "    </tr>\n",
       "    <tr>\n",
       "      <th>1</th>\n",
       "      <td>1</td>\n",
       "      <td>6</td>\n",
       "    </tr>\n",
       "    <tr>\n",
       "      <th>2</th>\n",
       "      <td>2</td>\n",
       "      <td>3</td>\n",
       "    </tr>\n",
       "    <tr>\n",
       "      <th>3</th>\n",
       "      <td>3</td>\n",
       "      <td>5</td>\n",
       "    </tr>\n",
       "    <tr>\n",
       "      <th>4</th>\n",
       "      <td>4</td>\n",
       "      <td>2</td>\n",
       "    </tr>\n",
       "  </tbody>\n",
       "</table>\n",
       "</div>"
      ],
      "text/plain": [
       "   Minute  Count\n",
       "0       0    413\n",
       "1       1      6\n",
       "2       2      3\n",
       "3       3      5\n",
       "4       4      2"
      ]
     },
     "execution_count": 50,
     "metadata": {},
     "output_type": "execute_result"
    }
   ],
   "source": [
    "# Filter the incidents to the hour of interest\n",
    "hour = 12\n",
    "df_hour = df_sample[df_sample[\"Hour\"] == hour]\n",
    "# df_hour = df[df[\"Hour\"] == hour]\n",
    "\n",
    "# Count the number of incidents for each minute in the hour\n",
    "min_count = df_hour[\"Minute\"].value_counts().sort_index()\n",
    "\n",
    "# Create a DataFrame with all minutes in the hour to ensure all minutes are included\n",
    "df_minute = pd.DataFrame({'Minute': range(60)})\n",
    "\n",
    "# Merge the count of incidents for each minute with the DataFrame of all minutes\n",
    "df_minute = df_minute.merge(min_count.rename('Count'), left_on='Minute', right_index=True, how='left')\n",
    "\n",
    "# Fill missing values with 0 (for minutes with no incidents)\n",
    "df_minute['Count'] = df_minute['Count'].fillna(0).astype(int)\n",
    "\n",
    "print(df_minute.shape)\n",
    "display(df_hour.shape)\n",
    "df_minute.head()"
   ]
  },
  {
   "cell_type": "code",
   "execution_count": 60,
   "metadata": {},
   "outputs": [
    {
     "data": {
      "image/png": "[encoded data removed]",
      "text/plain": [
       "<Figure size 1000x500 with 1 Axes>"
      ]
     },
     "metadata": {},
     "output_type": "display_data"
    }
   ],
   "source": [
    "# Create jitter plot\n",
    "plt.figure(figsize=(10, 5))\n",
    "\n",
    "# Create jitter plot using the minute and count data\n",
    "sns.stripplot(\n",
    "    x=df_minute['Minute'], \n",
    "    y=df_minute['Count'], \n",
    "    jitter=True, \n",
    "    size=8, \n",
    "    alpha=0.7,\n",
    "    marker='o',\n",
    ")\n",
    "\n",
    "# Add crosses (×) at the top for minutes with incidents\n",
    "has_incident = df_minute[df_minute['Count'] > 0]\n",
    "plt.scatter(\n",
    "    has_incident['Minute'], \n",
    "    [df_minute['Count'].max() + df_minute['Count'].max()*0.05] * len(has_incident),\n",
    "    marker='x', \n",
    "    color='black', \n",
    "    s=50, \n",
    "    label=\"Incident occurred\"\n",
    ")\n",
    "\n",
    "# Customize plot\n",
    "plt.xlabel(\"Minute of the Hour\")\n",
    "plt.ylabel(\"Number of Incidents Reported\") \n",
    "plt.title(f\"Daily Reported Incidents per minute in the hour ({hour:02d}:00 - {hour:02d}:59) from {year}/{month_start:02d} to {year}/{month_end:02d}\")\n",
    "plt.xticks(list(range(0, 60, 5)) + [59])\n",
    "plt.grid(axis='both', linestyle='--', alpha=0.5)\n",
    "plt.legend()\n",
    "\n",
    "plt.show()"
   ]
  },
  {
   "cell_type": "markdown",
   "metadata": {},
   "source": [
    "> * Last time, we did lots of bar-plots. Today, we'll play around with histograms (creating two crime-data based versions of the plot-type shown in DAOST **Figure 2-2**). I think the GPS data could be fun to see this way. \n",
    ">   * This time, pick two crime-types with different geographical patterns **and** a suitable time-interval for each (you want between 1000 and 10000 points in your histogram)\n",
    ">   * Then take the latitude part of the GPS coordinates for each crime and bin the latitudes so that you have around 50 bins across the city of SF. You can use your favorite method for binning. I like `numpy.histogram`. This function gives you the counts and then you do your own plotting. "
   ]
  },
  {
   "cell_type": "code",
   "execution_count": null,
   "metadata": {},
   "outputs": [],
   "source": []
  },
  {
   "cell_type": "markdown",
   "metadata": {},
   "source": [
    "> * Next up is using the plot-type shown in **Figure 2-4** from DAOST, but with the data you used to create Figure 2.1. There is not a single great way to create kernel density plots in Python. [Here](https://www.geeksforgeeks.org/density-plots-with-pandas-in-python/), you'll finde a pandas based strategy, but you can also use `gaussian_kde` from `scipy.stats` ([for an example, check out this stackoverflow post](https://stackoverflow.com/questions/4150171/how-to-create-a-density-plot-in-matplotlib)) or you can use [`seaborn.kdeplot`](https://seaborn.pydata.org/generated/seaborn.kdeplot.html). There is also another nice tutorial for KDE plots [here](https://medium.com/towards-data-science/histograms-and-density-plots-in-python-f6bda88f5ac0). <font color=\"gray\">Or ask your LLM what it recommends</font>."
   ]
  },
  {
   "cell_type": "code",
   "execution_count": null,
   "metadata": {},
   "outputs": [],
   "source": []
  },
  {
   "cell_type": "markdown",
   "metadata": {},
   "source": [
    "> * Now grab 25 random timepoints from the dataset (of 1000-10000 original data) you've just plotted and create a version of Figure 2-4 based on the 25 data points. Does this shed light on why I think KDEs can be misleading? \n",
    ">\n",
    "> Let's take a break. Get some coffee or water. Stretch your legs. Talk to your friends for a bit. Breathe. Get relaxed so you're ready for the second part of the exercise. \n",
    "\n",
    "<div class=\"alert alert-block alert-info\">\n",
    "For the \"Exercise Part 1\" and the part below, I want you to eliminate uses of LLMs where you simply cut and paste the assignments (or parts of it) into a prompt ... and ask for a solution. Instead, ask your LLM for help if you get stuck ... use it as a TA to help understand error messages ... or to help make suggestions for the right function to use ... etc. \n",
    "</div>\n",
    "\n",
    "> \n",
    "> *Excercise Part 2*:\n",
    ">\n",
    "> * Now we'll work on creating two versions of the plot in **Figure 2-11**, but using the GPS data you used for your version of Figure 2-2. Comment on the result. It is not easy to create this plot from scracth.    \n",
    ">   * **Hint:** Take a look at the `scipy.stats.probplot` function. \n",
    "> * OK, we're almost done, but we need some box plots. Here, I'd like you to use the box plots to visualize fluctuations of how many crimes happen per day. We'll use data from the 15 focus crimes defined last week.\n",
    ">   * For the full time-span of the data, calulate the **number of crimes per day** within each category for the entire duration of the data.\n",
    ">   * Create a box-and whiskers plot showing the mean, median, quantiles, etc for all 15 crime-types side-by-side. There are many ways to do this. I like to use [matplotlibs's built in functionality](https://matplotlib.org/stable/api/_as_gen/matplotlib.pyplot.boxplot.html), but you can also achieve good results with [seaborn](https://seaborn.pydata.org/generated/seaborn.boxplot.html) or [pandas](https://pandas.pydata.org/docs/reference/api/pandas.DataFrame.boxplot.html). <font color=\"gray\">It's also fine to get help from your LLM, but make sure you check that the plot accurately shows the stats about the underlying data!</font>.\n",
    ">   * What does this plot reveal that you can't see in the plots from last time?\n",
    "> * Also I want to show you guys another interesting use of box plots. To get started, let's calculate another average for each focus-crime, namely what time of day the crime happens. So this time, the distribution we want to plot is the average time-of-day that a crime takes place. There are many ways to do this, but let me describe one way to do it. \n",
    ">   * For datapoint, the only thing you care about is the time-of-day, so discard everything else.\n",
    ">   * You also have to deal with the fact that time is annoyingly not divided into nice units that go to 100 like many other numbers. I can think of two ways to deal with this.\n",
    ">     * For each time-of-day, simply encode it as seconds since midnight.\n",
    ">     * Or keep each whole hour, and convert the minute/second count to a percentage of an hour. So 10:15 $\\rightarrow$ 10.25, 8:40 $\\rightarrow$ 8.67, etc.\n",
    "> * Now you can create box-plots to create an overview of *when various crimes occur*. Note that these plot have quite a different interpretation than ones we created in the previous exercise. Cool, right?  "
   ]
  },
  {
   "cell_type": "markdown",
   "metadata": {},
   "source": [
    "## Part 4: Visualizing geodata with Plotly\n",
    "\n",
    "So visualizing geodata used to be difficult, but with `Plotly` things have gotten easier. \n",
    "\n",
    "Like matplotlib, Plotly is an [open-source data visualization library](https://plotly.com/python/), but it's aimed at making interactive visualizations that can be rendered in a web browser (or jupyter notebook). You can read about it and learn how to install it [here](https://plotly.com/python/getting-started/).\n",
    "\n",
    "That means that we can easily draw on the fact that the crime data has lots of exciting geo-data attached. The map we're going to be creating is called a **[choropleth map](https://en.wikipedia.org/wiki/Choropleth_map)** (more on these later), which is basically a map, where we color in shapefiles (more on this below) based on some value that we care about. We'll take our inspiration from Plotly's gentle intro to [Choropleth maps](https://plotly.com/python/mapbox-county-choropleth/)\n",
    "\n",
    "The thing we want to look into is the SF police districts, shown below (image stolen from [this page](https://hoodline.com/2015/07/citywide-sfpd-redistricting-to-take-effect-sunday/)).\n",
    "\n",
    "![districts from web](https://raw.githubusercontent.com/suneman/socialdata2021/master/files/sfpdfinal.png)\n",
    "\n",
    "But because we are cool programmers, we want to create our own maps, **with our own information on them**. Let's do it!\n",
    "\n",
    "> *Exercise*: Let's plot a map with some random values in it. <font color=\"gray\"></font>\n",
    "\n",
    "<div class=\"alert alert-block alert-info\">\n",
    "For this exercise, it will be tempting to ask your LLM for a lot of help ... but - again - don't let it do the work for you. Use it as a helper - not an end-to-end solution. There are many new concepts to understand, and doing the exercise yourself is the best way to begin to get the nitty-gritty details of maps and shapefiles under your skin. Once you get the idea of shapefiles and how they work into your human head, it will unlock new & powerful ways of thinking.\n",
    "</div>\n",
    "\n",
    "> What we need to do to get going is some random data. Below is a little dictionary with a random value for each district."
   ]
  },
  {
   "cell_type": "code",
   "execution_count": 10,
   "metadata": {},
   "outputs": [],
   "source": [
    "randomdata = {\n",
    "    'CENTRAL': 0.4821,\n",
    "    'SOUTHERN': 0.9153,\n",
    "    'BAYVIEW': 0.3674,\n",
    "    'MISSION': 0.7542,\n",
    "    'PARK': 0.6285,\n",
    "    'RICHMOND': 0.2147,\n",
    "    'INGLESIDE': 0.05391,\n",
    "    'TARAVAL': 0.007846,\n",
    "    'NORTHERN': 0.4938,\n",
    "    'TENDERLOIN': 0.08127\n",
    "}"
   ]
  },
  {
   "cell_type": "markdown",
   "metadata": {},
   "source": [
    "> *Exercise* (continued):\n",
    ">\n",
    "> For this exercise, we'll use use the random values above and we'll also need some *shape-files*.\n",
    "> [Shapefiles can have many different formats](https://en.wikipedia.org/wiki/Shapefile). Because we are brilliant teachers and an all-round standup people, we are sharing the shapefiles as [`geojson`](https://en.wikipedia.org/wiki/GeoJSON), which is an easy-to-use format for shapefiles based on `json`.\n",
    ">\n",
    "> * Download the SFPD District shapefiles **[here](https://raw.githubusercontent.com/suneman/socialdata2025/main/files/sfpd.geojson)**\n",
    "> * Now that you have the shapefiles, you can follow the example here: https://plotly.com/python/mapbox-county-choropleth/ but with the following modifications:\n",
    ">    * In the example the `id` is a so-called FIPS code. In our case the `id` is the `DISTRICT`\n",
    ">    * You will have to convert the dictionary of random values I included above to a Pandas dataframe with the right column headings.\n",
    ">    * The data used in the example has a range between zero and 12. Your data is between $[0,1]$. So you'll need to modify the plotting command to accound for that change.\n",
    ">    * You should also change the map to display the right zoom level.\n",
    ">    * And the map should center on San Francisco's `lat` and `lon`.\n",
    "> * Now you can create your map.\n",
    "\n",
    "Mine looks something like this (but I've changed the random values to make it more fun, so expect your colors to be different.).\n",
    "\n",
    "\n",
    "\n",
    "<img src=\"https://raw.githubusercontent.com/suneman/socialdata2025/main/files/map_example.png\" alt=\"example\" style=\"width:800px;\"/>\n",
    "\n",
    "You're encouraged to play around with other settings, color schemes, etc."
   ]
  },
  {
   "cell_type": "markdown",
   "metadata": {},
   "source": [
    "> *Exercise:* But it's crime-data. Let's do something useful and **visualize where it is safest to leave your car on a Sunday**.\n",
    "> \n",
    "> Take a moment to congratulate yourself. You now know how to create cool map plots!\n",
    "> * Now, we can focus on our main goal: *determine the districts where you should (and should not) leave your car on Sundays*. (Or stated differently, count up the number of thefts.)\n",
    "> * To do so, first:\n",
    ">  * Filter the crime dataset by the `DayOfWeek` category and also choose the appropriate crime category.\n",
    ">  * Aggregate data by police district.\n",
    "> * To create the plot, remember that your range of data-values is different from before, so you'll have to change the plotly command a bit.\n",
    "> * Create a nice plot that shows the crime-levels and highlights the safest area. Remember that we want a colorbar to explain what the colors mean ... and all the other formatting needed for a nice plot.\n",
    "> * Based on your map and analysis, where should you park the car for it to be safest on a Sunday? And where's the worst place?\n",
    "> * Using visualizatios can help us uncover powerful data-patterns. However, when designing visualizations, we need to be aware of several illusions that can lead viewers to misinterpret the data we are showing (i.e. *perceptual errors*):\n",
    ">    * Try to change the range of data-values in the plot above. Is there a way to make the difference between district less evident? \n",
    ">    * Why do you think perceptual errors are a problem? Try to think of a few examples. You can have a look at this [article](https://www.businessinsider.com/fox-news-obamacare-chart-2014-3?r=US&IR=T) to get some inspiration.\n",
    "> * <font color=\"gray\">Optional LLM challenge: Use your LLM and your existing code to easily create plots for the same crime type, but different days, and comment on the results.</font>\n",
    "\n",
    "<div class=\"alert alert-block alert-info\">\n",
    "For this final exercise, go nuts with using your LLM (but this is only OK if you've already solved the previous one on your own).\n",
    "</div>"
   ]
  },
  {
   "cell_type": "code",
   "execution_count": null,
   "metadata": {},
   "outputs": [],
   "source": []
  }
 ],
 "metadata": {
  "kernelspec": {
   "display_name": "02806",
   "language": "python",
   "name": "python3"
  },
  "language_info": {
   "codemirror_mode": {
    "name": "ipython",
    "version": 3
   },
   "file_extension": ".py",
   "mimetype": "text/x-python",
   "name": "python",
   "nbconvert_exporter": "python",
   "pygments_lexer": "ipython3",
   "version": "3.13.1"
  }
 },
 "nbformat": 4,
 "nbformat_minor": 4
}
