{
 "cells": [
  {
   "cell_type": "code",
   "execution_count": 2,
   "metadata": {},
   "outputs": [],
   "source": [
    "import matplotlib.pyplot as plt\n",
    "import pandas as pd\n",
    "import os\n",
    "\n",
    "# Loading the data \n",
    "data_path = os.path.abspath(os.path.join(os.pardir, \"data\"))\n",
    "cleaned_data_path = os.path.join(data_path, \"Police_Department_Incident_Reports_Complete.csv\")\n",
    "df = pd.read_csv(cleaned_data_path)\n",
    "\n",
    "# Define focus crimes\n",
    "focuscrimes = set([\n",
    "    'DRUG/NARCOTIC',\n",
    "])\n",
    "\n",
    "# Filter data for focus crimes\n",
    "df_focus = df[df['Category'].isin(focuscrimes)]"
   ]
  }
 ],
 "metadata": {
  "kernelspec": {
   "display_name": "Python 3",
   "language": "python",
   "name": "python3"
  },
  "language_info": {
   "codemirror_mode": {
    "name": "ipython",
    "version": 3
   },
   "file_extension": ".py",
   "mimetype": "text/x-python",
   "name": "python",
   "nbconvert_exporter": "python",
   "pygments_lexer": "ipython3",
   "version": "3.11.0"
  }
 },
 "nbformat": 4,
 "nbformat_minor": 2
}
