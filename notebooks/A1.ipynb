{
 "cells": [
  {
   "cell_type": "markdown",
   "metadata": {},
   "source": [
    "# Assignment 1\n",
    "\n",
    "By Group 66:\n",
    "\n",
    "-   Aleksandar Lukic - s194066\n",
    "-   Paula Barho - s242926\n",
    "-   Victor Gustav Harbo Rasmussen - s204475"
   ]
  },
  {
   "cell_type": "markdown",
   "metadata": {},
   "source": [
    "W1ex3 - common\n",
    "\n",
    "w2ex4\n",
    "1. Paula (calender plot)\n",
    "2. Alek (polar plot (category+grid))\n",
    "3. Victor (Time series)\n",
    "\n",
    "w2ex2\n",
    "1. Alek\n",
    "\n",
    "w2ex3\n",
    "1. Alek (review: Victor + Paula)\n",
    "\n",
    "w3ex3\n",
    "part 1\n",
    "1. Victor (Jitter, more distance)\n",
    "2. Paula (Histograms)\n",
    "3. Paula (KDE + latitudes)\n",
    "4. Victor (Prob. density)\n",
    "\n",
    "part 2\n",
    "1. Paula (Maybe side by side) (Count)\n",
    "2. Paula (Hour)\n",
    "\n",
    "\n",
    "\n",
    "\n",
    "\n",
    "\n"
   ]
  }
 ],
 "metadata": {
  "language_info": {
   "name": "python"
  }
 },
 "nbformat": 4,
 "nbformat_minor": 2
}
