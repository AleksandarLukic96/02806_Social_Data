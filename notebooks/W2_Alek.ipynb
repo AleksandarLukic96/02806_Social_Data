{
 "cells": [
  {
   "cell_type": "markdown",
   "metadata": {},
   "source": [
    "# Week 2 - Visualizations\n",
    "\n",
    "By Group XX:\n",
    "\n",
    "-   Aleksandar Lukic - s194066\n",
    "-   Paula Barho - s242926\n",
    "-   Victor Gustav Harbo Rasmussen - s204475\n",
    "\n",
    "As explained in in class during Lecture 1, each week of this class is an Jupyter notebook like this one. In order to follow the class, you simply start reading from the top, following the instructions."
   ]
  },
  {
   "cell_type": "markdown",
   "metadata": {},
   "source": [
    "## Overview\n",
    "\n",
    "Today's lecture does a few things.\n",
    "* First there is an introduction to data visualization incl a little exercise and a video (Part 1). \n",
    "* As the main event, we will work with crime-data and generate a large number of interesting and informative plots (Part 2,4,5).\n",
    "* We will also talk a bit about what makes a good plot (Part 3)."
   ]
  },
  {
   "cell_type": "markdown",
   "metadata": {},
   "source": [
    "## Part 1: A little visualization exercise\n",
    "\n",
    "Start by downloading these four datasets: [Data 1](https://raw.githubusercontent.com/suneman/socialdata2023/main/files/data1.tsv), [Data 2](https://raw.githubusercontent.com/suneman/socialdata2023/main/files/data2.tsv), [Data 3](https://raw.githubusercontent.com/suneman/socialdata2023/main/files/data3.tsv), and [Data 4](https://raw.githubusercontent.com/suneman/socialdata2023/main/files/data4.tsv). The format is `.tsv`, which stands for _tab separated values_. \n",
    "As you will later realize, these are famous datasets!\n",
    "Each file has two columns (separated using the tab character). The first column is $x$-values, and the second column is $y$-values.  \n",
    "\n",
    "Now, to the exercise:"
   ]
  },
  {
   "cell_type": "code",
   "execution_count": 112,
   "metadata": {},
   "outputs": [],
   "source": [
    "import matplotlib.pyplot as plt\n",
    "import os\n",
    "import numpy as np\n",
    "import pandas as pd\n",
    "from scipy import stats"
   ]
  },
  {
   "cell_type": "code",
   "execution_count": 113,
   "metadata": {},
   "outputs": [],
   "source": [
    "# Set pandas display options to show all columns for .head command\n",
    "pd.set_option('display.max_columns', None)  # Show all columns\n",
    "pd.set_option('display.width', None)        # Auto-detect the display width\n",
    "pd.set_option('display.max_colwidth', None) # Show full content of each column"
   ]
  },
  {
   "cell_type": "code",
   "execution_count": 114,
   "metadata": {},
   "outputs": [
    {
     "data": {
      "text/plain": [
       "'/home/aleksandar-lukic/school/02806_Social_Data/files'"
      ]
     },
     "execution_count": 114,
     "metadata": {},
     "output_type": "execute_result"
    }
   ],
   "source": [
    "# Get path of data directory\n",
    "files_path = os.path.abspath(os.path.join(os.pardir, \"files\"))\n",
    "files_path"
   ]
  },
  {
   "cell_type": "code",
   "execution_count": 115,
   "metadata": {},
   "outputs": [],
   "source": [
    "# Create paths to the datasets\n",
    "data_1_path = os.path.join(files_path, \"data1.tsv\")\n",
    "data_2_path = os.path.join(files_path, \"data2.tsv\")\n",
    "data_3_path = os.path.join(files_path, \"data3.tsv\")\n",
    "data_4_path = os.path.join(files_path, \"data4.tsv\") \n",
    "\n",
    "# Load the datasets from the files folder\n",
    "df_1 = pd.read_csv(data_1_path, sep='\\t', header=None)\n",
    "df_2 = pd.read_csv(data_2_path, sep='\\t', header=None)\n",
    "df_3 = pd.read_csv(data_3_path, sep='\\t', header=None)\n",
    "df_4 = pd.read_csv(data_4_path, sep='\\t', header=None)"
   ]
  },
  {
   "cell_type": "code",
   "execution_count": 116,
   "metadata": {},
   "outputs": [],
   "source": [
    "# Define the X and Y columns for each dataset\n",
    "X1 = df_1.iloc[:, 0]\n",
    "Y1 = df_1.iloc[:, 1]\n",
    "X2 = df_2.iloc[:, 0]\n",
    "Y2 = df_2.iloc[:, 1]\n",
    "X3 = df_3.iloc[:, 0]\n",
    "Y3 = df_3.iloc[:, 1]\n",
    "X4 = df_4.iloc[:, 0]\n",
    "Y4 = df_4.iloc[:, 1]"
   ]
  },
  {
   "cell_type": "markdown",
   "metadata": {},
   "source": [
    "> *Exercise*: \n",
    "> \n",
    "> * Using the `numpy` function `mean`, calculate the mean of both $x$-values and $y$-values for each dataset. \n",
    ">      * Use python string formatting to print precisely two decimal places of these results to the output cell. Check out [this _stackoverflow_ page](http://stackoverflow.com/questions/8885663/how-to-format-a-floating-number-to-fixed-width-in-python) for help with the string formatting. <font color='grey'>You may also ask an LLM about the string formatting, but make sure it doesn't just give you the answer: Ask how string formatting works, get some examples, and solve your own problem based on that.</font>"
   ]
  },
  {
   "cell_type": "code",
   "execution_count": 117,
   "metadata": {},
   "outputs": [],
   "source": [
    "# Calculate the mean values for each dataset\n",
    "mean_x_1 = np.mean(X1)\n",
    "mean_y_1 = np.mean(Y1)\n",
    "mean_x_2 = np.mean(X2)\n",
    "mean_y_2 = np.mean(Y2)\n",
    "mean_x_3 = np.mean(X3)\n",
    "mean_y_3 = np.mean(Y3)\n",
    "mean_x_4 = np.mean(X4)\n",
    "mean_y_4 = np.mean(Y4)"
   ]
  },
  {
   "cell_type": "code",
   "execution_count": 118,
   "metadata": {},
   "outputs": [
    {
     "name": "stdout",
     "output_type": "stream",
     "text": [
      "MEANS\n",
      "('x_1', '9.00')\n",
      "('y_1', '7.50')\n",
      "('x_2', '9.00')\n",
      "('y_2', '7.50')\n",
      "('x_3', '9.00')\n",
      "('y_3', '7.50')\n",
      "('x_4', '9.00')\n",
      "('y_4', '7.50')\n"
     ]
    }
   ],
   "source": [
    "# Formating the mean values to 2 decimal places\n",
    "means = [mean_x_1, mean_y_1, mean_x_2, mean_y_2, mean_x_3, mean_y_3, mean_x_4, mean_y_4]\n",
    "names = [\"x_1\", \"y_1\", \"x_2\", \"y_2\", \"x_3\", \"y_3\", \"x_4\", \"y_4\"]\n",
    "means_rounded = ['%.2f' % mu for mu in means]\n",
    "\n",
    "# Formating with column names and mean values\n",
    "res = zip(names, means_rounded)\n",
    "print(\"MEANS\")\n",
    "print(*res, sep = \"\\n\")"
   ]
  },
  {
   "cell_type": "markdown",
   "metadata": {},
   "source": [
    "> * Now calculate the variance for all of the various sets of $x$- and $y$-values, by using the `numpy` function `var`. <font color='grey'>You should be able to do this without any help from LLMs.</font> Print it to three decimal places."
   ]
  },
  {
   "cell_type": "code",
   "execution_count": 119,
   "metadata": {},
   "outputs": [],
   "source": [
    "# Calculate the variances for each dataset\n",
    "var_x_1 = np.var(X1)\n",
    "var_y_1 = np.var(Y1)\n",
    "var_x_2 = np.var(X2)\n",
    "var_y_2 = np.var(Y2)\n",
    "var_x_3 = np.var(X3)\n",
    "var_y_3 = np.var(Y3)\n",
    "var_x_4 = np.var(X4)\n",
    "var_y_4 = np.var(Y4)"
   ]
  },
  {
   "cell_type": "code",
   "execution_count": 120,
   "metadata": {},
   "outputs": [
    {
     "name": "stdout",
     "output_type": "stream",
     "text": [
      "VARIANCES\n",
      "('x_1', '10.000')\n",
      "('y_1', '3.752')\n",
      "('x_2', '10.000')\n",
      "('y_2', '3.752')\n",
      "('x_3', '10.000')\n",
      "('y_3', '3.748')\n",
      "('x_4', '10.000')\n",
      "('y_4', '3.748')\n"
     ]
    }
   ],
   "source": [
    "# Formating the variances to 2 decimal places\n",
    "vars = [var_x_1, var_y_1, var_x_2, var_y_2, var_x_3, var_y_3, var_x_4, var_y_4]\n",
    "names = [\"x_1\", \"y_1\", \"x_2\", \"y_2\", \"x_3\", \"y_3\", \"x_4\", \"y_4\"]\n",
    "vars_rounded = ['%.3f' % sigma for sigma in vars]\n",
    "\n",
    "# Formating with column names and mean values\n",
    "res = zip(names, vars_rounded)\n",
    "print(\"VARIANCES\")\n",
    "print(*res, sep = \"\\n\")"
   ]
  },
  {
   "cell_type": "markdown",
   "metadata": {},
   "source": [
    "> * Use `numpy` to calculate the [Pearson correlation](https://en.wikipedia.org/wiki/Pearson_product-moment_correlation_coefficient) between $x$- and $y$-values for all four data sets (also print to three decimal places)."
   ]
  },
  {
   "cell_type": "code",
   "execution_count": 121,
   "metadata": {},
   "outputs": [],
   "source": [
    "# Calculate the Pearson correlation coefficient for each dataset\n",
    "corr_1 = np.corrcoef(X1, Y1)[0][1]\n",
    "corr_2 = np.corrcoef(X2, Y2)[0][1]\n",
    "corr_3 = np.corrcoef(X3, Y3)[0][1]\n",
    "corr_4 = np.corrcoef(X4, Y4)[0][1]"
   ]
  },
  {
   "cell_type": "code",
   "execution_count": 122,
   "metadata": {},
   "outputs": [
    {
     "name": "stdout",
     "output_type": "stream",
     "text": [
      "PEARSON CORRELATION COEFFICIENTS\n",
      "('X1', 'Y1', '10.000')\n",
      "('X2', 'Y2', '3.752')\n",
      "('X3', 'Y3', '10.000')\n",
      "('X4', 'Y4', '3.752')\n"
     ]
    }
   ],
   "source": [
    "# Formating the correlation coefficients to 3 decimal places\n",
    "corrs = [corr_1, corr_2, corr_3, corr_4]\n",
    "corrs_rounded = ['%.3f' % corr for corr in corrs]\n",
    "\n",
    "# Formating with column names and mean values\n",
    "res = zip(\n",
    "    [\"X1\", \"X2\", \"X3\", \"X4\"], \n",
    "    [\"Y1\", \"Y2\", \"Y3\", \"Y4\"], \n",
    "    vars_rounded\n",
    ")\n",
    "print(\"PEARSON CORRELATION COEFFICIENTS\")\n",
    "print(*res, sep = \"\\n\")"
   ]
  },
  {
   "cell_type": "markdown",
   "metadata": {},
   "source": [
    "> * The next step is use _linear regression_ to fit a straight line $f(x) = a x + b$ through each dataset and report $a$ and $b$ (to two decimal places). An easy way to fit a straight line in Python is using `scipy`'s `linregress`. It works like this\n",
    "> ```\n",
    "> from scipy import stats\n",
    "> a, b, r_value, p_value, std_err = stats.linregress(x,y)\n",
    ">```"
   ]
  },
  {
   "cell_type": "code",
   "execution_count": 123,
   "metadata": {},
   "outputs": [],
   "source": [
    "# Helper function to print the linear regression results\n",
    "def compute_linear_regression(X, Y):\n",
    "    a, b, r_value, p_value, std_err = stats.linregress(X, Y)\n",
    "    print(\"a: \", '%.3f' % a)\n",
    "    print(\"b: \", '%.3f' % b)\n",
    "    print(\"R-squared: \", '%.3f' % r_value**2)\n",
    "    print(\"P-value: \", '%.3f' % p_value)\n",
    "    print(\"Standard error: \", '%.3f' % std_err)\n",
    "    print(\"\\n\")\n",
    "    return a, b, r_value, p_value, std_err"
   ]
  },
  {
   "cell_type": "code",
   "execution_count": 124,
   "metadata": {},
   "outputs": [
    {
     "name": "stdout",
     "output_type": "stream",
     "text": [
      "a:  0.500\n",
      "b:  3.000\n",
      "R-squared:  0.667\n",
      "P-value:  0.002\n",
      "Standard error:  0.118\n",
      "\n",
      "\n",
      "a:  0.500\n",
      "b:  3.001\n",
      "R-squared:  0.666\n",
      "P-value:  0.002\n",
      "Standard error:  0.118\n",
      "\n",
      "\n",
      "a:  0.500\n",
      "b:  3.002\n",
      "R-squared:  0.666\n",
      "P-value:  0.002\n",
      "Standard error:  0.118\n",
      "\n",
      "\n",
      "a:  0.500\n",
      "b:  3.002\n",
      "R-squared:  0.667\n",
      "P-value:  0.002\n",
      "Standard error:  0.118\n",
      "\n",
      "\n"
     ]
    }
   ],
   "source": [
    "a_1, b_1, r_value_1, p_value_1, std_err_1 = compute_linear_regression(X1, Y1)\n",
    "a_2, b_2, r_value_2, p_value_2, std_err_2 = compute_linear_regression(X2, Y2)\n",
    "a_3, b_3, r_value_3, p_value_3, std_err_3 = compute_linear_regression(X3, Y3)\n",
    "a_4, b_4, r_value_4, p_value_4, std_err_4 = compute_linear_regression(X4, Y4)"
   ]
  },
  {
   "cell_type": "markdown",
   "metadata": {},
   "source": [
    "> * Comment on the results from the previous steps. What do you observe? "
   ]
  },
  {
   "cell_type": "markdown",
   "metadata": {},
   "source": [
    "It would seem so far, that the four datasets share very similar statistical properties. This could suggest that the dataset are identical or very similar in their datapoints."
   ]
  },
  {
   "cell_type": "markdown",
   "metadata": {},
   "source": [
    "> * Finally, it's time to plot the four datasets using `matplotlib.pyplot`. Use a two-by-two [`subplot`](http://matplotlib.org/examples/pylab_examples/subplot_demo.html) to put all of the plots nicely in a grid and use the same $x$ and $y$ range for all four plots. And include the linear fit in all four plots. (To get a sense of what I think the plot should look like, you can take a look at my version [here](https://raw.githubusercontent.com/suneman/socialdata2023/main/files/anscombe.png).) <font color='grey'>For this sub-exercise, try to write the code based on the example I link to. If you get stuck, you may use your LLM to figure it out. But don't ask it for the solution, ask for help with figuring out how to use the functions!</font>"
   ]
  },
  {
   "cell_type": "code",
   "execution_count": 133,
   "metadata": {},
   "outputs": [
    {
     "data": {
      "image/png": "[encoded data removed]",
      "text/plain": [
       "<Figure size 1200x700 with 4 Axes>"
      ]
     },
     "metadata": {},
     "output_type": "display_data"
    }
   ],
   "source": [
    "# Create a 2x2 grid of subplots\n",
    "fig, axs = plt.subplots(2, 2, figsize=(12, 7))\n",
    "fig.tight_layout(pad = 5.0)  # Increase padding to avoid overlap\n",
    "\n",
    "# Set the same ranges of x- and y-axis for all subplots\n",
    "xlim = (0, 20)\n",
    "ylim = (0, 15)\n",
    "plt.setp(axs, xlim=xlim, ylim=ylim)\n",
    "\n",
    "# Plot the data points for each dataset\n",
    "axs[0, 0].scatter(X1, Y1, color='black', label='Data 1')\n",
    "axs[0, 0].set_title('Data 1')\n",
    "axs[0, 1].scatter(X2, Y2, color='black', label='Data 2')\n",
    "axs[0, 1].set_title('Data 2')\n",
    "axs[1, 0].scatter(X3, Y3, color='black', label='Data 3')\n",
    "axs[1, 0].set_title('Data 3')\n",
    "axs[1, 1].scatter(X4, Y4, color='black', label='Data 4')\n",
    "axs[1, 1].set_title('Data 4')\n",
    "\n",
    "# Plot the linear regression lines\n",
    "x = np.array(xlim)\n",
    "\n",
    "def fx(x, a, b):\n",
    "    return a*x + b\n",
    "\n",
    "axs[0, 0].plot(x, fx(x, a_1, b_1), color='red')\n",
    "axs[0, 1].plot(x, fx(x, a_2, b_2), color='red')\n",
    "axs[1, 0].plot(x, fx(x, a_3, b_3), color='red')\n",
    "axs[1, 1].plot(x, fx(x, a_4, b_4), color='red')\n",
    "\n",
    "plt.show()"
   ]
  },
  {
   "cell_type": "markdown",
   "metadata": {},
   "source": [
    "> * Explain - in your own words - what you think my point with this exercise is (see below for tips on this). <font color='grey'>Again, try to write down your own thoughts first. Then you can ask your LLM for help after that</font>."
   ]
  },
  {
   "cell_type": "markdown",
   "metadata": {},
   "source": [
    "As shown in the plots, the regression for all of the dataset are almost identical. However, this is simply a very intricate coinsidence, as the points are placed in a way which make the linear regression limited in its effectivness. These exact datasets are what makes up [_Anscombe's quartet_](https://en.wikipedia.org/wiki/Anscombe%27s_quartet). "
   ]
  },
  {
   "cell_type": "markdown",
   "metadata": {},
   "source": [
    "> * <font color='grey'>What did you get out of asking the LLM about the previous sub-question? How did you even go about asking the LLM about the point of the entire set of questions? Reflect on whether or not the LLM helped you get smarter?</font>"
   ]
  },
  {
   "cell_type": "markdown",
   "metadata": {},
   "source": [
    "We did not use any LLM for this exercise. Simply using google and reading the documentation was enough."
   ]
  },
  {
   "cell_type": "markdown",
   "metadata": {},
   "source": [
    "Get more insight in the ideas behind this exercise by reading [here](https://en.wikipedia.org/wiki/Anscombe%27s_quartet). Here you can also get an explanation of why the datasets are actually famous - I mean they have their own Wikipedia page!! <font color='grey'>After reading the wikipedia page, can you learn something from a LLM that's not in the wikipedia page?</font>\n",
    "\n",
    "<div class=\"alert alert-block alert-info\">\n",
    "All of the important LLM comments are in gray above.\n",
    "</div>"
   ]
  },
  {
   "cell_type": "markdown",
   "metadata": {},
   "source": [
    "Now that you get a better sense of why data visualization is an important and powerful tool, you are ready to get a small intro on the topic! Again, don't watch the video until **after** you've done exercise 1.1 "
   ]
  },
  {
   "cell_type": "code",
   "execution_count": 126,
   "metadata": {},
   "outputs": [
    {
     "data": {
      "image/jpeg": "[encoded data removed]",
      "text/html": [
       "\n",
       "        <iframe\n",
       "            width=\"800\"\n",
       "            height=\"450\"\n",
       "            src=\"https://www.youtube.com/embed/9D2aI30AMhM\"\n",
       "            frameborder=\"0\"\n",
       "            allowfullscreen\n",
       "            \n",
       "        ></iframe>\n",
       "        "
      ],
      "text/plain": [
       "<IPython.lib.display.YouTubeVideo at 0x77522e1bb4d0>"
      ]
     },
     "execution_count": 126,
     "metadata": {},
     "output_type": "execute_result"
    }
   ],
   "source": [
    "from IPython.display import YouTubeVideo\n",
    "YouTubeVideo('9D2aI30AMhM', width=800, height=450)"
   ]
  },
  {
   "cell_type": "markdown",
   "metadata": {},
   "source": [
    "> *Excercise:* Questions for the lecture. \n",
    "> \n",
    "> * What is the difference between *data* and *metadata*? How does that relate to the GPS tracks-example?\n",
    "> * Sune says that the human eye is a great tool for data analysis. Do you agree? Explain why/why not. Mention something that the human eye is very good at. Can you think of something that [is difficult for the human eye](http://cdn.ebaumsworld.com/mediaFiles/picture/718392/84732652.jpg). Explain why your example is difficult. \n",
    "> * Simpson's paradox is hard to explain. Come up with your own example - or find one on line.\n",
    "> * In your own words, explain the differnece between *exploratory* and *explanatory* data analysis.\n",
    ">\n",
    "\n",
    "<div class=\"alert alert-block alert-info\">\n",
    "Answer in your own words based on the video, don't use your LLM. Once you've written down your answers, it's OK to use the LLM to get better. It's easy to write a lot with LLMs, but here I want you to keep your answers short and precise.\n",
    "</div>\n"
   ]
  },
  {
   "cell_type": "markdown",
   "metadata": {},
   "source": [
    "## Part 2: Visualizing patterns in the data\n",
    "\n",
    "Let's see if we can detect any interesting patterns in the big crime-data file from San Francisco you downloaded last week. We'll again only look at the focus-crimes."
   ]
  },
  {
   "cell_type": "code",
   "execution_count": 2,
   "metadata": {},
   "outputs": [],
   "source": [
    "focuscrimes = set([\n",
    "    'ASSAULT',\n",
    "    'BURGLARY',\n",
    "    'DRUG/NARCOTIC',\n",
    "    'DRUNKENNESS',\n",
    "    'LARCENY/THEFT',\n",
    "    'PROSTITUTION',\n",
    "    'ROBBERY',\n",
    "    'STOLEN PROPERTY',\n",
    "    'TRESPASS',\n",
    "    'VANDALISM',\n",
    "    'VEHICLE THEFT',\n",
    "    'WEAPON LAWS',\n",
    "])"
   ]
  },
  {
   "cell_type": "markdown",
   "metadata": {},
   "source": [
    "> *Exercise*: More temporal patterns. Last time we plotted the development over time (how each of the focus crimes changed over time, year-by-year). Today we'll start by looking at the developments across the months, weekdays, and across the 24 hours of the day. \n",
    ">\n",
    "> **Note:** restrict yourself to the dataset of *entire years*.\n",
    ">"
   ]
  },
  {
   "cell_type": "code",
   "execution_count": null,
   "metadata": {},
   "outputs": [],
   "source": []
  },
  {
   "cell_type": "markdown",
   "metadata": {},
   "source": [
    "> * *Weekly patterns*. Basically, we'll forget about the yearly variation and just count up what happens during each weekday. [Here's what my version looks like](https://raw.githubusercontent.com/suneman/socialdata2022/main/files/weekdays.png). Some things make sense - for example `drunkenness` and the weekend. But there are some aspects that were surprising to me. Check out `prostitution` and mid-week behavior, for example!?\n",
    "> * *The months*. We can also check if some months are worse by counting up number of crimes in Jan, Feb, ..., Dec. Did you see any surprises there?\n",
    "> * *The 24 hour cycle*. We can also forget about weekday and simply count up the number of each crime-type that occurs in the dataset from midnight to 1am, 1am - 2am ... and so on. Again: Give me a couple of comments on what you see. \n",
    "> * *Hours of the week*. But by looking at just 24 hours, we may be missing some important trends that can be modulated by week-day, so let's also check out the 168 hours of the week. So let's see the number of each crime-type Monday night from midninght to 1am, Monday night from 1am-2am - all the way to Sunday night from 11pm to midnight.\n",
    ">\n",
    "> <font color=\"grey\">It's OK to ask your LLM for help with creating these plots, but</font>\n",
    ">\n",
    "> * <font color=\"grey\">Try on your own first,</font>\n",
    "> * <font color=\"grey\">Then use the LLM ***as a kind of TA*** to help you get your code to work.</font>\n",
    ">   \n",
    "> <font color=\"grey\">So don't just ask for answers and pre-written code, then you won't learn how to code & plot in Python - especially the parts about counting the various dates. By actually doing it, you'll start to get a feel for how to slice and dice your dataset according to temporal markers - and that's a key part of data science. You'll be on your way to becoming a true *data whisperer*</font>.\n",
    "\n",
    "<div class=\"alert alert-block alert-info\">\n",
    "It's OK to ask your LLM for help with creating these plots, but try on your own first, only after that use the LLM ***as a kind of TA*** to help you get your code to work. Don't just ask for answers and pre-written code, since then you won't learn how to code & plot in Python - especially the parts about counting the various dates. By actually doing it, you'll start to get a feel for how to slice and dice your dataset according to temporal markers - and that's a key part of data science. You'll be on your way to becoming a true data whisperer.\n",
    "</div>\n"
   ]
  },
  {
   "cell_type": "markdown",
   "metadata": {},
   "source": [
    "**Fun little thing**: To further make the point of the exercise in Part 1, check out this video on youtube https://www.youtube.com/watch?v=DbJyPELmhJc  "
   ]
  },
  {
   "cell_type": "markdown",
   "metadata": {},
   "source": [
    "# Part 3: Creating nice plots\n",
    "\n",
    "Ok. There's a lot of barcharts today. We need them ... they are a fantastic tool for data exploration. But it can get monotonous, so let's take a little break to talk about something else before digging deeper with the barcharts.\n",
    "\n",
    "I want to tell you a bit about how to make nice plots. I do that in the video below"
   ]
  },
  {
   "cell_type": "code",
   "execution_count": 128,
   "metadata": {},
   "outputs": [
    {
     "data": {
      "image/jpeg": "[encoded data removed]",
      "text/html": [
       "\n",
       "        <iframe\n",
       "            width=\"800\"\n",
       "            height=\"450\"\n",
       "            src=\"https://www.youtube.com/embed/9hIu4pgJXQc\"\n",
       "            frameborder=\"0\"\n",
       "            allowfullscreen\n",
       "            \n",
       "        ></iframe>\n",
       "        "
      ],
      "text/plain": [
       "<IPython.lib.display.YouTubeVideo at 0x77522f603e10>"
      ]
     },
     "execution_count": 128,
     "metadata": {},
     "output_type": "execute_result"
    }
   ],
   "source": [
    "YouTubeVideo('9hIu4pgJXQc', width=800, height=450)"
   ]
  },
  {
   "cell_type": "markdown",
   "metadata": {},
   "source": [
    "> *Exercise:* Nice plots. \n",
    ">\n",
    "> * Create a list of 10 rules for nice plots based on the video.\n",
    "\n",
    "<div class=\"alert alert-block alert-info\">\n",
    "Answer in your own words, do your own research, don't use your LLM. Once you've written down your answers, it's OK to use the LLM to get better.\n",
    "</div>"
   ]
  },
  {
   "cell_type": "markdown",
   "metadata": {},
   "source": [
    "# Part 4: Exploring other types of plots for temporal data\n",
    "\n",
    "We continue our mini-break from barcharts by exploring more ways to plot temporal data.\n",
    "\n",
    "> *Exercise:* Other cool ways to plot temporal data. I am going to introduce three different plot-types. Then your job is to choose a part of the crime-data that you care about - and plot it using these new ways of visualizing data. <font color=\"grey\">For this one, you may use the full power of your LLM! Yes, I'm serious. Go nuts and see if you can get these plots going by fully relying on code generated by your LLM</font>. In case you want to use the *old ways* (that's of course always OK), I've included links and tips. \n",
    ">\n",
    ">I recommend that you choose a different part of the crime-data for each plot-type.\n",
    "> * Calendar plots. Get started on calendar plots **[here](https://calplot.readthedocs.io/en/latest/)**. There are other packages for plotting these, those are also OK to use.\n",
    "> * [Polar bar chart](https://user-images.githubusercontent.com/12328192/89272649-be76e200-d63e-11ea-97ad-fd1ba5831c89.png). Here I want you to plot a 24-hour pattern of some sort -- those work really well in radial plots (another name for polar plots) because the day  wraps around on itself. You can also try plotting data with patterns from the 168 hours of the week. There's not one super-awesome solution here, you can try using [pure matplotlib](https://matplotlib.org/stable/gallery/pie_and_polar_charts/polar_bar.html) ... [some examples here](https://www.python-graph-gallery.com/circular-barplot/) or via [plotly](https://plotly.com/python/polar-chart/) (scroll down a bit for the polar barchart).\n",
    "> * Time series. Time series is a key functionality of `Pandas`, so here I simply recommend starting by searching your favorite search engine for something like `time series` `pandas`\n",
    "> * Reflection (<font color=\"grey\">no LLM help here</font>): What did you learn from using LLM's to simply solve everything in this exercise (in contrast to the previous ones).\n",
    "\n",
    "**Note**: I added this exercise with fewer hints than usual. Normally, I help you break down the problems into small solvable bits. <font color=\"grey\">Since this is a LLM exercise, I haven't done that. But I encourage you to play with figuring out the steps in solving the problem. You can ask the LLM to help you if you like (but perhaps try yourself first and compare to what the LLM suggested).</font> \n",
    "\n",
    "This ties in to a bigger picture thing about data science.\n",
    "\n",
    "*My philosophy for data science is this*: Getting to what you want rarely seems hard once you found your way there, the difficulty comes in breaking down a hard problem into the little steps you need to take to solve your complex problem. In this class, I usually do the breaking down for you and provide you with the steps (that's how you go from nothing to creating complex visualizations of crime-data). But I also want you to learn the breaking-problems-down part. <font color=\"grey\">This is one of the areas where LLMs can be of help -- they excel at breaking down problems into smaller bits -- but if you don't try yourself, you'll never get good at it. So always create your own breakdown first, then see what the computer thinks. Perhaps it can help you get better at it 😀 </font>.\n",
    "\n",
    "*My approach is always to think*: Even if my task seems impossible, I think: \"is there any problem that I ***CAN*** solve that will get me closer to where I want to go?\" Once I've solved that part, I'm smarter and I try to think: \"Is there a new problem I can solve that'll get me closer knowing what I know now?\" And I just keep going. Usually that's enough.\n",
    "\n",
    "*If that seems too abstract*, a useful goal for you is to use your internet searching skills (old fashioned ones) to figure out how to make each visualization work -- look for examples, tutorials, stack overflow posts, people who have found the same error messages as you, etc, etc. <font color=\"grey\">And of course consulting your LLM</font>.\n",
    "\n",
    "<div class=\"alert alert-block alert-info\">\n",
    "Detailed LLM hints in gray in the text itself.\n",
    "</div>"
   ]
  },
  {
   "cell_type": "markdown",
   "metadata": {},
   "source": [
    "# Part 5: Back to visualizing patterns in the data\n",
    "\n",
    "The next thing we'll be looking into is how crimes break down across the 10 districts in San Francisco. <font color=\"grey\">See if you can do this on your own - the calculations are fairly simple. If you get stuck, you may ask your LLM for advice, but don't use it to simply generate the plots. Use it as a help to get hints at how to solve the things you can't figure out on your own.</font>\n",
    "\n",
    "> *Exercise*: The types of crime and how they take place across San Francisco's police districts.\n",
    ">  \n",
    ">  * So now we'll be combining information about `PdDistrict` and `Category` to explore differences between SF's neighborhoods. First, simply list the names of SF's 10 police districts.\n",
    ">  * Which has the most crimes? Which has the most focus crimes?\n",
    ">  * Next, we want to generate a slightly more complicated graphic. I'm interested to know if there are certain crimes that happen much more in certain neighborhoods than what's typical. Below I describe how to get that plot going:\n",
    ">    - First, we need to calculate the relative probabilities of seeing each type of crime in the dataset as a whole. That's simply a normalized version of [this plot](https://raw.githubusercontent.com/suneman/socialdata2022/main/files/CrimeOccurrencesByCategory.png). Let's call it `P(crime)`.\n",
    ">    - Next, we calculate that same probability distribution _but for each PD district_, let's call that `P(crime|district)`.\n",
    ">    - Now we look at the ratio `P(crime|district)/P(crime)`. That ratio is equal to 1 if the crime occurs at the same level within a district as in the city as a whole. If it's greater than one, it means that the crime occurs _more frequently_ within that district. If it's smaller than one, it means that the crime is _rarer within the district in question_ than in the city as a whole.\n",
    ">    - For each district plot these ratios for the 14 focus crimes. My plot (based on 2003-2018 data) looks like this\n",
    "> ![Histograms](https://raw.githubusercontent.com/suneman/socialdata2022/main/files/conditional.png \"histograms\")\n",
    ">    - Comment on the top crimes in _Tenderloin_, _Mission_, and _Richmond_. Does this fit with the impression you get of these neighborhoods on Wikipedia <font color=\"grey\">(or from your LLM's description of those neighborhoods)</font>?\n",
    ">    - What neighborhood would you prefer to live in? Explain why?\n",
    ">    - <font color=\"grey\">BONUS QUESTION. Can you get your LLM to discuss the graphic you created? (E.g. by showing it the image) Did it notice anything you didn't?</font>\n",
    "\n",
    "<div class=\"alert alert-block alert-info\">\n",
    "Again, there are detailed LLM hints in gray in the text itself. The key advice is to always see if you can do this on your own - the calculations are fairly simple. Then ask an LLM for advice if you get stuck. Never use it to simply generate the plots. Use it as a help to get hints at how to solve the things you can't figure out on your own - that's how you get familar with how matplotlib actually works.\n",
    "</div>\n",
    "\n",
    "**Comment**. Notice how much awesome data science (i.e. learning about interesting real-world crime patterns) we can get out by simply counting and plotting (and looking at ratios). Pretty great, right? "
   ]
  },
  {
   "cell_type": "code",
   "execution_count": null,
   "metadata": {},
   "outputs": [],
   "source": []
  }
 ],
 "metadata": {
  "kernelspec": {
   "display_name": "02806",
   "language": "python",
   "name": "python3"
  },
  "language_info": {
   "codemirror_mode": {
    "name": "ipython",
    "version": 3
   },
   "file_extension": ".py",
   "mimetype": "text/x-python",
   "name": "python",
   "nbconvert_exporter": "python",
   "pygments_lexer": "ipython3",
   "version": "3.13.1"
  }
 },
 "nbformat": 4,
 "nbformat_minor": 4
}
