{
 "cells": [
  {
   "cell_type": "markdown",
   "metadata": {},
   "source": [
    "# Part 3: One interactive visualization in Bokeh"
   ]
  },
  {
   "cell_type": "markdown",
   "metadata": {},
   "source": [
    "### Data Loading"
   ]
  },
  {
   "cell_type": "code",
   "execution_count": 10,
   "metadata": {},
   "outputs": [],
   "source": [
    "# Imports\n",
    "import matplotlib.pyplot as plt\n",
    "import pandas as pd\n",
    "import os"
   ]
  },
  {
   "cell_type": "code",
   "execution_count": 11,
   "metadata": {},
   "outputs": [],
   "source": [
    "# Loading the data \n",
    "data_path = os.path.abspath(os.path.join(os.pardir, \"data\"))\n",
    "cleaned_data_path = os.path.join(data_path, \"Police_Department_Incident_Reports_Complete.csv\")\n",
    "df = pd.read_csv(cleaned_data_path)\n",
    "\n",
    "# Removing 2025 data\n",
    "df = df[df['Year'] != 2025]\n",
    "\n",
    "df_drug = df[df['Category'] == 'DRUG/NARCOTIC'].copy()"
   ]
  },
  {
   "cell_type": "markdown",
   "metadata": {},
   "source": [
    "### Bokeh plot"
   ]
  },
  {
   "cell_type": "code",
   "execution_count": 13,
   "metadata": {},
   "outputs": [
    {
     "data": {
      "text/html": [
       "    <style>\n",
       "        .bk-notebook-logo {\n",
       "            display: block;\n",
       "            width: 20px;\n",
       "            height: 20px;\n",
       "            background-image: url(data:image/png;base64,iVBORw0KGgoAAAANSUhEUgAAABQAAAAUCAYAAACNiR0NAAAABHNCSVQICAgIfAhkiAAAAAlwSFlzAAALEgAACxIB0t1+/AAAABx0RVh0U29mdHdhcmUAQWRvYmUgRmlyZXdvcmtzIENTNui8sowAAAOkSURBVDiNjZRtaJVlGMd/1/08zzln5zjP1LWcU9N0NkN8m2CYjpgQYQXqSs0I84OLIC0hkEKoPtiH3gmKoiJDU7QpLgoLjLIQCpEsNJ1vqUOdO7ppbuec5+V+rj4ctwzd8IIbbi6u+8f1539dt3A78eXC7QizUF7gyV1fD1Yqg4JWz84yffhm0qkFqBogB9rM8tZdtwVsPUhWhGcFJngGeWrPzHm5oaMmkfEg1usvLFyc8jLRqDOMru7AyC8saQr7GG7f5fvDeH7Ej8CM66nIF+8yngt6HWaKh7k49Soy9nXurCi1o3qUbS3zWfrYeQDTB/Qj6kX6Ybhw4B+bOYoLKCC9H3Nu/leUTZ1JdRWkkn2ldcCamzrcf47KKXdAJllSlxAOkRgyHsGC/zRday5Qld9DyoM4/q/rUoy/CXh3jzOu3bHUVZeU+DEn8FInkPBFlu3+nW3Nw0mk6vCDiWg8CeJaxEwuHS3+z5RgY+YBR6V1Z1nxSOfoaPa4LASWxxdNp+VWTk7+4vzaou8v8PN+xo+KY2xsw6une2frhw05CTYOmQvsEhjhWjn0bmXPjpE1+kplmmkP3suftwTubK9Vq22qKmrBhpY4jvd5afdRA3wGjFAgcnTK2s4hY0/GPNIb0nErGMCRxWOOX64Z8RAC4oCXdklmEvcL8o0BfkNK4lUg9HTl+oPlQxdNo3Mg4Nv175e/1LDGzZen30MEjRUtmXSfiTVu1kK8W4txyV6BMKlbgk3lMwYCiusNy9fVfvvwMxv8Ynl6vxoByANLTWplvuj/nF9m2+PDtt1eiHPBr1oIfhCChQMBw6Aw0UulqTKZdfVvfG7VcfIqLG9bcldL/+pdWTLxLUy8Qq38heUIjh4XlzZxzQm19lLFlr8vdQ97rjZVOLf8nclzckbcD4wxXMidpX30sFd37Fv/GtwwhzhxGVAprjbg0gCAEeIgwCZyTV2Z1REEW8O4py0wsjeloKoMr6iCY6dP92H6Vw/oTyICIthibxjm/DfN9lVz8IqtqKYLUXfoKVMVQVVJOElGjrnnUt9T9wbgp8AyYKaGlqingHZU/uG2NTZSVqwHQTWkx9hxjkpWDaCg6Ckj5qebgBVbT3V3NNXMSiWSDdGV3hrtzla7J+duwPOToIg42ChPQOQjspnSlp1V+Gjdged7+8UN5CRAV7a5EdFNwCjEaBR27b3W890TE7g24NAP/mMDXRWrGoFPQI9ls/MWO2dWFAar/xcOIImbbpA3zgAAAABJRU5ErkJggg==);\n",
       "        }\n",
       "    </style>\n",
       "    <div>\n",
       "        <a href=\"https://bokeh.org\" target=\"_blank\" class=\"bk-notebook-logo\"></a>\n",
       "        <span id=\"dbc8f888-069b-4768-b608-fb5db6b34371\">Loading BokehJS ...</span>\n",
       "    </div>\n"
      ]
     },
     "metadata": {},
     "output_type": "display_data"
    },
    {
     "data": {
      "application/javascript": "'use strict';\n(function(root) {\n  function now() {\n    return new Date();\n  }\n\n  const force = true;\n\n  if (typeof root._bokeh_onload_callbacks === \"undefined\" || force === true) {\n    root._bokeh_onload_callbacks = [];\n    root._bokeh_is_loading = undefined;\n  }\n\nconst JS_MIME_TYPE = 'application/javascript';\n  const HTML_MIME_TYPE = 'text/html';\n  const EXEC_MIME_TYPE = 'application/vnd.bokehjs_exec.v0+json';\n  const CLASS_NAME = 'output_bokeh rendered_html';\n\n  /**\n   * Render data to the DOM node\n   */\n  function render(props, node) {\n    const script = document.createElement(\"script\");\n    node.appendChild(script);\n  }\n\n  /**\n   * Handle when an output is cleared or removed\n   */\n  function handleClearOutput(event, handle) {\n    function drop(id) {\n      const view = Bokeh.index.get_by_id(id)\n      if (view != null) {\n        view.model.document.clear()\n        Bokeh.index.delete(view)\n      }\n    }\n\n    const cell = handle.cell;\n\n    const id = cell.output_area._bokeh_element_id;\n    const server_id = cell.output_area._bokeh_server_id;\n\n    // Clean up Bokeh references\n    if (id != null) {\n      drop(id)\n    }\n\n    if (server_id !== undefined) {\n      // Clean up Bokeh references\n      const cmd_clean = \"from bokeh.io.state import curstate; print(curstate().uuid_to_server['\" + server_id + \"'].get_sessions()[0].document.roots[0]._id)\";\n      cell.notebook.kernel.execute(cmd_clean, {\n        iopub: {\n          output: function(msg) {\n            const id = msg.content.text.trim()\n            drop(id)\n          }\n        }\n      });\n      // Destroy server and session\n      const cmd_destroy = \"import bokeh.io.notebook as ion; ion.destroy_server('\" + server_id + \"')\";\n      cell.notebook.kernel.execute(cmd_destroy);\n    }\n  }\n\n  /**\n   * Handle when a new output is added\n   */\n  function handleAddOutput(event, handle) {\n    const output_area = handle.output_area;\n    const output = handle.output;\n\n    // limit handleAddOutput to display_data with EXEC_MIME_TYPE content only\n    if ((output.output_type != \"display_data\") || (!Object.prototype.hasOwnProperty.call(output.data, EXEC_MIME_TYPE))) {\n      return\n    }\n\n    const toinsert = output_area.element.find(\".\" + CLASS_NAME.split(' ')[0]);\n\n    if (output.metadata[EXEC_MIME_TYPE][\"id\"] !== undefined) {\n      toinsert[toinsert.length - 1].firstChild.textContent = output.data[JS_MIME_TYPE];\n      // store reference to embed id on output_area\n      output_area._bokeh_element_id = output.metadata[EXEC_MIME_TYPE][\"id\"];\n    }\n    if (output.metadata[EXEC_MIME_TYPE][\"server_id\"] !== undefined) {\n      const bk_div = document.createElement(\"div\");\n      bk_div.innerHTML = output.data[HTML_MIME_TYPE];\n      const script_attrs = bk_div.children[0].attributes;\n      for (let i = 0; i < script_attrs.length; i++) {\n        toinsert[toinsert.length - 1].firstChild.setAttribute(script_attrs[i].name, script_attrs[i].value);\n        toinsert[toinsert.length - 1].firstChild.textContent = bk_div.children[0].textContent\n      }\n      // store reference to server id on output_area\n      output_area._bokeh_server_id = output.metadata[EXEC_MIME_TYPE][\"server_id\"];\n    }\n  }\n\n  function register_renderer(events, OutputArea) {\n\n    function append_mime(data, metadata, element) {\n      // create a DOM node to render to\n      const toinsert = this.create_output_subarea(\n        metadata,\n        CLASS_NAME,\n        EXEC_MIME_TYPE\n      );\n      this.keyboard_manager.register_events(toinsert);\n      // Render to node\n      const props = {data: data, metadata: metadata[EXEC_MIME_TYPE]};\n      render(props, toinsert[toinsert.length - 1]);\n      element.append(toinsert);\n      return toinsert\n    }\n\n    /* Handle when an output is cleared or removed */\n    events.on('clear_output.CodeCell', handleClearOutput);\n    events.on('delete.Cell', handleClearOutput);\n\n    /* Handle when a new output is added */\n    events.on('output_added.OutputArea', handleAddOutput);\n\n    /**\n     * Register the mime type and append_mime function with output_area\n     */\n    OutputArea.prototype.register_mime_type(EXEC_MIME_TYPE, append_mime, {\n      /* Is output safe? */\n      safe: true,\n      /* Index of renderer in `output_area.display_order` */\n      index: 0\n    });\n  }\n\n  // register the mime type if in Jupyter Notebook environment and previously unregistered\n  if (root.Jupyter !== undefined) {\n    const events = require('base/js/events');\n    const OutputArea = require('notebook/js/outputarea').OutputArea;\n\n    if (OutputArea.prototype.mime_types().indexOf(EXEC_MIME_TYPE) == -1) {\n      register_renderer(events, OutputArea);\n    }\n  }\n  if (typeof (root._bokeh_timeout) === \"undefined\" || force === true) {\n    root._bokeh_timeout = Date.now() + 5000;\n    root._bokeh_failed_load = false;\n  }\n\n  const NB_LOAD_WARNING = {'data': {'text/html':\n     \"<div style='background-color: #fdd'>\\n\"+\n     \"<p>\\n\"+\n     \"BokehJS does not appear to have successfully loaded. If loading BokehJS from CDN, this \\n\"+\n     \"may be due to a slow or bad network connection. Possible fixes:\\n\"+\n     \"</p>\\n\"+\n     \"<ul>\\n\"+\n     \"<li>re-rerun `output_notebook()` to attempt to load from CDN again, or</li>\\n\"+\n     \"<li>use INLINE resources instead, as so:</li>\\n\"+\n     \"</ul>\\n\"+\n     \"<code>\\n\"+\n     \"from bokeh.resources import INLINE\\n\"+\n     \"output_notebook(resources=INLINE)\\n\"+\n     \"</code>\\n\"+\n     \"</div>\"}};\n\n  function display_loaded(error = null) {\n    const el = document.getElementById(\"dbc8f888-069b-4768-b608-fb5db6b34371\");\n    if (el != null) {\n      const html = (() => {\n        if (typeof root.Bokeh === \"undefined\") {\n          if (error == null) {\n            return \"BokehJS is loading ...\";\n          } else {\n            return \"BokehJS failed to load.\";\n          }\n        } else {\n          const prefix = `BokehJS ${root.Bokeh.version}`;\n          if (error == null) {\n            return `${prefix} successfully loaded.`;\n          } else {\n            return `${prefix} <b>encountered errors</b> while loading and may not function as expected.`;\n          }\n        }\n      })();\n      el.innerHTML = html;\n\n      if (error != null) {\n        const wrapper = document.createElement(\"div\");\n        wrapper.style.overflow = \"auto\";\n        wrapper.style.height = \"5em\";\n        wrapper.style.resize = \"vertical\";\n        const content = document.createElement(\"div\");\n        content.style.fontFamily = \"monospace\";\n        content.style.whiteSpace = \"pre-wrap\";\n        content.style.backgroundColor = \"rgb(255, 221, 221)\";\n        content.textContent = error.stack ?? error.toString();\n        wrapper.append(content);\n        el.append(wrapper);\n      }\n    } else if (Date.now() < root._bokeh_timeout) {\n      setTimeout(() => display_loaded(error), 100);\n    }\n  }\n\n  function run_callbacks() {\n    try {\n      root._bokeh_onload_callbacks.forEach(function(callback) {\n        if (callback != null)\n          callback();\n      });\n    } finally {\n      delete root._bokeh_onload_callbacks\n    }\n    console.debug(\"Bokeh: all callbacks have finished\");\n  }\n\n  function load_libs(css_urls, js_urls, callback) {\n    if (css_urls == null) css_urls = [];\n    if (js_urls == null) js_urls = [];\n\n    root._bokeh_onload_callbacks.push(callback);\n    if (root._bokeh_is_loading > 0) {\n      console.debug(\"Bokeh: BokehJS is being loaded, scheduling callback at\", now());\n      return null;\n    }\n    if (js_urls == null || js_urls.length === 0) {\n      run_callbacks();\n      return null;\n    }\n    console.debug(\"Bokeh: BokehJS not loaded, scheduling load and callback at\", now());\n    root._bokeh_is_loading = css_urls.length + js_urls.length;\n\n    function on_load() {\n      root._bokeh_is_loading--;\n      if (root._bokeh_is_loading === 0) {\n        console.debug(\"Bokeh: all BokehJS libraries/stylesheets loaded\");\n        run_callbacks()\n      }\n    }\n\n    function on_error(url) {\n      console.error(\"failed to load \" + url);\n    }\n\n    for (let i = 0; i < css_urls.length; i++) {\n      const url = css_urls[i];\n      const element = document.createElement(\"link\");\n      element.onload = on_load;\n      element.onerror = on_error.bind(null, url);\n      element.rel = \"stylesheet\";\n      element.type = \"text/css\";\n      element.href = url;\n      console.debug(\"Bokeh: injecting link tag for BokehJS stylesheet: \", url);\n      document.body.appendChild(element);\n    }\n\n    for (let i = 0; i < js_urls.length; i++) {\n      const url = js_urls[i];\n      const element = document.createElement('script');\n      element.onload = on_load;\n      element.onerror = on_error.bind(null, url);\n      element.async = false;\n      element.src = url;\n      console.debug(\"Bokeh: injecting script tag for BokehJS library: \", url);\n      document.head.appendChild(element);\n    }\n  };\n\n  function inject_raw_css(css) {\n    const element = document.createElement(\"style\");\n    element.appendChild(document.createTextNode(css));\n    document.body.appendChild(element);\n  }\n\n  const js_urls = [\"https://cdn.bokeh.org/bokeh/release/bokeh-3.7.0.min.js\", \"https://cdn.bokeh.org/bokeh/release/bokeh-gl-3.7.0.min.js\", \"https://cdn.bokeh.org/bokeh/release/bokeh-widgets-3.7.0.min.js\", \"https://cdn.bokeh.org/bokeh/release/bokeh-tables-3.7.0.min.js\", \"https://cdn.bokeh.org/bokeh/release/bokeh-mathjax-3.7.0.min.js\"];\n  const css_urls = [];\n\n  const inline_js = [    function(Bokeh) {\n      Bokeh.set_log_level(\"info\");\n    },\nfunction(Bokeh) {\n    }\n  ];\n\n  function run_inline_js() {\n    if (root.Bokeh !== undefined || force === true) {\n      try {\n            for (let i = 0; i < inline_js.length; i++) {\n      inline_js[i].call(root, root.Bokeh);\n    }\n\n      } catch (error) {display_loaded(error);throw error;\n      }if (force === true) {\n        display_loaded();\n      }} else if (Date.now() < root._bokeh_timeout) {\n      setTimeout(run_inline_js, 100);\n    } else if (!root._bokeh_failed_load) {\n      console.log(\"Bokeh: BokehJS failed to load within specified timeout.\");\n      root._bokeh_failed_load = true;\n    } else if (force !== true) {\n      const cell = $(document.getElementById(\"dbc8f888-069b-4768-b608-fb5db6b34371\")).parents('.cell').data().cell;\n      cell.output_area.append_execute_result(NB_LOAD_WARNING)\n    }\n  }\n\n  if (root._bokeh_is_loading === 0) {\n    console.debug(\"Bokeh: BokehJS loaded, going straight to plotting\");\n    run_inline_js();\n  } else {\n    load_libs(css_urls, js_urls, function() {\n      console.debug(\"Bokeh: BokehJS plotting callback run at\", now());\n      run_inline_js();\n    });\n  }\n}(window));",
      "application/vnd.bokehjs_load.v0+json": ""
     },
     "metadata": {},
     "output_type": "display_data"
    },
    {
     "data": {
      "text/html": [
       "\n",
       "  <div id=\"b0e0daab-8e85-4749-a490-7c9a816d27c1\" data-root-id=\"p2001\" style=\"display: contents;\"></div>\n"
      ]
     },
     "metadata": {},
     "output_type": "display_data"
    },
    {
     "data": {
      "application/javascript": "(function(root) {\n  function embed_document(root) {\n  const docs_json = {\"4ce2350c-bafd-4d00-afea-599cecbc0831\":{\"version\":\"3.7.0\",\"title\":\"Bokeh Application\",\"roots\":[{\"type\":\"object\",\"name\":\"Figure\",\"id\":\"p2001\",\"attributes\":{\"width\":700,\"height\":400,\"x_range\":{\"type\":\"object\",\"name\":\"Range1d\",\"id\":\"p2011\",\"attributes\":{\"start\":-0.5,\"end\":23.5}},\"y_range\":{\"type\":\"object\",\"name\":\"DataRange1d\",\"id\":\"p2003\"},\"x_scale\":{\"type\":\"object\",\"name\":\"LinearScale\",\"id\":\"p2012\"},\"y_scale\":{\"type\":\"object\",\"name\":\"LinearScale\",\"id\":\"p2013\"},\"title\":{\"type\":\"object\",\"name\":\"Title\",\"id\":\"p2004\",\"attributes\":{\"text\":\"Drug/Narcotic Crimes by Hour of the Day\"}},\"renderers\":[{\"type\":\"object\",\"name\":\"GlyphRenderer\",\"id\":\"p2041\",\"attributes\":{\"data_source\":{\"type\":\"object\",\"name\":\"ColumnDataSource\",\"id\":\"p1998\",\"attributes\":{\"selected\":{\"type\":\"object\",\"name\":\"Selection\",\"id\":\"p1999\",\"attributes\":{\"indices\":[],\"line_indices\":[]}},\"selection_policy\":{\"type\":\"object\",\"name\":\"UnionRenderers\",\"id\":\"p2000\"},\"data\":{\"type\":\"map\",\"entries\":[[\"index\",{\"type\":\"ndarray\",\"array\":{\"type\":\"bytes\",\"data\":\"AAAAAAEAAAACAAAAAwAAAAQAAAAFAAAABgAAAAcAAAAIAAAACQAAAAoAAAALAAAADAAAAA0AAAAOAAAADwAAABAAAAARAAAAEgAAABMAAAAUAAAAFQAAABYAAAAXAAAA\"},\"shape\":[24],\"dtype\":\"int32\",\"order\":\"little\"}],[\"Hour\",{\"type\":\"ndarray\",\"array\":{\"type\":\"bytes\",\"data\":\"AAAAAAEAAAACAAAAAwAAAAQAAAAFAAAABgAAAAcAAAAIAAAACQAAAAoAAAALAAAADAAAAA0AAAAOAAAADwAAABAAAAARAAAAEgAAABMAAAAUAAAAFQAAABYAAAAXAAAA\"},\"shape\":[24],\"dtype\":\"int32\",\"order\":\"little\"}],[\"Count\",{\"type\":\"ndarray\",\"array\":{\"type\":\"bytes\",\"data\":\"4RAAADMKAABxCAAA1AUAACMEAABeAgAAqwYAAKkOAADfEgAA3RUAAPgXAAC2GwAArh4AABknAAC7KgAA7ScAAIwoAAAMKAAAByMAAKQdAACJFgAAKhUAACIZAABuFQAA\"},\"shape\":[24],\"dtype\":\"int32\",\"order\":\"little\"}]]}}},\"view\":{\"type\":\"object\",\"name\":\"CDSView\",\"id\":\"p2042\",\"attributes\":{\"filter\":{\"type\":\"object\",\"name\":\"AllIndices\",\"id\":\"p2043\"}}},\"glyph\":{\"type\":\"object\",\"name\":\"VBar\",\"id\":\"p2038\",\"attributes\":{\"x\":{\"type\":\"field\",\"field\":\"Hour\"},\"width\":{\"type\":\"value\",\"value\":0.9},\"top\":{\"type\":\"field\",\"field\":\"Count\"},\"line_color\":{\"type\":\"value\",\"value\":\"#2171b5\"},\"fill_color\":{\"type\":\"value\",\"value\":\"#9ecae1\"}}},\"nonselection_glyph\":{\"type\":\"object\",\"name\":\"VBar\",\"id\":\"p2039\",\"attributes\":{\"x\":{\"type\":\"field\",\"field\":\"Hour\"},\"width\":{\"type\":\"value\",\"value\":0.9},\"top\":{\"type\":\"field\",\"field\":\"Count\"},\"line_color\":{\"type\":\"value\",\"value\":\"#2171b5\"},\"line_alpha\":{\"type\":\"value\",\"value\":0.1},\"fill_color\":{\"type\":\"value\",\"value\":\"#9ecae1\"},\"fill_alpha\":{\"type\":\"value\",\"value\":0.1},\"hatch_alpha\":{\"type\":\"value\",\"value\":0.1}}},\"muted_glyph\":{\"type\":\"object\",\"name\":\"VBar\",\"id\":\"p2040\",\"attributes\":{\"x\":{\"type\":\"field\",\"field\":\"Hour\"},\"width\":{\"type\":\"value\",\"value\":0.9},\"top\":{\"type\":\"field\",\"field\":\"Count\"},\"line_color\":{\"type\":\"value\",\"value\":\"#2171b5\"},\"line_alpha\":{\"type\":\"value\",\"value\":0.2},\"fill_color\":{\"type\":\"value\",\"value\":\"#9ecae1\"},\"fill_alpha\":{\"type\":\"value\",\"value\":0.2},\"hatch_alpha\":{\"type\":\"value\",\"value\":0.2}}}}}],\"toolbar\":{\"type\":\"object\",\"name\":\"Toolbar\",\"id\":\"p2010\",\"attributes\":{\"tools\":[{\"type\":\"object\",\"name\":\"PanTool\",\"id\":\"p2024\"},{\"type\":\"object\",\"name\":\"WheelZoomTool\",\"id\":\"p2025\",\"attributes\":{\"renderers\":\"auto\"}},{\"type\":\"object\",\"name\":\"BoxZoomTool\",\"id\":\"p2026\",\"attributes\":{\"dimensions\":\"both\",\"overlay\":{\"type\":\"object\",\"name\":\"BoxAnnotation\",\"id\":\"p2027\",\"attributes\":{\"syncable\":false,\"line_color\":\"black\",\"line_alpha\":1.0,\"line_width\":2,\"line_dash\":[4,4],\"fill_color\":\"lightgrey\",\"fill_alpha\":0.5,\"level\":\"overlay\",\"visible\":false,\"left\":{\"type\":\"number\",\"value\":\"nan\"},\"right\":{\"type\":\"number\",\"value\":\"nan\"},\"top\":{\"type\":\"number\",\"value\":\"nan\"},\"bottom\":{\"type\":\"number\",\"value\":\"nan\"},\"left_units\":\"canvas\",\"right_units\":\"canvas\",\"top_units\":\"canvas\",\"bottom_units\":\"canvas\",\"handles\":{\"type\":\"object\",\"name\":\"BoxInteractionHandles\",\"id\":\"p2033\",\"attributes\":{\"all\":{\"type\":\"object\",\"name\":\"AreaVisuals\",\"id\":\"p2032\",\"attributes\":{\"fill_color\":\"white\",\"hover_fill_color\":\"lightgray\"}}}}}}}},{\"type\":\"object\",\"name\":\"ResetTool\",\"id\":\"p2034\"},{\"type\":\"object\",\"name\":\"HoverTool\",\"id\":\"p2045\",\"attributes\":{\"renderers\":\"auto\",\"tooltips\":[[\"Hour\",\"@Hour\"],[\"Count\",\"@Count\"]]}}]}},\"toolbar_location\":\"above\",\"left\":[{\"type\":\"object\",\"name\":\"LinearAxis\",\"id\":\"p2019\",\"attributes\":{\"ticker\":{\"type\":\"object\",\"name\":\"BasicTicker\",\"id\":\"p2020\",\"attributes\":{\"mantissas\":[1,2,5]}},\"formatter\":{\"type\":\"object\",\"name\":\"BasicTickFormatter\",\"id\":\"p2021\"},\"axis_label\":\"Number of Crimes\",\"major_label_policy\":{\"type\":\"object\",\"name\":\"AllLabels\",\"id\":\"p2022\"}}}],\"below\":[{\"type\":\"object\",\"name\":\"LinearAxis\",\"id\":\"p2014\",\"attributes\":{\"ticker\":{\"type\":\"object\",\"name\":\"FixedTicker\",\"id\":\"p2044\",\"attributes\":{\"ticks\":[0,1,2,3,4,5,6,7,8,9,10,11,12,13,14,15,16,17,18,19,20,21,22,23],\"minor_ticks\":[]}},\"formatter\":{\"type\":\"object\",\"name\":\"BasicTickFormatter\",\"id\":\"p2016\"},\"axis_label\":\"Hour (24-hour format)\",\"major_label_policy\":{\"type\":\"object\",\"name\":\"AllLabels\",\"id\":\"p2017\"}}}],\"center\":[{\"type\":\"object\",\"name\":\"Grid\",\"id\":\"p2018\",\"attributes\":{\"axis\":{\"id\":\"p2014\"}}},{\"type\":\"object\",\"name\":\"Grid\",\"id\":\"p2023\",\"attributes\":{\"dimension\":1,\"axis\":{\"id\":\"p2019\"}}}]}}]}};\n  const render_items = [{\"docid\":\"4ce2350c-bafd-4d00-afea-599cecbc0831\",\"roots\":{\"p2001\":\"b0e0daab-8e85-4749-a490-7c9a816d27c1\"},\"root_ids\":[\"p2001\"]}];\n  void root.Bokeh.embed.embed_items_notebook(docs_json, render_items);\n  }\n  if (root.Bokeh !== undefined) {\n    embed_document(root);\n  } else {\n    let attempts = 0;\n    const timer = setInterval(function(root) {\n      if (root.Bokeh !== undefined) {\n        clearInterval(timer);\n        embed_document(root);\n      } else {\n        attempts++;\n        if (attempts > 100) {\n          clearInterval(timer);\n          console.log(\"Bokeh: ERROR: Unable to run BokehJS code because BokehJS library is missing\");\n        }\n      }\n    }, 10, root)\n  }\n})(window);",
      "application/vnd.bokehjs_exec.v0+json": ""
     },
     "metadata": {
      "application/vnd.bokehjs_exec.v0+json": {
       "id": "p2001"
      }
     },
     "output_type": "display_data"
    }
   ],
   "source": [
    "from bokeh.plotting import figure, show, output_notebook\n",
    "from bokeh.models import ColumnDataSource, HoverTool\n",
    "\n",
    "output_notebook()\n",
    "\n",
    "# Group data by hour and count\n",
    "hourly_counts = df_drug.groupby('Hour').size().reset_index(name='Count')\n",
    "\n",
    "# Convert to a Bokeh ColumnDataSource\n",
    "source = ColumnDataSource(hourly_counts)\n",
    "\n",
    "p = figure(\n",
    "    width=700,\n",
    "    height=400,\n",
    "    title=\"Drug/Narcotic Crimes by Hour of the Day\",\n",
    "    x_range=(-0.5, 23.5), \n",
    "    toolbar_location=\"above\",\n",
    "    tools=\"pan,wheel_zoom,box_zoom,reset\"\n",
    ")\n",
    "\n",
    "# Vertical bar glyph\n",
    "p.vbar(\n",
    "    x='Hour',\n",
    "    top='Count',\n",
    "    width=0.9,\n",
    "    source=source,\n",
    "    fill_color='#9ecae1',\n",
    "    line_color='#2171b5'\n",
    ")\n",
    "\n",
    "p.xaxis.axis_label = \"Hour (24-hour format)\"\n",
    "p.yaxis.axis_label = \"Number of Crimes\"\n",
    "p.xaxis.ticker = list(range(24)) \n",
    "\n",
    "hover = HoverTool(tooltips=[\n",
    "    (\"Hour\", \"@Hour\"),\n",
    "    (\"Count\", \"@Count\"),\n",
    "\n",
    "])\n",
    "p.add_tools(hover)\n",
    "\n",
    "show(p)\n"
   ]
  },
  {
   "cell_type": "code",
   "execution_count": 12,
   "metadata": {},
   "outputs": [
    {
     "data": {
      "text/html": [
       "    <style>\n",
       "        .bk-notebook-logo {\n",
       "            display: block;\n",
       "            width: 20px;\n",
       "            height: 20px;\n",
       "            background-image: url(data:image/png;base64,iVBORw0KGgoAAAANSUhEUgAAABQAAAAUCAYAAACNiR0NAAAABHNCSVQICAgIfAhkiAAAAAlwSFlzAAALEgAACxIB0t1+/AAAABx0RVh0U29mdHdhcmUAQWRvYmUgRmlyZXdvcmtzIENTNui8sowAAAOkSURBVDiNjZRtaJVlGMd/1/08zzln5zjP1LWcU9N0NkN8m2CYjpgQYQXqSs0I84OLIC0hkEKoPtiH3gmKoiJDU7QpLgoLjLIQCpEsNJ1vqUOdO7ppbuec5+V+rj4ctwzd8IIbbi6u+8f1539dt3A78eXC7QizUF7gyV1fD1Yqg4JWz84yffhm0qkFqBogB9rM8tZdtwVsPUhWhGcFJngGeWrPzHm5oaMmkfEg1usvLFyc8jLRqDOMru7AyC8saQr7GG7f5fvDeH7Ej8CM66nIF+8yngt6HWaKh7k49Soy9nXurCi1o3qUbS3zWfrYeQDTB/Qj6kX6Ybhw4B+bOYoLKCC9H3Nu/leUTZ1JdRWkkn2ldcCamzrcf47KKXdAJllSlxAOkRgyHsGC/zRday5Qld9DyoM4/q/rUoy/CXh3jzOu3bHUVZeU+DEn8FInkPBFlu3+nW3Nw0mk6vCDiWg8CeJaxEwuHS3+z5RgY+YBR6V1Z1nxSOfoaPa4LASWxxdNp+VWTk7+4vzaou8v8PN+xo+KY2xsw6une2frhw05CTYOmQvsEhjhWjn0bmXPjpE1+kplmmkP3suftwTubK9Vq22qKmrBhpY4jvd5afdRA3wGjFAgcnTK2s4hY0/GPNIb0nErGMCRxWOOX64Z8RAC4oCXdklmEvcL8o0BfkNK4lUg9HTl+oPlQxdNo3Mg4Nv175e/1LDGzZen30MEjRUtmXSfiTVu1kK8W4txyV6BMKlbgk3lMwYCiusNy9fVfvvwMxv8Ynl6vxoByANLTWplvuj/nF9m2+PDtt1eiHPBr1oIfhCChQMBw6Aw0UulqTKZdfVvfG7VcfIqLG9bcldL/+pdWTLxLUy8Qq38heUIjh4XlzZxzQm19lLFlr8vdQ97rjZVOLf8nclzckbcD4wxXMidpX30sFd37Fv/GtwwhzhxGVAprjbg0gCAEeIgwCZyTV2Z1REEW8O4py0wsjeloKoMr6iCY6dP92H6Vw/oTyICIthibxjm/DfN9lVz8IqtqKYLUXfoKVMVQVVJOElGjrnnUt9T9wbgp8AyYKaGlqingHZU/uG2NTZSVqwHQTWkx9hxjkpWDaCg6Ckj5qebgBVbT3V3NNXMSiWSDdGV3hrtzla7J+duwPOToIg42ChPQOQjspnSlp1V+Gjdged7+8UN5CRAV7a5EdFNwCjEaBR27b3W890TE7g24NAP/mMDXRWrGoFPQI9ls/MWO2dWFAar/xcOIImbbpA3zgAAAABJRU5ErkJggg==);\n",
       "        }\n",
       "    </style>\n",
       "    <div>\n",
       "        <a href=\"https://bokeh.org\" target=\"_blank\" class=\"bk-notebook-logo\"></a>\n",
       "        <span id=\"b970fbff-d196-4a89-ae3a-a855b3b88e14\">Loading BokehJS ...</span>\n",
       "    </div>\n"
      ]
     },
     "metadata": {},
     "output_type": "display_data"
    },
    {
     "data": {
      "application/javascript": "'use strict';\n(function(root) {\n  function now() {\n    return new Date();\n  }\n\n  const force = true;\n\n  if (typeof root._bokeh_onload_callbacks === \"undefined\" || force === true) {\n    root._bokeh_onload_callbacks = [];\n    root._bokeh_is_loading = undefined;\n  }\n\nconst JS_MIME_TYPE = 'application/javascript';\n  const HTML_MIME_TYPE = 'text/html';\n  const EXEC_MIME_TYPE = 'application/vnd.bokehjs_exec.v0+json';\n  const CLASS_NAME = 'output_bokeh rendered_html';\n\n  /**\n   * Render data to the DOM node\n   */\n  function render(props, node) {\n    const script = document.createElement(\"script\");\n    node.appendChild(script);\n  }\n\n  /**\n   * Handle when an output is cleared or removed\n   */\n  function handleClearOutput(event, handle) {\n    function drop(id) {\n      const view = Bokeh.index.get_by_id(id)\n      if (view != null) {\n        view.model.document.clear()\n        Bokeh.index.delete(view)\n      }\n    }\n\n    const cell = handle.cell;\n\n    const id = cell.output_area._bokeh_element_id;\n    const server_id = cell.output_area._bokeh_server_id;\n\n    // Clean up Bokeh references\n    if (id != null) {\n      drop(id)\n    }\n\n    if (server_id !== undefined) {\n      // Clean up Bokeh references\n      const cmd_clean = \"from bokeh.io.state import curstate; print(curstate().uuid_to_server['\" + server_id + \"'].get_sessions()[0].document.roots[0]._id)\";\n      cell.notebook.kernel.execute(cmd_clean, {\n        iopub: {\n          output: function(msg) {\n            const id = msg.content.text.trim()\n            drop(id)\n          }\n        }\n      });\n      // Destroy server and session\n      const cmd_destroy = \"import bokeh.io.notebook as ion; ion.destroy_server('\" + server_id + \"')\";\n      cell.notebook.kernel.execute(cmd_destroy);\n    }\n  }\n\n  /**\n   * Handle when a new output is added\n   */\n  function handleAddOutput(event, handle) {\n    const output_area = handle.output_area;\n    const output = handle.output;\n\n    // limit handleAddOutput to display_data with EXEC_MIME_TYPE content only\n    if ((output.output_type != \"display_data\") || (!Object.prototype.hasOwnProperty.call(output.data, EXEC_MIME_TYPE))) {\n      return\n    }\n\n    const toinsert = output_area.element.find(\".\" + CLASS_NAME.split(' ')[0]);\n\n    if (output.metadata[EXEC_MIME_TYPE][\"id\"] !== undefined) {\n      toinsert[toinsert.length - 1].firstChild.textContent = output.data[JS_MIME_TYPE];\n      // store reference to embed id on output_area\n      output_area._bokeh_element_id = output.metadata[EXEC_MIME_TYPE][\"id\"];\n    }\n    if (output.metadata[EXEC_MIME_TYPE][\"server_id\"] !== undefined) {\n      const bk_div = document.createElement(\"div\");\n      bk_div.innerHTML = output.data[HTML_MIME_TYPE];\n      const script_attrs = bk_div.children[0].attributes;\n      for (let i = 0; i < script_attrs.length; i++) {\n        toinsert[toinsert.length - 1].firstChild.setAttribute(script_attrs[i].name, script_attrs[i].value);\n        toinsert[toinsert.length - 1].firstChild.textContent = bk_div.children[0].textContent\n      }\n      // store reference to server id on output_area\n      output_area._bokeh_server_id = output.metadata[EXEC_MIME_TYPE][\"server_id\"];\n    }\n  }\n\n  function register_renderer(events, OutputArea) {\n\n    function append_mime(data, metadata, element) {\n      // create a DOM node to render to\n      const toinsert = this.create_output_subarea(\n        metadata,\n        CLASS_NAME,\n        EXEC_MIME_TYPE\n      );\n      this.keyboard_manager.register_events(toinsert);\n      // Render to node\n      const props = {data: data, metadata: metadata[EXEC_MIME_TYPE]};\n      render(props, toinsert[toinsert.length - 1]);\n      element.append(toinsert);\n      return toinsert\n    }\n\n    /* Handle when an output is cleared or removed */\n    events.on('clear_output.CodeCell', handleClearOutput);\n    events.on('delete.Cell', handleClearOutput);\n\n    /* Handle when a new output is added */\n    events.on('output_added.OutputArea', handleAddOutput);\n\n    /**\n     * Register the mime type and append_mime function with output_area\n     */\n    OutputArea.prototype.register_mime_type(EXEC_MIME_TYPE, append_mime, {\n      /* Is output safe? */\n      safe: true,\n      /* Index of renderer in `output_area.display_order` */\n      index: 0\n    });\n  }\n\n  // register the mime type if in Jupyter Notebook environment and previously unregistered\n  if (root.Jupyter !== undefined) {\n    const events = require('base/js/events');\n    const OutputArea = require('notebook/js/outputarea').OutputArea;\n\n    if (OutputArea.prototype.mime_types().indexOf(EXEC_MIME_TYPE) == -1) {\n      register_renderer(events, OutputArea);\n    }\n  }\n  if (typeof (root._bokeh_timeout) === \"undefined\" || force === true) {\n    root._bokeh_timeout = Date.now() + 5000;\n    root._bokeh_failed_load = false;\n  }\n\n  const NB_LOAD_WARNING = {'data': {'text/html':\n     \"<div style='background-color: #fdd'>\\n\"+\n     \"<p>\\n\"+\n     \"BokehJS does not appear to have successfully loaded. If loading BokehJS from CDN, this \\n\"+\n     \"may be due to a slow or bad network connection. Possible fixes:\\n\"+\n     \"</p>\\n\"+\n     \"<ul>\\n\"+\n     \"<li>re-rerun `output_notebook()` to attempt to load from CDN again, or</li>\\n\"+\n     \"<li>use INLINE resources instead, as so:</li>\\n\"+\n     \"</ul>\\n\"+\n     \"<code>\\n\"+\n     \"from bokeh.resources import INLINE\\n\"+\n     \"output_notebook(resources=INLINE)\\n\"+\n     \"</code>\\n\"+\n     \"</div>\"}};\n\n  function display_loaded(error = null) {\n    const el = document.getElementById(\"b970fbff-d196-4a89-ae3a-a855b3b88e14\");\n    if (el != null) {\n      const html = (() => {\n        if (typeof root.Bokeh === \"undefined\") {\n          if (error == null) {\n            return \"BokehJS is loading ...\";\n          } else {\n            return \"BokehJS failed to load.\";\n          }\n        } else {\n          const prefix = `BokehJS ${root.Bokeh.version}`;\n          if (error == null) {\n            return `${prefix} successfully loaded.`;\n          } else {\n            return `${prefix} <b>encountered errors</b> while loading and may not function as expected.`;\n          }\n        }\n      })();\n      el.innerHTML = html;\n\n      if (error != null) {\n        const wrapper = document.createElement(\"div\");\n        wrapper.style.overflow = \"auto\";\n        wrapper.style.height = \"5em\";\n        wrapper.style.resize = \"vertical\";\n        const content = document.createElement(\"div\");\n        content.style.fontFamily = \"monospace\";\n        content.style.whiteSpace = \"pre-wrap\";\n        content.style.backgroundColor = \"rgb(255, 221, 221)\";\n        content.textContent = error.stack ?? error.toString();\n        wrapper.append(content);\n        el.append(wrapper);\n      }\n    } else if (Date.now() < root._bokeh_timeout) {\n      setTimeout(() => display_loaded(error), 100);\n    }\n  }\n\n  function run_callbacks() {\n    try {\n      root._bokeh_onload_callbacks.forEach(function(callback) {\n        if (callback != null)\n          callback();\n      });\n    } finally {\n      delete root._bokeh_onload_callbacks\n    }\n    console.debug(\"Bokeh: all callbacks have finished\");\n  }\n\n  function load_libs(css_urls, js_urls, callback) {\n    if (css_urls == null) css_urls = [];\n    if (js_urls == null) js_urls = [];\n\n    root._bokeh_onload_callbacks.push(callback);\n    if (root._bokeh_is_loading > 0) {\n      console.debug(\"Bokeh: BokehJS is being loaded, scheduling callback at\", now());\n      return null;\n    }\n    if (js_urls == null || js_urls.length === 0) {\n      run_callbacks();\n      return null;\n    }\n    console.debug(\"Bokeh: BokehJS not loaded, scheduling load and callback at\", now());\n    root._bokeh_is_loading = css_urls.length + js_urls.length;\n\n    function on_load() {\n      root._bokeh_is_loading--;\n      if (root._bokeh_is_loading === 0) {\n        console.debug(\"Bokeh: all BokehJS libraries/stylesheets loaded\");\n        run_callbacks()\n      }\n    }\n\n    function on_error(url) {\n      console.error(\"failed to load \" + url);\n    }\n\n    for (let i = 0; i < css_urls.length; i++) {\n      const url = css_urls[i];\n      const element = document.createElement(\"link\");\n      element.onload = on_load;\n      element.onerror = on_error.bind(null, url);\n      element.rel = \"stylesheet\";\n      element.type = \"text/css\";\n      element.href = url;\n      console.debug(\"Bokeh: injecting link tag for BokehJS stylesheet: \", url);\n      document.body.appendChild(element);\n    }\n\n    for (let i = 0; i < js_urls.length; i++) {\n      const url = js_urls[i];\n      const element = document.createElement('script');\n      element.onload = on_load;\n      element.onerror = on_error.bind(null, url);\n      element.async = false;\n      element.src = url;\n      console.debug(\"Bokeh: injecting script tag for BokehJS library: \", url);\n      document.head.appendChild(element);\n    }\n  };\n\n  function inject_raw_css(css) {\n    const element = document.createElement(\"style\");\n    element.appendChild(document.createTextNode(css));\n    document.body.appendChild(element);\n  }\n\n  const js_urls = [\"https://cdn.bokeh.org/bokeh/release/bokeh-3.7.0.min.js\", \"https://cdn.bokeh.org/bokeh/release/bokeh-gl-3.7.0.min.js\", \"https://cdn.bokeh.org/bokeh/release/bokeh-widgets-3.7.0.min.js\", \"https://cdn.bokeh.org/bokeh/release/bokeh-tables-3.7.0.min.js\", \"https://cdn.bokeh.org/bokeh/release/bokeh-mathjax-3.7.0.min.js\"];\n  const css_urls = [];\n\n  const inline_js = [    function(Bokeh) {\n      Bokeh.set_log_level(\"info\");\n    },\nfunction(Bokeh) {\n    }\n  ];\n\n  function run_inline_js() {\n    if (root.Bokeh !== undefined || force === true) {\n      try {\n            for (let i = 0; i < inline_js.length; i++) {\n      inline_js[i].call(root, root.Bokeh);\n    }\n\n      } catch (error) {display_loaded(error);throw error;\n      }if (force === true) {\n        display_loaded();\n      }} else if (Date.now() < root._bokeh_timeout) {\n      setTimeout(run_inline_js, 100);\n    } else if (!root._bokeh_failed_load) {\n      console.log(\"Bokeh: BokehJS failed to load within specified timeout.\");\n      root._bokeh_failed_load = true;\n    } else if (force !== true) {\n      const cell = $(document.getElementById(\"b970fbff-d196-4a89-ae3a-a855b3b88e14\")).parents('.cell').data().cell;\n      cell.output_area.append_execute_result(NB_LOAD_WARNING)\n    }\n  }\n\n  if (root._bokeh_is_loading === 0) {\n    console.debug(\"Bokeh: BokehJS loaded, going straight to plotting\");\n    run_inline_js();\n  } else {\n    load_libs(css_urls, js_urls, function() {\n      console.debug(\"Bokeh: BokehJS plotting callback run at\", now());\n      run_inline_js();\n    });\n  }\n}(window));",
      "application/vnd.bokehjs_load.v0+json": ""
     },
     "metadata": {},
     "output_type": "display_data"
    },
    {
     "data": {
      "text/html": [
       "\n",
       "  <div id=\"b0da6f98-fceb-4040-8193-005fbd5fbd29\" data-root-id=\"p1391\" style=\"display: contents;\"></div>\n"
      ]
     },
     "metadata": {},
     "output_type": "display_data"
    },
    {
     "data": {
      "application/javascript": "(function(root) {\n  function embed_document(root) {\n  const docs_json = {\"c68ddfcb-b0ab-44cd-8fe0-e381a3a65843\":{\"version\":\"3.7.0\",\"title\":\"Bokeh Application\",\"roots\":[{\"type\":\"object\",\"name\":\"Column\",\"id\":\"p1391\",\"attributes\":{\"children\":[{\"type\":\"object\",\"name\":\"MultiSelect\",\"id\":\"p1345\",\"attributes\":{\"js_property_callbacks\":{\"type\":\"map\",\"entries\":[[\"change:value\",[{\"type\":\"object\",\"name\":\"CustomJS\",\"id\":\"p1346\",\"attributes\":{\"args\":{\"type\":\"map\",\"entries\":[[\"full_source\",{\"type\":\"object\",\"name\":\"ColumnDataSource\",\"id\":\"p1339\",\"attributes\":{\"selected\":{\"type\":\"object\",\"name\":\"Selection\",\"id\":\"p1340\",\"attributes\":{\"indices\":[],\"line_indices\":[]}},\"selection_policy\":{\"type\":\"object\",\"name\":\"UnionRenderers\",\"id\":\"p1341\"},\"data\":{\"type\":\"map\",\"entries\":[[\"Hour\",[0,1,2,3,4,5,6,7,8,9,10,11,12,13,14,15,16,17,18,19,20,21,22,23]],[\"Monday\",[579,362,294,201,165,93,238,453,627,764,878,1104,1111,1384,1567,1439,1411,1341,1201,1106,812,677,800,779]],[\"Tuesday\",[727,389,337,292,195,95,246,551,653,840,942,1252,1340,1674,1937,1804,1685,1559,1339,1169,1012,979,1009,801]],[\"Wednesday\",[619,385,345,245,136,77,282,688,865,996,1121,1256,1402,1890,2183,1952,1886,1873,1650,1373,1031,954,1077,843]],[\"Thursday\",[667,403,324,229,118,79,212,608,776,914,933,966,1114,1689,1807,1654,1686,1567,1442,1199,949,930,1051,874]],[\"Friday\",[625,383,315,211,142,92,232,513,685,794,809,876,1063,1388,1474,1414,1443,1502,1235,1120,746,681,804,750]],[\"Saturday\",[605,374,297,153,147,81,240,514,631,644,775,835,930,1035,1010,1058,1181,1238,1064,880,640,599,802,691]],[\"Sunday\",[499,315,249,161,156,89,257,426,594,645,678,805,894,949,961,900,1088,1172,1036,741,579,598,891,748]]]}}}],[\"source\",{\"type\":\"object\",\"name\":\"ColumnDataSource\",\"id\":\"p1342\",\"attributes\":{\"selected\":{\"type\":\"object\",\"name\":\"Selection\",\"id\":\"p1343\",\"attributes\":{\"indices\":[],\"line_indices\":[]}},\"selection_policy\":{\"type\":\"object\",\"name\":\"UnionRenderers\",\"id\":\"p1344\"},\"data\":{\"type\":\"map\",\"entries\":[[\"Hour\",[0,1,2,3,4,5,6,7,8,9,10,11,12,13,14,15,16,17,18,19,20,21,22,23]],[\"Count\",[4321,2611,2161,1492,1059,606,1707,3753,4831,5597,6136,7094,7854,10009,10939,10221,10380,10252,8967,7588,5769,5418,6434,5486]]]}}}],[\"multi_select\",{\"id\":\"p1345\"}]]},\"code\":\"\\n    var selected_days = multi_select.value;\\n    var full_data = full_source.data;\\n    var new_counts = [];\\n    for (var i = 0; i < full_data['Hour'].length; i++) {\\n        var sum_val = 0;\\n        for (var j = 0; j < selected_days.length; j++) {\\n            var day = selected_days[j];\\n            sum_val += full_data[day][i];\\n        }\\n        new_counts.push(sum_val);\\n    }\\n    source.data['Count'] = new_counts;\\n    source.change.emit();\\n\"}}]]]},\"title\":\"Select Days\",\"options\":[[\"Monday\",\"Monday\"],[\"Tuesday\",\"Tuesday\"],[\"Wednesday\",\"Wednesday\"],[\"Thursday\",\"Thursday\"],[\"Friday\",\"Friday\"],[\"Saturday\",\"Saturday\"],[\"Sunday\",\"Sunday\"]],\"value\":[\"Monday\",\"Tuesday\",\"Wednesday\",\"Thursday\",\"Friday\",\"Saturday\",\"Sunday\"]}},{\"type\":\"object\",\"name\":\"Figure\",\"id\":\"p1347\",\"attributes\":{\"width\":700,\"height\":400,\"x_range\":{\"type\":\"object\",\"name\":\"Range1d\",\"id\":\"p1357\",\"attributes\":{\"start\":-0.5,\"end\":23.5}},\"y_range\":{\"type\":\"object\",\"name\":\"DataRange1d\",\"id\":\"p1349\"},\"x_scale\":{\"type\":\"object\",\"name\":\"LinearScale\",\"id\":\"p1358\"},\"y_scale\":{\"type\":\"object\",\"name\":\"LinearScale\",\"id\":\"p1359\"},\"title\":{\"type\":\"object\",\"name\":\"Title\",\"id\":\"p1350\",\"attributes\":{\"text\":\"Drug/Narcotic Crimes by Hour (Selected Days)\"}},\"renderers\":[{\"type\":\"object\",\"name\":\"GlyphRenderer\",\"id\":\"p1387\",\"attributes\":{\"data_source\":{\"id\":\"p1342\"},\"view\":{\"type\":\"object\",\"name\":\"CDSView\",\"id\":\"p1388\",\"attributes\":{\"filter\":{\"type\":\"object\",\"name\":\"AllIndices\",\"id\":\"p1389\"}}},\"glyph\":{\"type\":\"object\",\"name\":\"VBar\",\"id\":\"p1384\",\"attributes\":{\"x\":{\"type\":\"field\",\"field\":\"Hour\"},\"width\":{\"type\":\"value\",\"value\":0.9},\"top\":{\"type\":\"field\",\"field\":\"Count\"},\"line_color\":{\"type\":\"value\",\"value\":\"purple\"},\"fill_color\":{\"type\":\"value\",\"value\":\"lavender\"}}},\"nonselection_glyph\":{\"type\":\"object\",\"name\":\"VBar\",\"id\":\"p1385\",\"attributes\":{\"x\":{\"type\":\"field\",\"field\":\"Hour\"},\"width\":{\"type\":\"value\",\"value\":0.9},\"top\":{\"type\":\"field\",\"field\":\"Count\"},\"line_color\":{\"type\":\"value\",\"value\":\"purple\"},\"line_alpha\":{\"type\":\"value\",\"value\":0.1},\"fill_color\":{\"type\":\"value\",\"value\":\"lavender\"},\"fill_alpha\":{\"type\":\"value\",\"value\":0.1},\"hatch_alpha\":{\"type\":\"value\",\"value\":0.1}}},\"muted_glyph\":{\"type\":\"object\",\"name\":\"VBar\",\"id\":\"p1386\",\"attributes\":{\"x\":{\"type\":\"field\",\"field\":\"Hour\"},\"width\":{\"type\":\"value\",\"value\":0.9},\"top\":{\"type\":\"field\",\"field\":\"Count\"},\"line_color\":{\"type\":\"value\",\"value\":\"purple\"},\"line_alpha\":{\"type\":\"value\",\"value\":0.2},\"fill_color\":{\"type\":\"value\",\"value\":\"lavender\"},\"fill_alpha\":{\"type\":\"value\",\"value\":0.2},\"hatch_alpha\":{\"type\":\"value\",\"value\":0.2}}}}}],\"toolbar\":{\"type\":\"object\",\"name\":\"Toolbar\",\"id\":\"p1356\",\"attributes\":{\"tools\":[{\"type\":\"object\",\"name\":\"PanTool\",\"id\":\"p1370\"},{\"type\":\"object\",\"name\":\"WheelZoomTool\",\"id\":\"p1371\",\"attributes\":{\"renderers\":\"auto\"}},{\"type\":\"object\",\"name\":\"BoxZoomTool\",\"id\":\"p1372\",\"attributes\":{\"dimensions\":\"both\",\"overlay\":{\"type\":\"object\",\"name\":\"BoxAnnotation\",\"id\":\"p1373\",\"attributes\":{\"syncable\":false,\"line_color\":\"black\",\"line_alpha\":1.0,\"line_width\":2,\"line_dash\":[4,4],\"fill_color\":\"lightgrey\",\"fill_alpha\":0.5,\"level\":\"overlay\",\"visible\":false,\"left\":{\"type\":\"number\",\"value\":\"nan\"},\"right\":{\"type\":\"number\",\"value\":\"nan\"},\"top\":{\"type\":\"number\",\"value\":\"nan\"},\"bottom\":{\"type\":\"number\",\"value\":\"nan\"},\"left_units\":\"canvas\",\"right_units\":\"canvas\",\"top_units\":\"canvas\",\"bottom_units\":\"canvas\",\"handles\":{\"type\":\"object\",\"name\":\"BoxInteractionHandles\",\"id\":\"p1379\",\"attributes\":{\"all\":{\"type\":\"object\",\"name\":\"AreaVisuals\",\"id\":\"p1378\",\"attributes\":{\"fill_color\":\"white\",\"hover_fill_color\":\"lightgray\"}}}}}}}},{\"type\":\"object\",\"name\":\"ResetTool\",\"id\":\"p1380\"}]}},\"toolbar_location\":\"above\",\"left\":[{\"type\":\"object\",\"name\":\"LinearAxis\",\"id\":\"p1365\",\"attributes\":{\"ticker\":{\"type\":\"object\",\"name\":\"BasicTicker\",\"id\":\"p1366\",\"attributes\":{\"mantissas\":[1,2,5]}},\"formatter\":{\"type\":\"object\",\"name\":\"BasicTickFormatter\",\"id\":\"p1367\"},\"axis_label\":\"Number of Crimes\",\"major_label_policy\":{\"type\":\"object\",\"name\":\"AllLabels\",\"id\":\"p1368\"}}}],\"below\":[{\"type\":\"object\",\"name\":\"LinearAxis\",\"id\":\"p1360\",\"attributes\":{\"ticker\":{\"type\":\"object\",\"name\":\"FixedTicker\",\"id\":\"p1390\",\"attributes\":{\"ticks\":[0,1,2,3,4,5,6,7,8,9,10,11,12,13,14,15,16,17,18,19,20,21,22,23],\"minor_ticks\":[]}},\"formatter\":{\"type\":\"object\",\"name\":\"BasicTickFormatter\",\"id\":\"p1362\"},\"axis_label\":\"Hour (24-hour format)\",\"major_label_policy\":{\"type\":\"object\",\"name\":\"AllLabels\",\"id\":\"p1363\"}}}],\"center\":[{\"type\":\"object\",\"name\":\"Grid\",\"id\":\"p1364\",\"attributes\":{\"axis\":{\"id\":\"p1360\"}}},{\"type\":\"object\",\"name\":\"Grid\",\"id\":\"p1369\",\"attributes\":{\"dimension\":1,\"axis\":{\"id\":\"p1365\"}}}]}}]}}]}};\n  const render_items = [{\"docid\":\"c68ddfcb-b0ab-44cd-8fe0-e381a3a65843\",\"roots\":{\"p1391\":\"b0da6f98-fceb-4040-8193-005fbd5fbd29\"},\"root_ids\":[\"p1391\"]}];\n  void root.Bokeh.embed.embed_items_notebook(docs_json, render_items);\n  }\n  if (root.Bokeh !== undefined) {\n    embed_document(root);\n  } else {\n    let attempts = 0;\n    const timer = setInterval(function(root) {\n      if (root.Bokeh !== undefined) {\n        clearInterval(timer);\n        embed_document(root);\n      } else {\n        attempts++;\n        if (attempts > 100) {\n          clearInterval(timer);\n          console.log(\"Bokeh: ERROR: Unable to run BokehJS code because BokehJS library is missing\");\n        }\n      }\n    }, 10, root)\n  }\n})(window);",
      "application/vnd.bokehjs_exec.v0+json": ""
     },
     "metadata": {
      "application/vnd.bokehjs_exec.v0+json": {
       "id": "p1391"
      }
     },
     "output_type": "display_data"
    }
   ],
   "source": [
    "from bokeh.models import ColumnDataSource, CustomJS, MultiSelect\n",
    "from bokeh.plotting import figure, show, output_notebook\n",
    "from bokeh.layouts import column\n",
    "import pandas as pd\n",
    "\n",
    "# Enable Bokeh output in the notebook\n",
    "output_notebook()\n",
    "\n",
    "# Define the days in a desired order\n",
    "days_order = ['Monday', 'Tuesday', 'Wednesday', 'Thursday', 'Friday', 'Saturday', 'Sunday']\n",
    "\n",
    "# Create an aggregated dictionary:\n",
    "# For each hour (0-23) we compute the count of Drug/Narcotic crimes per day\n",
    "data_dict = {\"Hour\": list(range(24))}\n",
    "for day in days_order:\n",
    "    counts = []\n",
    "    for hour in range(24):\n",
    "         count = len(df_drug[(df_drug['Day of Week'] == day) & (df_drug['Hour'] == hour)])\n",
    "         counts.append(count)\n",
    "    data_dict[day] = counts\n",
    "\n",
    "# Create a full data source holding counts for every day and hour\n",
    "full_source = ColumnDataSource(data=data_dict)\n",
    "\n",
    "# Compute initial aggregated counts by summing across all days (default: all days selected)\n",
    "initial_counts = []\n",
    "for i in range(24):\n",
    "    total = sum(data_dict[day][i] for day in days_order)\n",
    "    initial_counts.append(total)\n",
    "\n",
    "# Create an aggregated data source for the plot\n",
    "agg_source = ColumnDataSource(data={\"Hour\": list(range(24)), \"Count\": initial_counts})\n",
    "\n",
    "# Create a MultiSelect widget for day selection, defaulting to all days\n",
    "day_options = [(day, day) for day in days_order]\n",
    "multi_select = MultiSelect(title=\"Select Days\", value=days_order, options=day_options)\n",
    "\n",
    "# Define a CustomJS callback to update the aggregated counts based on selected days\n",
    "callback = CustomJS(args=dict(full_source=full_source, source=agg_source, multi_select=multi_select), code=\"\"\"\n",
    "    var selected_days = multi_select.value;\n",
    "    var full_data = full_source.data;\n",
    "    var new_counts = [];\n",
    "    for (var i = 0; i < full_data['Hour'].length; i++) {\n",
    "        var sum_val = 0;\n",
    "        for (var j = 0; j < selected_days.length; j++) {\n",
    "            var day = selected_days[j];\n",
    "            sum_val += full_data[day][i];\n",
    "        }\n",
    "        new_counts.push(sum_val);\n",
    "    }\n",
    "    source.data['Count'] = new_counts;\n",
    "    source.change.emit();\n",
    "\"\"\")\n",
    "multi_select.js_on_change('value', callback)\n",
    "\n",
    "# Create a Bokeh figure for the vbar plot\n",
    "p = figure(\n",
    "    width=700,\n",
    "    height=400,\n",
    "    title=\"Drug/Narcotic Crimes by Hour (Selected Days)\",\n",
    "    x_range=(-0.5, 23.5),\n",
    "    toolbar_location=\"above\",\n",
    "    tools=\"pan,wheel_zoom,box_zoom,reset\"\n",
    ")\n",
    "\n",
    "p.vbar(x='Hour', top='Count', width=0.9, source=agg_source, fill_color='lavender',\n",
    "    line_color='purple')\n",
    "p.xaxis.axis_label = \"Hour (24-hour format)\"\n",
    "p.yaxis.axis_label = \"Number of Crimes\"\n",
    "p.xaxis.ticker = list(range(24))\n",
    "\n",
    "# Combine the widget and plot into a layout and display them\n",
    "layout = column(multi_select, p)\n",
    "show(layout)\n"
   ]
  },
  {
   "cell_type": "code",
   "execution_count": 17,
   "metadata": {},
   "outputs": [
    {
     "data": {
      "text/html": [
       "    <style>\n",
       "        .bk-notebook-logo {\n",
       "            display: block;\n",
       "            width: 20px;\n",
       "            height: 20px;\n",
       "            background-image: url(data:image/png;base64,iVBORw0KGgoAAAANSUhEUgAAABQAAAAUCAYAAACNiR0NAAAABHNCSVQICAgIfAhkiAAAAAlwSFlzAAALEgAACxIB0t1+/AAAABx0RVh0U29mdHdhcmUAQWRvYmUgRmlyZXdvcmtzIENTNui8sowAAAOkSURBVDiNjZRtaJVlGMd/1/08zzln5zjP1LWcU9N0NkN8m2CYjpgQYQXqSs0I84OLIC0hkEKoPtiH3gmKoiJDU7QpLgoLjLIQCpEsNJ1vqUOdO7ppbuec5+V+rj4ctwzd8IIbbi6u+8f1539dt3A78eXC7QizUF7gyV1fD1Yqg4JWz84yffhm0qkFqBogB9rM8tZdtwVsPUhWhGcFJngGeWrPzHm5oaMmkfEg1usvLFyc8jLRqDOMru7AyC8saQr7GG7f5fvDeH7Ej8CM66nIF+8yngt6HWaKh7k49Soy9nXurCi1o3qUbS3zWfrYeQDTB/Qj6kX6Ybhw4B+bOYoLKCC9H3Nu/leUTZ1JdRWkkn2ldcCamzrcf47KKXdAJllSlxAOkRgyHsGC/zRday5Qld9DyoM4/q/rUoy/CXh3jzOu3bHUVZeU+DEn8FInkPBFlu3+nW3Nw0mk6vCDiWg8CeJaxEwuHS3+z5RgY+YBR6V1Z1nxSOfoaPa4LASWxxdNp+VWTk7+4vzaou8v8PN+xo+KY2xsw6une2frhw05CTYOmQvsEhjhWjn0bmXPjpE1+kplmmkP3suftwTubK9Vq22qKmrBhpY4jvd5afdRA3wGjFAgcnTK2s4hY0/GPNIb0nErGMCRxWOOX64Z8RAC4oCXdklmEvcL8o0BfkNK4lUg9HTl+oPlQxdNo3Mg4Nv175e/1LDGzZen30MEjRUtmXSfiTVu1kK8W4txyV6BMKlbgk3lMwYCiusNy9fVfvvwMxv8Ynl6vxoByANLTWplvuj/nF9m2+PDtt1eiHPBr1oIfhCChQMBw6Aw0UulqTKZdfVvfG7VcfIqLG9bcldL/+pdWTLxLUy8Qq38heUIjh4XlzZxzQm19lLFlr8vdQ97rjZVOLf8nclzckbcD4wxXMidpX30sFd37Fv/GtwwhzhxGVAprjbg0gCAEeIgwCZyTV2Z1REEW8O4py0wsjeloKoMr6iCY6dP92H6Vw/oTyICIthibxjm/DfN9lVz8IqtqKYLUXfoKVMVQVVJOElGjrnnUt9T9wbgp8AyYKaGlqingHZU/uG2NTZSVqwHQTWkx9hxjkpWDaCg6Ckj5qebgBVbT3V3NNXMSiWSDdGV3hrtzla7J+duwPOToIg42ChPQOQjspnSlp1V+Gjdged7+8UN5CRAV7a5EdFNwCjEaBR27b3W890TE7g24NAP/mMDXRWrGoFPQI9ls/MWO2dWFAar/xcOIImbbpA3zgAAAABJRU5ErkJggg==);\n",
       "        }\n",
       "    </style>\n",
       "    <div>\n",
       "        <a href=\"https://bokeh.org\" target=\"_blank\" class=\"bk-notebook-logo\"></a>\n",
       "        <span id=\"eaef68b9-5281-4d79-bb4f-0dd3a3c11b44\">Loading BokehJS ...</span>\n",
       "    </div>\n"
      ]
     },
     "metadata": {},
     "output_type": "display_data"
    },
    {
     "data": {
      "application/javascript": "'use strict';\n(function(root) {\n  function now() {\n    return new Date();\n  }\n\n  const force = true;\n\n  if (typeof root._bokeh_onload_callbacks === \"undefined\" || force === true) {\n    root._bokeh_onload_callbacks = [];\n    root._bokeh_is_loading = undefined;\n  }\n\nconst JS_MIME_TYPE = 'application/javascript';\n  const HTML_MIME_TYPE = 'text/html';\n  const EXEC_MIME_TYPE = 'application/vnd.bokehjs_exec.v0+json';\n  const CLASS_NAME = 'output_bokeh rendered_html';\n\n  /**\n   * Render data to the DOM node\n   */\n  function render(props, node) {\n    const script = document.createElement(\"script\");\n    node.appendChild(script);\n  }\n\n  /**\n   * Handle when an output is cleared or removed\n   */\n  function handleClearOutput(event, handle) {\n    function drop(id) {\n      const view = Bokeh.index.get_by_id(id)\n      if (view != null) {\n        view.model.document.clear()\n        Bokeh.index.delete(view)\n      }\n    }\n\n    const cell = handle.cell;\n\n    const id = cell.output_area._bokeh_element_id;\n    const server_id = cell.output_area._bokeh_server_id;\n\n    // Clean up Bokeh references\n    if (id != null) {\n      drop(id)\n    }\n\n    if (server_id !== undefined) {\n      // Clean up Bokeh references\n      const cmd_clean = \"from bokeh.io.state import curstate; print(curstate().uuid_to_server['\" + server_id + \"'].get_sessions()[0].document.roots[0]._id)\";\n      cell.notebook.kernel.execute(cmd_clean, {\n        iopub: {\n          output: function(msg) {\n            const id = msg.content.text.trim()\n            drop(id)\n          }\n        }\n      });\n      // Destroy server and session\n      const cmd_destroy = \"import bokeh.io.notebook as ion; ion.destroy_server('\" + server_id + \"')\";\n      cell.notebook.kernel.execute(cmd_destroy);\n    }\n  }\n\n  /**\n   * Handle when a new output is added\n   */\n  function handleAddOutput(event, handle) {\n    const output_area = handle.output_area;\n    const output = handle.output;\n\n    // limit handleAddOutput to display_data with EXEC_MIME_TYPE content only\n    if ((output.output_type != \"display_data\") || (!Object.prototype.hasOwnProperty.call(output.data, EXEC_MIME_TYPE))) {\n      return\n    }\n\n    const toinsert = output_area.element.find(\".\" + CLASS_NAME.split(' ')[0]);\n\n    if (output.metadata[EXEC_MIME_TYPE][\"id\"] !== undefined) {\n      toinsert[toinsert.length - 1].firstChild.textContent = output.data[JS_MIME_TYPE];\n      // store reference to embed id on output_area\n      output_area._bokeh_element_id = output.metadata[EXEC_MIME_TYPE][\"id\"];\n    }\n    if (output.metadata[EXEC_MIME_TYPE][\"server_id\"] !== undefined) {\n      const bk_div = document.createElement(\"div\");\n      bk_div.innerHTML = output.data[HTML_MIME_TYPE];\n      const script_attrs = bk_div.children[0].attributes;\n      for (let i = 0; i < script_attrs.length; i++) {\n        toinsert[toinsert.length - 1].firstChild.setAttribute(script_attrs[i].name, script_attrs[i].value);\n        toinsert[toinsert.length - 1].firstChild.textContent = bk_div.children[0].textContent\n      }\n      // store reference to server id on output_area\n      output_area._bokeh_server_id = output.metadata[EXEC_MIME_TYPE][\"server_id\"];\n    }\n  }\n\n  function register_renderer(events, OutputArea) {\n\n    function append_mime(data, metadata, element) {\n      // create a DOM node to render to\n      const toinsert = this.create_output_subarea(\n        metadata,\n        CLASS_NAME,\n        EXEC_MIME_TYPE\n      );\n      this.keyboard_manager.register_events(toinsert);\n      // Render to node\n      const props = {data: data, metadata: metadata[EXEC_MIME_TYPE]};\n      render(props, toinsert[toinsert.length - 1]);\n      element.append(toinsert);\n      return toinsert\n    }\n\n    /* Handle when an output is cleared or removed */\n    events.on('clear_output.CodeCell', handleClearOutput);\n    events.on('delete.Cell', handleClearOutput);\n\n    /* Handle when a new output is added */\n    events.on('output_added.OutputArea', handleAddOutput);\n\n    /**\n     * Register the mime type and append_mime function with output_area\n     */\n    OutputArea.prototype.register_mime_type(EXEC_MIME_TYPE, append_mime, {\n      /* Is output safe? */\n      safe: true,\n      /* Index of renderer in `output_area.display_order` */\n      index: 0\n    });\n  }\n\n  // register the mime type if in Jupyter Notebook environment and previously unregistered\n  if (root.Jupyter !== undefined) {\n    const events = require('base/js/events');\n    const OutputArea = require('notebook/js/outputarea').OutputArea;\n\n    if (OutputArea.prototype.mime_types().indexOf(EXEC_MIME_TYPE) == -1) {\n      register_renderer(events, OutputArea);\n    }\n  }\n  if (typeof (root._bokeh_timeout) === \"undefined\" || force === true) {\n    root._bokeh_timeout = Date.now() + 5000;\n    root._bokeh_failed_load = false;\n  }\n\n  const NB_LOAD_WARNING = {'data': {'text/html':\n     \"<div style='background-color: #fdd'>\\n\"+\n     \"<p>\\n\"+\n     \"BokehJS does not appear to have successfully loaded. If loading BokehJS from CDN, this \\n\"+\n     \"may be due to a slow or bad network connection. Possible fixes:\\n\"+\n     \"</p>\\n\"+\n     \"<ul>\\n\"+\n     \"<li>re-rerun `output_notebook()` to attempt to load from CDN again, or</li>\\n\"+\n     \"<li>use INLINE resources instead, as so:</li>\\n\"+\n     \"</ul>\\n\"+\n     \"<code>\\n\"+\n     \"from bokeh.resources import INLINE\\n\"+\n     \"output_notebook(resources=INLINE)\\n\"+\n     \"</code>\\n\"+\n     \"</div>\"}};\n\n  function display_loaded(error = null) {\n    const el = document.getElementById(\"eaef68b9-5281-4d79-bb4f-0dd3a3c11b44\");\n    if (el != null) {\n      const html = (() => {\n        if (typeof root.Bokeh === \"undefined\") {\n          if (error == null) {\n            return \"BokehJS is loading ...\";\n          } else {\n            return \"BokehJS failed to load.\";\n          }\n        } else {\n          const prefix = `BokehJS ${root.Bokeh.version}`;\n          if (error == null) {\n            return `${prefix} successfully loaded.`;\n          } else {\n            return `${prefix} <b>encountered errors</b> while loading and may not function as expected.`;\n          }\n        }\n      })();\n      el.innerHTML = html;\n\n      if (error != null) {\n        const wrapper = document.createElement(\"div\");\n        wrapper.style.overflow = \"auto\";\n        wrapper.style.height = \"5em\";\n        wrapper.style.resize = \"vertical\";\n        const content = document.createElement(\"div\");\n        content.style.fontFamily = \"monospace\";\n        content.style.whiteSpace = \"pre-wrap\";\n        content.style.backgroundColor = \"rgb(255, 221, 221)\";\n        content.textContent = error.stack ?? error.toString();\n        wrapper.append(content);\n        el.append(wrapper);\n      }\n    } else if (Date.now() < root._bokeh_timeout) {\n      setTimeout(() => display_loaded(error), 100);\n    }\n  }\n\n  function run_callbacks() {\n    try {\n      root._bokeh_onload_callbacks.forEach(function(callback) {\n        if (callback != null)\n          callback();\n      });\n    } finally {\n      delete root._bokeh_onload_callbacks\n    }\n    console.debug(\"Bokeh: all callbacks have finished\");\n  }\n\n  function load_libs(css_urls, js_urls, callback) {\n    if (css_urls == null) css_urls = [];\n    if (js_urls == null) js_urls = [];\n\n    root._bokeh_onload_callbacks.push(callback);\n    if (root._bokeh_is_loading > 0) {\n      console.debug(\"Bokeh: BokehJS is being loaded, scheduling callback at\", now());\n      return null;\n    }\n    if (js_urls == null || js_urls.length === 0) {\n      run_callbacks();\n      return null;\n    }\n    console.debug(\"Bokeh: BokehJS not loaded, scheduling load and callback at\", now());\n    root._bokeh_is_loading = css_urls.length + js_urls.length;\n\n    function on_load() {\n      root._bokeh_is_loading--;\n      if (root._bokeh_is_loading === 0) {\n        console.debug(\"Bokeh: all BokehJS libraries/stylesheets loaded\");\n        run_callbacks()\n      }\n    }\n\n    function on_error(url) {\n      console.error(\"failed to load \" + url);\n    }\n\n    for (let i = 0; i < css_urls.length; i++) {\n      const url = css_urls[i];\n      const element = document.createElement(\"link\");\n      element.onload = on_load;\n      element.onerror = on_error.bind(null, url);\n      element.rel = \"stylesheet\";\n      element.type = \"text/css\";\n      element.href = url;\n      console.debug(\"Bokeh: injecting link tag for BokehJS stylesheet: \", url);\n      document.body.appendChild(element);\n    }\n\n    for (let i = 0; i < js_urls.length; i++) {\n      const url = js_urls[i];\n      const element = document.createElement('script');\n      element.onload = on_load;\n      element.onerror = on_error.bind(null, url);\n      element.async = false;\n      element.src = url;\n      console.debug(\"Bokeh: injecting script tag for BokehJS library: \", url);\n      document.head.appendChild(element);\n    }\n  };\n\n  function inject_raw_css(css) {\n    const element = document.createElement(\"style\");\n    element.appendChild(document.createTextNode(css));\n    document.body.appendChild(element);\n  }\n\n  const js_urls = [\"https://cdn.bokeh.org/bokeh/release/bokeh-3.7.0.min.js\", \"https://cdn.bokeh.org/bokeh/release/bokeh-gl-3.7.0.min.js\", \"https://cdn.bokeh.org/bokeh/release/bokeh-widgets-3.7.0.min.js\", \"https://cdn.bokeh.org/bokeh/release/bokeh-tables-3.7.0.min.js\", \"https://cdn.bokeh.org/bokeh/release/bokeh-mathjax-3.7.0.min.js\"];\n  const css_urls = [];\n\n  const inline_js = [    function(Bokeh) {\n      Bokeh.set_log_level(\"info\");\n    },\nfunction(Bokeh) {\n    }\n  ];\n\n  function run_inline_js() {\n    if (root.Bokeh !== undefined || force === true) {\n      try {\n            for (let i = 0; i < inline_js.length; i++) {\n      inline_js[i].call(root, root.Bokeh);\n    }\n\n      } catch (error) {display_loaded(error);throw error;\n      }if (force === true) {\n        display_loaded();\n      }} else if (Date.now() < root._bokeh_timeout) {\n      setTimeout(run_inline_js, 100);\n    } else if (!root._bokeh_failed_load) {\n      console.log(\"Bokeh: BokehJS failed to load within specified timeout.\");\n      root._bokeh_failed_load = true;\n    } else if (force !== true) {\n      const cell = $(document.getElementById(\"eaef68b9-5281-4d79-bb4f-0dd3a3c11b44\")).parents('.cell').data().cell;\n      cell.output_area.append_execute_result(NB_LOAD_WARNING)\n    }\n  }\n\n  if (root._bokeh_is_loading === 0) {\n    console.debug(\"Bokeh: BokehJS loaded, going straight to plotting\");\n    run_inline_js();\n  } else {\n    load_libs(css_urls, js_urls, function() {\n      console.debug(\"Bokeh: BokehJS plotting callback run at\", now());\n      run_inline_js();\n    });\n  }\n}(window));",
      "application/vnd.bokehjs_load.v0+json": ""
     },
     "metadata": {},
     "output_type": "display_data"
    },
    {
     "data": {
      "text/html": [
       "\n",
       "  <div id=\"f2cbfd36-861c-46b1-ab2f-8bb0ebe3702b\" data-root-id=\"p1890\" style=\"display: contents;\"></div>\n"
      ]
     },
     "metadata": {},
     "output_type": "display_data"
    },
    {
     "data": {
      "application/javascript": "(function(root) {\n  function embed_document(root) {\n  const docs_json = {\"5c41266a-5bac-49b3-bb2e-4479e7ffdc61\":{\"version\":\"3.7.0\",\"title\":\"Bokeh Application\",\"roots\":[{\"type\":\"object\",\"name\":\"Figure\",\"id\":\"p1890\",\"attributes\":{\"width\":900,\"height\":500,\"x_range\":{\"type\":\"object\",\"name\":\"FactorRange\",\"id\":\"p1889\",\"attributes\":{\"factors\":[\"0\",\"1\",\"2\",\"3\",\"4\",\"5\",\"6\",\"7\",\"8\",\"9\",\"10\",\"11\",\"12\",\"13\",\"14\",\"15\",\"16\",\"17\",\"18\",\"19\",\"20\",\"21\",\"22\",\"23\"]}},\"y_range\":{\"type\":\"object\",\"name\":\"DataRange1d\",\"id\":\"p1892\"},\"x_scale\":{\"type\":\"object\",\"name\":\"CategoricalScale\",\"id\":\"p1900\"},\"y_scale\":{\"type\":\"object\",\"name\":\"LinearScale\",\"id\":\"p1901\"},\"title\":{\"type\":\"object\",\"name\":\"Title\",\"id\":\"p1893\",\"attributes\":{\"text\":\"Drug/Narcotic Crimes by Hour for Each Day\"}},\"renderers\":[{\"type\":\"object\",\"name\":\"GlyphRenderer\",\"id\":\"p1932\",\"attributes\":{\"name\":\"Monday\",\"data_source\":{\"type\":\"object\",\"name\":\"ColumnDataSource\",\"id\":\"p1886\",\"attributes\":{\"selected\":{\"type\":\"object\",\"name\":\"Selection\",\"id\":\"p1887\",\"attributes\":{\"indices\":[],\"line_indices\":[]}},\"selection_policy\":{\"type\":\"object\",\"name\":\"UnionRenderers\",\"id\":\"p1888\"},\"data\":{\"type\":\"map\",\"entries\":[[\"index\",{\"type\":\"ndarray\",\"array\":{\"type\":\"bytes\",\"data\":\"AAAAAAEAAAACAAAAAwAAAAQAAAAFAAAABgAAAAcAAAAIAAAACQAAAAoAAAALAAAADAAAAA0AAAAOAAAADwAAABAAAAARAAAAEgAAABMAAAAUAAAAFQAAABYAAAAXAAAA\"},\"shape\":[24],\"dtype\":\"int32\",\"order\":\"little\"}],[\"Hour\",{\"type\":\"ndarray\",\"array\":[\"0\",\"1\",\"2\",\"3\",\"4\",\"5\",\"6\",\"7\",\"8\",\"9\",\"10\",\"11\",\"12\",\"13\",\"14\",\"15\",\"16\",\"17\",\"18\",\"19\",\"20\",\"21\",\"22\",\"23\"],\"shape\":[24],\"dtype\":\"object\",\"order\":\"little\"}],[\"Monday\",{\"type\":\"ndarray\",\"array\":{\"type\":\"bytes\",\"data\":\"QwIAAGoBAAAmAQAAyQAAAKUAAABdAAAA7gAAAMUBAABzAgAA/AIAAG4DAABQBAAAVwQAAGgFAAAfBgAAnwUAAIMFAAA9BQAAsQQAAFIEAAAsAwAApQIAACADAAALAwAA\"},\"shape\":[24],\"dtype\":\"int32\",\"order\":\"little\"}],[\"Tuesday\",{\"type\":\"ndarray\",\"array\":{\"type\":\"bytes\",\"data\":\"1wIAAIUBAABRAQAAJAEAAMMAAABfAAAA9gAAACcCAACNAgAASAMAAK4DAADkBAAAPAUAAIoGAACRBwAADAcAAJUGAAAXBgAAOwUAAJEEAAD0AwAA0wMAAPEDAAAhAwAA\"},\"shape\":[24],\"dtype\":\"int32\",\"order\":\"little\"}],[\"Wednesday\",{\"type\":\"ndarray\",\"array\":{\"type\":\"bytes\",\"data\":\"awIAAIEBAABZAQAA9QAAAIgAAABNAAAAGgEAALACAABhAwAA5AMAAGEEAADoBAAAegUAAGIHAACHCAAAoAcAAF4HAABRBwAAcgYAAF0FAAAHBAAAugMAADUEAABLAwAA\"},\"shape\":[24],\"dtype\":\"int32\",\"order\":\"little\"}],[\"Thursday\",{\"type\":\"ndarray\",\"array\":{\"type\":\"bytes\",\"data\":\"mwIAAJMBAABEAQAA5QAAAHYAAABPAAAA1AAAAGACAAAIAwAAkgMAAKUDAADGAwAAWgQAAJkGAAAPBwAAdgYAAJYGAAAfBgAAogUAAK8EAAC1AwAAogMAABsEAABqAwAA\"},\"shape\":[24],\"dtype\":\"int32\",\"order\":\"little\"}],[\"Friday\",{\"type\":\"ndarray\",\"array\":{\"type\":\"bytes\",\"data\":\"cQIAAH8BAAA7AQAA0wAAAI4AAABcAAAA6AAAAAECAACtAgAAGgMAACkDAABsAwAAJwQAAGwFAADCBQAAhgUAAKMFAADeBQAA0wQAAGAEAADqAgAAqQIAACQDAADuAgAA\"},\"shape\":[24],\"dtype\":\"int32\",\"order\":\"little\"}],[\"Saturday\",{\"type\":\"ndarray\",\"array\":{\"type\":\"bytes\",\"data\":\"XQIAAHYBAAApAQAAmQAAAJMAAABRAAAA8AAAAAICAAB3AgAAhAIAAAcDAABDAwAAogMAAAsEAADyAwAAIgQAAJ0EAADWBAAAKAQAAHADAACAAgAAVwIAACIDAACzAgAA\"},\"shape\":[24],\"dtype\":\"int32\",\"order\":\"little\"}],[\"Sunday\",{\"type\":\"ndarray\",\"array\":{\"type\":\"bytes\",\"data\":\"8wEAADsBAAD5AAAAoQAAAJwAAABZAAAAAQEAAKoBAABSAgAAhQIAAKYCAAAlAwAAfgMAALUDAADBAwAAhAMAAEAEAACUBAAADAQAAOUCAABDAgAAVgIAAHsDAADsAgAA\"},\"shape\":[24],\"dtype\":\"int32\",\"order\":\"little\"}]]}}},\"view\":{\"type\":\"object\",\"name\":\"CDSView\",\"id\":\"p1933\",\"attributes\":{\"filter\":{\"type\":\"object\",\"name\":\"AllIndices\",\"id\":\"p1934\"}}},\"glyph\":{\"type\":\"object\",\"name\":\"VBar\",\"id\":\"p1929\",\"attributes\":{\"x\":{\"type\":\"field\",\"field\":\"Hour\",\"transform\":{\"type\":\"object\",\"name\":\"Dodge\",\"id\":\"p1925\",\"attributes\":{\"value\":-0.4,\"range\":{\"id\":\"p1889\"}}}},\"width\":{\"type\":\"value\",\"value\":0.1142857142857143},\"top\":{\"type\":\"field\",\"field\":\"Monday\"},\"line_color\":{\"type\":\"value\",\"value\":\"#1f77b4\"},\"line_alpha\":{\"type\":\"value\",\"value\":0.6},\"fill_color\":{\"type\":\"value\",\"value\":\"#1f77b4\"},\"fill_alpha\":{\"type\":\"value\",\"value\":0.5},\"hatch_color\":{\"type\":\"value\",\"value\":\"#1f77b4\"},\"hatch_alpha\":{\"type\":\"value\",\"value\":0.6}}},\"nonselection_glyph\":{\"type\":\"object\",\"name\":\"VBar\",\"id\":\"p1930\",\"attributes\":{\"x\":{\"type\":\"field\",\"field\":\"Hour\",\"transform\":{\"id\":\"p1925\"}},\"width\":{\"type\":\"value\",\"value\":0.1142857142857143},\"top\":{\"type\":\"field\",\"field\":\"Monday\"},\"line_color\":{\"type\":\"value\",\"value\":\"#1f77b4\"},\"line_alpha\":{\"type\":\"value\",\"value\":0.1},\"fill_color\":{\"type\":\"value\",\"value\":\"#1f77b4\"},\"fill_alpha\":{\"type\":\"value\",\"value\":0.1},\"hatch_color\":{\"type\":\"value\",\"value\":\"#1f77b4\"},\"hatch_alpha\":{\"type\":\"value\",\"value\":0.1}}},\"muted_glyph\":{\"type\":\"object\",\"name\":\"VBar\",\"id\":\"p1931\",\"attributes\":{\"x\":{\"type\":\"field\",\"field\":\"Hour\",\"transform\":{\"id\":\"p1925\"}},\"width\":{\"type\":\"value\",\"value\":0.1142857142857143},\"top\":{\"type\":\"field\",\"field\":\"Monday\"},\"line_color\":{\"type\":\"value\",\"value\":\"#1f77b4\"},\"line_alpha\":{\"type\":\"value\",\"value\":0.3},\"fill_color\":{\"type\":\"value\",\"value\":\"#1f77b4\"},\"fill_alpha\":{\"type\":\"value\",\"value\":0.3},\"hatch_color\":{\"type\":\"value\",\"value\":\"#1f77b4\"},\"hatch_alpha\":{\"type\":\"value\",\"value\":0.3}}}}},{\"type\":\"object\",\"name\":\"GlyphRenderer\",\"id\":\"p1944\",\"attributes\":{\"name\":\"Tuesday\",\"data_source\":{\"id\":\"p1886\"},\"view\":{\"type\":\"object\",\"name\":\"CDSView\",\"id\":\"p1945\",\"attributes\":{\"filter\":{\"type\":\"object\",\"name\":\"AllIndices\",\"id\":\"p1946\"}}},\"glyph\":{\"type\":\"object\",\"name\":\"VBar\",\"id\":\"p1941\",\"attributes\":{\"x\":{\"type\":\"field\",\"field\":\"Hour\",\"transform\":{\"type\":\"object\",\"name\":\"Dodge\",\"id\":\"p1937\",\"attributes\":{\"value\":-0.2857142857142857,\"range\":{\"id\":\"p1889\"}}}},\"width\":{\"type\":\"value\",\"value\":0.1142857142857143},\"top\":{\"type\":\"field\",\"field\":\"Tuesday\"},\"line_color\":{\"type\":\"value\",\"value\":\"#ff7f0e\"},\"line_alpha\":{\"type\":\"value\",\"value\":0.6},\"fill_color\":{\"type\":\"value\",\"value\":\"#ff7f0e\"},\"fill_alpha\":{\"type\":\"value\",\"value\":0.5},\"hatch_color\":{\"type\":\"value\",\"value\":\"#ff7f0e\"},\"hatch_alpha\":{\"type\":\"value\",\"value\":0.6}}},\"nonselection_glyph\":{\"type\":\"object\",\"name\":\"VBar\",\"id\":\"p1942\",\"attributes\":{\"x\":{\"type\":\"field\",\"field\":\"Hour\",\"transform\":{\"id\":\"p1937\"}},\"width\":{\"type\":\"value\",\"value\":0.1142857142857143},\"top\":{\"type\":\"field\",\"field\":\"Tuesday\"},\"line_color\":{\"type\":\"value\",\"value\":\"#ff7f0e\"},\"line_alpha\":{\"type\":\"value\",\"value\":0.1},\"fill_color\":{\"type\":\"value\",\"value\":\"#ff7f0e\"},\"fill_alpha\":{\"type\":\"value\",\"value\":0.1},\"hatch_color\":{\"type\":\"value\",\"value\":\"#ff7f0e\"},\"hatch_alpha\":{\"type\":\"value\",\"value\":0.1}}},\"muted_glyph\":{\"type\":\"object\",\"name\":\"VBar\",\"id\":\"p1943\",\"attributes\":{\"x\":{\"type\":\"field\",\"field\":\"Hour\",\"transform\":{\"id\":\"p1937\"}},\"width\":{\"type\":\"value\",\"value\":0.1142857142857143},\"top\":{\"type\":\"field\",\"field\":\"Tuesday\"},\"line_color\":{\"type\":\"value\",\"value\":\"#ff7f0e\"},\"line_alpha\":{\"type\":\"value\",\"value\":0.3},\"fill_color\":{\"type\":\"value\",\"value\":\"#ff7f0e\"},\"fill_alpha\":{\"type\":\"value\",\"value\":0.3},\"hatch_color\":{\"type\":\"value\",\"value\":\"#ff7f0e\"},\"hatch_alpha\":{\"type\":\"value\",\"value\":0.3}}}}},{\"type\":\"object\",\"name\":\"GlyphRenderer\",\"id\":\"p1955\",\"attributes\":{\"name\":\"Wednesday\",\"data_source\":{\"id\":\"p1886\"},\"view\":{\"type\":\"object\",\"name\":\"CDSView\",\"id\":\"p1956\",\"attributes\":{\"filter\":{\"type\":\"object\",\"name\":\"AllIndices\",\"id\":\"p1957\"}}},\"glyph\":{\"type\":\"object\",\"name\":\"VBar\",\"id\":\"p1952\",\"attributes\":{\"x\":{\"type\":\"field\",\"field\":\"Hour\",\"transform\":{\"type\":\"object\",\"name\":\"Dodge\",\"id\":\"p1948\",\"attributes\":{\"value\":-0.17142857142857143,\"range\":{\"id\":\"p1889\"}}}},\"width\":{\"type\":\"value\",\"value\":0.1142857142857143},\"top\":{\"type\":\"field\",\"field\":\"Wednesday\"},\"line_color\":{\"type\":\"value\",\"value\":\"#2ca02c\"},\"line_alpha\":{\"type\":\"value\",\"value\":0.6},\"fill_color\":{\"type\":\"value\",\"value\":\"#2ca02c\"},\"fill_alpha\":{\"type\":\"value\",\"value\":0.5},\"hatch_color\":{\"type\":\"value\",\"value\":\"#2ca02c\"},\"hatch_alpha\":{\"type\":\"value\",\"value\":0.6}}},\"nonselection_glyph\":{\"type\":\"object\",\"name\":\"VBar\",\"id\":\"p1953\",\"attributes\":{\"x\":{\"type\":\"field\",\"field\":\"Hour\",\"transform\":{\"id\":\"p1948\"}},\"width\":{\"type\":\"value\",\"value\":0.1142857142857143},\"top\":{\"type\":\"field\",\"field\":\"Wednesday\"},\"line_color\":{\"type\":\"value\",\"value\":\"#2ca02c\"},\"line_alpha\":{\"type\":\"value\",\"value\":0.1},\"fill_color\":{\"type\":\"value\",\"value\":\"#2ca02c\"},\"fill_alpha\":{\"type\":\"value\",\"value\":0.1},\"hatch_color\":{\"type\":\"value\",\"value\":\"#2ca02c\"},\"hatch_alpha\":{\"type\":\"value\",\"value\":0.1}}},\"muted_glyph\":{\"type\":\"object\",\"name\":\"VBar\",\"id\":\"p1954\",\"attributes\":{\"x\":{\"type\":\"field\",\"field\":\"Hour\",\"transform\":{\"id\":\"p1948\"}},\"width\":{\"type\":\"value\",\"value\":0.1142857142857143},\"top\":{\"type\":\"field\",\"field\":\"Wednesday\"},\"line_color\":{\"type\":\"value\",\"value\":\"#2ca02c\"},\"line_alpha\":{\"type\":\"value\",\"value\":0.3},\"fill_color\":{\"type\":\"value\",\"value\":\"#2ca02c\"},\"fill_alpha\":{\"type\":\"value\",\"value\":0.3},\"hatch_color\":{\"type\":\"value\",\"value\":\"#2ca02c\"},\"hatch_alpha\":{\"type\":\"value\",\"value\":0.3}}}}},{\"type\":\"object\",\"name\":\"GlyphRenderer\",\"id\":\"p1966\",\"attributes\":{\"name\":\"Thursday\",\"data_source\":{\"id\":\"p1886\"},\"view\":{\"type\":\"object\",\"name\":\"CDSView\",\"id\":\"p1967\",\"attributes\":{\"filter\":{\"type\":\"object\",\"name\":\"AllIndices\",\"id\":\"p1968\"}}},\"glyph\":{\"type\":\"object\",\"name\":\"VBar\",\"id\":\"p1963\",\"attributes\":{\"x\":{\"type\":\"field\",\"field\":\"Hour\",\"transform\":{\"type\":\"object\",\"name\":\"Dodge\",\"id\":\"p1959\",\"attributes\":{\"value\":-0.05714285714285716,\"range\":{\"id\":\"p1889\"}}}},\"width\":{\"type\":\"value\",\"value\":0.1142857142857143},\"top\":{\"type\":\"field\",\"field\":\"Thursday\"},\"line_color\":{\"type\":\"value\",\"value\":\"#d62728\"},\"line_alpha\":{\"type\":\"value\",\"value\":0.6},\"fill_color\":{\"type\":\"value\",\"value\":\"#d62728\"},\"fill_alpha\":{\"type\":\"value\",\"value\":0.5},\"hatch_color\":{\"type\":\"value\",\"value\":\"#d62728\"},\"hatch_alpha\":{\"type\":\"value\",\"value\":0.6}}},\"nonselection_glyph\":{\"type\":\"object\",\"name\":\"VBar\",\"id\":\"p1964\",\"attributes\":{\"x\":{\"type\":\"field\",\"field\":\"Hour\",\"transform\":{\"id\":\"p1959\"}},\"width\":{\"type\":\"value\",\"value\":0.1142857142857143},\"top\":{\"type\":\"field\",\"field\":\"Thursday\"},\"line_color\":{\"type\":\"value\",\"value\":\"#d62728\"},\"line_alpha\":{\"type\":\"value\",\"value\":0.1},\"fill_color\":{\"type\":\"value\",\"value\":\"#d62728\"},\"fill_alpha\":{\"type\":\"value\",\"value\":0.1},\"hatch_color\":{\"type\":\"value\",\"value\":\"#d62728\"},\"hatch_alpha\":{\"type\":\"value\",\"value\":0.1}}},\"muted_glyph\":{\"type\":\"object\",\"name\":\"VBar\",\"id\":\"p1965\",\"attributes\":{\"x\":{\"type\":\"field\",\"field\":\"Hour\",\"transform\":{\"id\":\"p1959\"}},\"width\":{\"type\":\"value\",\"value\":0.1142857142857143},\"top\":{\"type\":\"field\",\"field\":\"Thursday\"},\"line_color\":{\"type\":\"value\",\"value\":\"#d62728\"},\"line_alpha\":{\"type\":\"value\",\"value\":0.3},\"fill_color\":{\"type\":\"value\",\"value\":\"#d62728\"},\"fill_alpha\":{\"type\":\"value\",\"value\":0.3},\"hatch_color\":{\"type\":\"value\",\"value\":\"#d62728\"},\"hatch_alpha\":{\"type\":\"value\",\"value\":0.3}}}}},{\"type\":\"object\",\"name\":\"GlyphRenderer\",\"id\":\"p1977\",\"attributes\":{\"name\":\"Friday\",\"data_source\":{\"id\":\"p1886\"},\"view\":{\"type\":\"object\",\"name\":\"CDSView\",\"id\":\"p1978\",\"attributes\":{\"filter\":{\"type\":\"object\",\"name\":\"AllIndices\",\"id\":\"p1979\"}}},\"glyph\":{\"type\":\"object\",\"name\":\"VBar\",\"id\":\"p1974\",\"attributes\":{\"x\":{\"type\":\"field\",\"field\":\"Hour\",\"transform\":{\"type\":\"object\",\"name\":\"Dodge\",\"id\":\"p1970\",\"attributes\":{\"value\":0.05714285714285716,\"range\":{\"id\":\"p1889\"}}}},\"width\":{\"type\":\"value\",\"value\":0.1142857142857143},\"top\":{\"type\":\"field\",\"field\":\"Friday\"},\"line_color\":{\"type\":\"value\",\"value\":\"#9467bd\"},\"line_alpha\":{\"type\":\"value\",\"value\":0.6},\"fill_color\":{\"type\":\"value\",\"value\":\"#9467bd\"},\"fill_alpha\":{\"type\":\"value\",\"value\":0.5},\"hatch_color\":{\"type\":\"value\",\"value\":\"#9467bd\"},\"hatch_alpha\":{\"type\":\"value\",\"value\":0.6}}},\"nonselection_glyph\":{\"type\":\"object\",\"name\":\"VBar\",\"id\":\"p1975\",\"attributes\":{\"x\":{\"type\":\"field\",\"field\":\"Hour\",\"transform\":{\"id\":\"p1970\"}},\"width\":{\"type\":\"value\",\"value\":0.1142857142857143},\"top\":{\"type\":\"field\",\"field\":\"Friday\"},\"line_color\":{\"type\":\"value\",\"value\":\"#9467bd\"},\"line_alpha\":{\"type\":\"value\",\"value\":0.1},\"fill_color\":{\"type\":\"value\",\"value\":\"#9467bd\"},\"fill_alpha\":{\"type\":\"value\",\"value\":0.1},\"hatch_color\":{\"type\":\"value\",\"value\":\"#9467bd\"},\"hatch_alpha\":{\"type\":\"value\",\"value\":0.1}}},\"muted_glyph\":{\"type\":\"object\",\"name\":\"VBar\",\"id\":\"p1976\",\"attributes\":{\"x\":{\"type\":\"field\",\"field\":\"Hour\",\"transform\":{\"id\":\"p1970\"}},\"width\":{\"type\":\"value\",\"value\":0.1142857142857143},\"top\":{\"type\":\"field\",\"field\":\"Friday\"},\"line_color\":{\"type\":\"value\",\"value\":\"#9467bd\"},\"line_alpha\":{\"type\":\"value\",\"value\":0.3},\"fill_color\":{\"type\":\"value\",\"value\":\"#9467bd\"},\"fill_alpha\":{\"type\":\"value\",\"value\":0.3},\"hatch_color\":{\"type\":\"value\",\"value\":\"#9467bd\"},\"hatch_alpha\":{\"type\":\"value\",\"value\":0.3}}}}},{\"type\":\"object\",\"name\":\"GlyphRenderer\",\"id\":\"p1988\",\"attributes\":{\"name\":\"Saturday\",\"data_source\":{\"id\":\"p1886\"},\"view\":{\"type\":\"object\",\"name\":\"CDSView\",\"id\":\"p1989\",\"attributes\":{\"filter\":{\"type\":\"object\",\"name\":\"AllIndices\",\"id\":\"p1990\"}}},\"glyph\":{\"type\":\"object\",\"name\":\"VBar\",\"id\":\"p1985\",\"attributes\":{\"x\":{\"type\":\"field\",\"field\":\"Hour\",\"transform\":{\"type\":\"object\",\"name\":\"Dodge\",\"id\":\"p1981\",\"attributes\":{\"value\":0.17142857142857149,\"range\":{\"id\":\"p1889\"}}}},\"width\":{\"type\":\"value\",\"value\":0.1142857142857143},\"top\":{\"type\":\"field\",\"field\":\"Saturday\"},\"line_color\":{\"type\":\"value\",\"value\":\"#8c564b\"},\"line_alpha\":{\"type\":\"value\",\"value\":0.6},\"fill_color\":{\"type\":\"value\",\"value\":\"#8c564b\"},\"fill_alpha\":{\"type\":\"value\",\"value\":0.5},\"hatch_color\":{\"type\":\"value\",\"value\":\"#8c564b\"},\"hatch_alpha\":{\"type\":\"value\",\"value\":0.6}}},\"nonselection_glyph\":{\"type\":\"object\",\"name\":\"VBar\",\"id\":\"p1986\",\"attributes\":{\"x\":{\"type\":\"field\",\"field\":\"Hour\",\"transform\":{\"id\":\"p1981\"}},\"width\":{\"type\":\"value\",\"value\":0.1142857142857143},\"top\":{\"type\":\"field\",\"field\":\"Saturday\"},\"line_color\":{\"type\":\"value\",\"value\":\"#8c564b\"},\"line_alpha\":{\"type\":\"value\",\"value\":0.1},\"fill_color\":{\"type\":\"value\",\"value\":\"#8c564b\"},\"fill_alpha\":{\"type\":\"value\",\"value\":0.1},\"hatch_color\":{\"type\":\"value\",\"value\":\"#8c564b\"},\"hatch_alpha\":{\"type\":\"value\",\"value\":0.1}}},\"muted_glyph\":{\"type\":\"object\",\"name\":\"VBar\",\"id\":\"p1987\",\"attributes\":{\"x\":{\"type\":\"field\",\"field\":\"Hour\",\"transform\":{\"id\":\"p1981\"}},\"width\":{\"type\":\"value\",\"value\":0.1142857142857143},\"top\":{\"type\":\"field\",\"field\":\"Saturday\"},\"line_color\":{\"type\":\"value\",\"value\":\"#8c564b\"},\"line_alpha\":{\"type\":\"value\",\"value\":0.3},\"fill_color\":{\"type\":\"value\",\"value\":\"#8c564b\"},\"fill_alpha\":{\"type\":\"value\",\"value\":0.3},\"hatch_color\":{\"type\":\"value\",\"value\":\"#8c564b\"},\"hatch_alpha\":{\"type\":\"value\",\"value\":0.3}}}}},{\"type\":\"object\",\"name\":\"GlyphRenderer\",\"id\":\"p1999\",\"attributes\":{\"name\":\"Sunday\",\"data_source\":{\"id\":\"p1886\"},\"view\":{\"type\":\"object\",\"name\":\"CDSView\",\"id\":\"p2000\",\"attributes\":{\"filter\":{\"type\":\"object\",\"name\":\"AllIndices\",\"id\":\"p2001\"}}},\"glyph\":{\"type\":\"object\",\"name\":\"VBar\",\"id\":\"p1996\",\"attributes\":{\"x\":{\"type\":\"field\",\"field\":\"Hour\",\"transform\":{\"type\":\"object\",\"name\":\"Dodge\",\"id\":\"p1992\",\"attributes\":{\"value\":0.2857142857142857,\"range\":{\"id\":\"p1889\"}}}},\"width\":{\"type\":\"value\",\"value\":0.1142857142857143},\"top\":{\"type\":\"field\",\"field\":\"Sunday\"},\"line_color\":{\"type\":\"value\",\"value\":\"#e377c2\"},\"line_alpha\":{\"type\":\"value\",\"value\":0.6},\"fill_color\":{\"type\":\"value\",\"value\":\"#e377c2\"},\"fill_alpha\":{\"type\":\"value\",\"value\":0.5},\"hatch_color\":{\"type\":\"value\",\"value\":\"#e377c2\"},\"hatch_alpha\":{\"type\":\"value\",\"value\":0.6}}},\"nonselection_glyph\":{\"type\":\"object\",\"name\":\"VBar\",\"id\":\"p1997\",\"attributes\":{\"x\":{\"type\":\"field\",\"field\":\"Hour\",\"transform\":{\"id\":\"p1992\"}},\"width\":{\"type\":\"value\",\"value\":0.1142857142857143},\"top\":{\"type\":\"field\",\"field\":\"Sunday\"},\"line_color\":{\"type\":\"value\",\"value\":\"#e377c2\"},\"line_alpha\":{\"type\":\"value\",\"value\":0.1},\"fill_color\":{\"type\":\"value\",\"value\":\"#e377c2\"},\"fill_alpha\":{\"type\":\"value\",\"value\":0.1},\"hatch_color\":{\"type\":\"value\",\"value\":\"#e377c2\"},\"hatch_alpha\":{\"type\":\"value\",\"value\":0.1}}},\"muted_glyph\":{\"type\":\"object\",\"name\":\"VBar\",\"id\":\"p1998\",\"attributes\":{\"x\":{\"type\":\"field\",\"field\":\"Hour\",\"transform\":{\"id\":\"p1992\"}},\"width\":{\"type\":\"value\",\"value\":0.1142857142857143},\"top\":{\"type\":\"field\",\"field\":\"Sunday\"},\"line_color\":{\"type\":\"value\",\"value\":\"#e377c2\"},\"line_alpha\":{\"type\":\"value\",\"value\":0.3},\"fill_color\":{\"type\":\"value\",\"value\":\"#e377c2\"},\"fill_alpha\":{\"type\":\"value\",\"value\":0.3},\"hatch_color\":{\"type\":\"value\",\"value\":\"#e377c2\"},\"hatch_alpha\":{\"type\":\"value\",\"value\":0.3}}}}}],\"toolbar\":{\"type\":\"object\",\"name\":\"Toolbar\",\"id\":\"p1899\",\"attributes\":{\"tools\":[{\"type\":\"object\",\"name\":\"PanTool\",\"id\":\"p1912\"},{\"type\":\"object\",\"name\":\"WheelZoomTool\",\"id\":\"p1913\",\"attributes\":{\"renderers\":\"auto\"}},{\"type\":\"object\",\"name\":\"BoxZoomTool\",\"id\":\"p1914\",\"attributes\":{\"dimensions\":\"both\",\"overlay\":{\"type\":\"object\",\"name\":\"BoxAnnotation\",\"id\":\"p1915\",\"attributes\":{\"syncable\":false,\"line_color\":\"black\",\"line_alpha\":1.0,\"line_width\":2,\"line_dash\":[4,4],\"fill_color\":\"lightgrey\",\"fill_alpha\":0.5,\"level\":\"overlay\",\"visible\":false,\"left\":{\"type\":\"number\",\"value\":\"nan\"},\"right\":{\"type\":\"number\",\"value\":\"nan\"},\"top\":{\"type\":\"number\",\"value\":\"nan\"},\"bottom\":{\"type\":\"number\",\"value\":\"nan\"},\"left_units\":\"canvas\",\"right_units\":\"canvas\",\"top_units\":\"canvas\",\"bottom_units\":\"canvas\",\"handles\":{\"type\":\"object\",\"name\":\"BoxInteractionHandles\",\"id\":\"p1921\",\"attributes\":{\"all\":{\"type\":\"object\",\"name\":\"AreaVisuals\",\"id\":\"p1920\",\"attributes\":{\"fill_color\":\"white\",\"hover_fill_color\":\"lightgray\"}}}}}}}},{\"type\":\"object\",\"name\":\"SaveTool\",\"id\":\"p1922\"},{\"type\":\"object\",\"name\":\"ResetTool\",\"id\":\"p1923\"},{\"type\":\"object\",\"name\":\"HelpTool\",\"id\":\"p1924\"}]}},\"left\":[{\"type\":\"object\",\"name\":\"LinearAxis\",\"id\":\"p1907\",\"attributes\":{\"ticker\":{\"type\":\"object\",\"name\":\"BasicTicker\",\"id\":\"p1908\",\"attributes\":{\"mantissas\":[1,2,5]}},\"formatter\":{\"type\":\"object\",\"name\":\"BasicTickFormatter\",\"id\":\"p1909\"},\"axis_label\":\"Number of Crimes\",\"major_label_policy\":{\"type\":\"object\",\"name\":\"AllLabels\",\"id\":\"p1910\"}}}],\"below\":[{\"type\":\"object\",\"name\":\"CategoricalAxis\",\"id\":\"p1902\",\"attributes\":{\"ticker\":{\"type\":\"object\",\"name\":\"CategoricalTicker\",\"id\":\"p1903\"},\"formatter\":{\"type\":\"object\",\"name\":\"CategoricalTickFormatter\",\"id\":\"p1904\"},\"axis_label\":\"Hour of the Day\",\"major_label_policy\":{\"type\":\"object\",\"name\":\"AllLabels\",\"id\":\"p1905\"}}}],\"center\":[{\"type\":\"object\",\"name\":\"Grid\",\"id\":\"p1906\",\"attributes\":{\"axis\":{\"id\":\"p1902\"}}},{\"type\":\"object\",\"name\":\"Grid\",\"id\":\"p1911\",\"attributes\":{\"dimension\":1,\"axis\":{\"id\":\"p1907\"}}},{\"type\":\"object\",\"name\":\"Legend\",\"id\":\"p1935\",\"attributes\":{\"click_policy\":\"hide\",\"items\":[{\"type\":\"object\",\"name\":\"LegendItem\",\"id\":\"p1936\",\"attributes\":{\"label\":{\"type\":\"value\",\"value\":\"Monday\"},\"renderers\":[{\"id\":\"p1932\"}]}},{\"type\":\"object\",\"name\":\"LegendItem\",\"id\":\"p1947\",\"attributes\":{\"label\":{\"type\":\"value\",\"value\":\"Tuesday\"},\"renderers\":[{\"id\":\"p1944\"}]}},{\"type\":\"object\",\"name\":\"LegendItem\",\"id\":\"p1958\",\"attributes\":{\"label\":{\"type\":\"value\",\"value\":\"Wednesday\"},\"renderers\":[{\"id\":\"p1955\"}]}},{\"type\":\"object\",\"name\":\"LegendItem\",\"id\":\"p1969\",\"attributes\":{\"label\":{\"type\":\"value\",\"value\":\"Thursday\"},\"renderers\":[{\"id\":\"p1966\"}]}},{\"type\":\"object\",\"name\":\"LegendItem\",\"id\":\"p1980\",\"attributes\":{\"label\":{\"type\":\"value\",\"value\":\"Friday\"},\"renderers\":[{\"id\":\"p1977\"}]}},{\"type\":\"object\",\"name\":\"LegendItem\",\"id\":\"p1991\",\"attributes\":{\"label\":{\"type\":\"value\",\"value\":\"Saturday\"},\"renderers\":[{\"id\":\"p1988\"}]}},{\"type\":\"object\",\"name\":\"LegendItem\",\"id\":\"p2002\",\"attributes\":{\"label\":{\"type\":\"value\",\"value\":\"Sunday\"},\"renderers\":[{\"id\":\"p1999\"}]}}]}}]}}]}};\n  const render_items = [{\"docid\":\"5c41266a-5bac-49b3-bb2e-4479e7ffdc61\",\"roots\":{\"p1890\":\"f2cbfd36-861c-46b1-ab2f-8bb0ebe3702b\"},\"root_ids\":[\"p1890\"]}];\n  void root.Bokeh.embed.embed_items_notebook(docs_json, render_items);\n  }\n  if (root.Bokeh !== undefined) {\n    embed_document(root);\n  } else {\n    let attempts = 0;\n    const timer = setInterval(function(root) {\n      if (root.Bokeh !== undefined) {\n        clearInterval(timer);\n        embed_document(root);\n      } else {\n        attempts++;\n        if (attempts > 100) {\n          clearInterval(timer);\n          console.log(\"Bokeh: ERROR: Unable to run BokehJS code because BokehJS library is missing\");\n        }\n      }\n    }, 10, root)\n  }\n})(window);",
      "application/vnd.bokehjs_exec.v0+json": ""
     },
     "metadata": {
      "application/vnd.bokehjs_exec.v0+json": {
       "id": "p1890"
      }
     },
     "output_type": "display_data"
    }
   ],
   "source": [
    "import pandas as pd\n",
    "import os\n",
    "from bokeh.models import ColumnDataSource, FactorRange, HoverTool\n",
    "from bokeh.plotting import figure, show, output_notebook\n",
    "from bokeh.transform import dodge\n",
    "from bokeh.palettes import Category10\n",
    "\n",
    "# Assuming df has been loaded and filtered, and 2025 data removed:\n",
    "# data_path = os.path.abspath(os.path.join(os.pardir, \"data\"))\n",
    "# cleaned_data_path = os.path.join(data_path, \"Police_Department_Incident_Reports_Complete.csv\")\n",
    "# df = pd.read_csv(cleaned_data_path)\n",
    "# df = df[df['Year'] != 2025]\n",
    "# df_drug = df[df['Category'] == 'DRUG/NARCOTIC'].copy()\n",
    "\n",
    "# Define the desired order for days\n",
    "days_order = ['Monday', 'Tuesday', 'Wednesday', 'Thursday', 'Friday', 'Saturday', 'Sunday']\n",
    "\n",
    "# Create a pivot table: rows=Hour, columns=Day of Week, values=count of crimes\n",
    "df_pivot = df_drug.groupby(['Hour', 'Day of Week']).size().unstack(fill_value=0)\n",
    "\n",
    "# Reorder columns to follow days_order (only include days present in the data)\n",
    "df_pivot = df_pivot[[day for day in days_order if day in df_pivot.columns]]\n",
    "df_pivot = df_pivot.reset_index()\n",
    "\n",
    "# Convert Hour to string so that Bokeh treats it as a categorical factor.\n",
    "df_pivot['Hour'] = df_pivot['Hour'].astype(str)\n",
    "\n",
    "# Create a ColumnDataSource from the pivot DataFrame.\n",
    "source = ColumnDataSource(df_pivot)\n",
    "\n",
    "# Get the list of hours (as strings) to be used as the x-axis categories.\n",
    "hours_as_str = list(df_pivot['Hour'])\n",
    "\n",
    "# Create a figure with a FactorRange for the x-axis.\n",
    "p = figure(\n",
    "    x_range=FactorRange(*hours_as_str),\n",
    "    width=900,\n",
    "    height=500,\n",
    "    title=\"Drug/Narcotic Crimes by Hour for Each Day\",\n",
    "    toolbar_location='right'\n",
    ")\n",
    "\n",
    "# Identify the day columns (all columns except \"Hour\")\n",
    "day_columns = [col for col in df_pivot.columns if col != 'Hour']\n",
    "colors = Category10[len(day_columns)]\n",
    "\n",
    "# Compute a bar width that allows for side-by-side bars (using dodge)\n",
    "bar_width = 0.8 / len(day_columns)\n",
    "\n",
    "# Create a list to hold the renderers (needed for the hover tool)\n",
    "renderers = []\n",
    "for i, day in enumerate(day_columns):\n",
    "    r = p.vbar(\n",
    "        x=dodge('Hour', -0.4 + i * bar_width, range=p.x_range),\n",
    "        top=day,\n",
    "        width=bar_width,\n",
    "        source=source,\n",
    "        legend_label=day,\n",
    "        color=colors[i % len(colors)],\n",
    "        fill_alpha=0.5,\n",
    "        muted_alpha=0.3,\n",
    "        alpha=0.6,\n",
    "        name=day  # Set the name to the day, used in hover tool\n",
    "    )\n",
    "    renderers.append(r)\n",
    "\n",
    "# Format the axes\n",
    "p.xaxis.axis_label = \"Hour of the Day\"\n",
    "p.yaxis.axis_label = \"Number of Crimes\"\n",
    "\n",
    "# Make the legend items clickable to hide/show the corresponding day's bars.\n",
    "p.legend.click_policy = \"hide\"\n",
    "\n",
    "# Display the plot in the notebook.\n",
    "output_notebook()\n",
    "show(p)\n"
   ]
  },
  {
   "cell_type": "code",
   "execution_count": 6,
   "metadata": {},
   "outputs": [
    {
     "data": {
      "text/html": [
       "    <style>\n",
       "        .bk-notebook-logo {\n",
       "            display: block;\n",
       "            width: 20px;\n",
       "            height: 20px;\n",
       "            background-image: url(data:image/png;base64,iVBORw0KGgoAAAANSUhEUgAAABQAAAAUCAYAAACNiR0NAAAABHNCSVQICAgIfAhkiAAAAAlwSFlzAAALEgAACxIB0t1+/AAAABx0RVh0U29mdHdhcmUAQWRvYmUgRmlyZXdvcmtzIENTNui8sowAAAOkSURBVDiNjZRtaJVlGMd/1/08zzln5zjP1LWcU9N0NkN8m2CYjpgQYQXqSs0I84OLIC0hkEKoPtiH3gmKoiJDU7QpLgoLjLIQCpEsNJ1vqUOdO7ppbuec5+V+rj4ctwzd8IIbbi6u+8f1539dt3A78eXC7QizUF7gyV1fD1Yqg4JWz84yffhm0qkFqBogB9rM8tZdtwVsPUhWhGcFJngGeWrPzHm5oaMmkfEg1usvLFyc8jLRqDOMru7AyC8saQr7GG7f5fvDeH7Ej8CM66nIF+8yngt6HWaKh7k49Soy9nXurCi1o3qUbS3zWfrYeQDTB/Qj6kX6Ybhw4B+bOYoLKCC9H3Nu/leUTZ1JdRWkkn2ldcCamzrcf47KKXdAJllSlxAOkRgyHsGC/zRday5Qld9DyoM4/q/rUoy/CXh3jzOu3bHUVZeU+DEn8FInkPBFlu3+nW3Nw0mk6vCDiWg8CeJaxEwuHS3+z5RgY+YBR6V1Z1nxSOfoaPa4LASWxxdNp+VWTk7+4vzaou8v8PN+xo+KY2xsw6une2frhw05CTYOmQvsEhjhWjn0bmXPjpE1+kplmmkP3suftwTubK9Vq22qKmrBhpY4jvd5afdRA3wGjFAgcnTK2s4hY0/GPNIb0nErGMCRxWOOX64Z8RAC4oCXdklmEvcL8o0BfkNK4lUg9HTl+oPlQxdNo3Mg4Nv175e/1LDGzZen30MEjRUtmXSfiTVu1kK8W4txyV6BMKlbgk3lMwYCiusNy9fVfvvwMxv8Ynl6vxoByANLTWplvuj/nF9m2+PDtt1eiHPBr1oIfhCChQMBw6Aw0UulqTKZdfVvfG7VcfIqLG9bcldL/+pdWTLxLUy8Qq38heUIjh4XlzZxzQm19lLFlr8vdQ97rjZVOLf8nclzckbcD4wxXMidpX30sFd37Fv/GtwwhzhxGVAprjbg0gCAEeIgwCZyTV2Z1REEW8O4py0wsjeloKoMr6iCY6dP92H6Vw/oTyICIthibxjm/DfN9lVz8IqtqKYLUXfoKVMVQVVJOElGjrnnUt9T9wbgp8AyYKaGlqingHZU/uG2NTZSVqwHQTWkx9hxjkpWDaCg6Ckj5qebgBVbT3V3NNXMSiWSDdGV3hrtzla7J+duwPOToIg42ChPQOQjspnSlp1V+Gjdged7+8UN5CRAV7a5EdFNwCjEaBR27b3W890TE7g24NAP/mMDXRWrGoFPQI9ls/MWO2dWFAar/xcOIImbbpA3zgAAAABJRU5ErkJggg==);\n",
       "        }\n",
       "    </style>\n",
       "    <div>\n",
       "        <a href=\"https://bokeh.org\" target=\"_blank\" class=\"bk-notebook-logo\"></a>\n",
       "        <span id=\"a3c9f00f-ffa7-4fde-bbef-c6fe37791070\">Loading BokehJS ...</span>\n",
       "    </div>\n"
      ]
     },
     "metadata": {},
     "output_type": "display_data"
    },
    {
     "data": {
      "application/javascript": "'use strict';\n(function(root) {\n  function now() {\n    return new Date();\n  }\n\n  const force = true;\n\n  if (typeof root._bokeh_onload_callbacks === \"undefined\" || force === true) {\n    root._bokeh_onload_callbacks = [];\n    root._bokeh_is_loading = undefined;\n  }\n\nconst JS_MIME_TYPE = 'application/javascript';\n  const HTML_MIME_TYPE = 'text/html';\n  const EXEC_MIME_TYPE = 'application/vnd.bokehjs_exec.v0+json';\n  const CLASS_NAME = 'output_bokeh rendered_html';\n\n  /**\n   * Render data to the DOM node\n   */\n  function render(props, node) {\n    const script = document.createElement(\"script\");\n    node.appendChild(script);\n  }\n\n  /**\n   * Handle when an output is cleared or removed\n   */\n  function handleClearOutput(event, handle) {\n    function drop(id) {\n      const view = Bokeh.index.get_by_id(id)\n      if (view != null) {\n        view.model.document.clear()\n        Bokeh.index.delete(view)\n      }\n    }\n\n    const cell = handle.cell;\n\n    const id = cell.output_area._bokeh_element_id;\n    const server_id = cell.output_area._bokeh_server_id;\n\n    // Clean up Bokeh references\n    if (id != null) {\n      drop(id)\n    }\n\n    if (server_id !== undefined) {\n      // Clean up Bokeh references\n      const cmd_clean = \"from bokeh.io.state import curstate; print(curstate().uuid_to_server['\" + server_id + \"'].get_sessions()[0].document.roots[0]._id)\";\n      cell.notebook.kernel.execute(cmd_clean, {\n        iopub: {\n          output: function(msg) {\n            const id = msg.content.text.trim()\n            drop(id)\n          }\n        }\n      });\n      // Destroy server and session\n      const cmd_destroy = \"import bokeh.io.notebook as ion; ion.destroy_server('\" + server_id + \"')\";\n      cell.notebook.kernel.execute(cmd_destroy);\n    }\n  }\n\n  /**\n   * Handle when a new output is added\n   */\n  function handleAddOutput(event, handle) {\n    const output_area = handle.output_area;\n    const output = handle.output;\n\n    // limit handleAddOutput to display_data with EXEC_MIME_TYPE content only\n    if ((output.output_type != \"display_data\") || (!Object.prototype.hasOwnProperty.call(output.data, EXEC_MIME_TYPE))) {\n      return\n    }\n\n    const toinsert = output_area.element.find(\".\" + CLASS_NAME.split(' ')[0]);\n\n    if (output.metadata[EXEC_MIME_TYPE][\"id\"] !== undefined) {\n      toinsert[toinsert.length - 1].firstChild.textContent = output.data[JS_MIME_TYPE];\n      // store reference to embed id on output_area\n      output_area._bokeh_element_id = output.metadata[EXEC_MIME_TYPE][\"id\"];\n    }\n    if (output.metadata[EXEC_MIME_TYPE][\"server_id\"] !== undefined) {\n      const bk_div = document.createElement(\"div\");\n      bk_div.innerHTML = output.data[HTML_MIME_TYPE];\n      const script_attrs = bk_div.children[0].attributes;\n      for (let i = 0; i < script_attrs.length; i++) {\n        toinsert[toinsert.length - 1].firstChild.setAttribute(script_attrs[i].name, script_attrs[i].value);\n        toinsert[toinsert.length - 1].firstChild.textContent = bk_div.children[0].textContent\n      }\n      // store reference to server id on output_area\n      output_area._bokeh_server_id = output.metadata[EXEC_MIME_TYPE][\"server_id\"];\n    }\n  }\n\n  function register_renderer(events, OutputArea) {\n\n    function append_mime(data, metadata, element) {\n      // create a DOM node to render to\n      const toinsert = this.create_output_subarea(\n        metadata,\n        CLASS_NAME,\n        EXEC_MIME_TYPE\n      );\n      this.keyboard_manager.register_events(toinsert);\n      // Render to node\n      const props = {data: data, metadata: metadata[EXEC_MIME_TYPE]};\n      render(props, toinsert[toinsert.length - 1]);\n      element.append(toinsert);\n      return toinsert\n    }\n\n    /* Handle when an output is cleared or removed */\n    events.on('clear_output.CodeCell', handleClearOutput);\n    events.on('delete.Cell', handleClearOutput);\n\n    /* Handle when a new output is added */\n    events.on('output_added.OutputArea', handleAddOutput);\n\n    /**\n     * Register the mime type and append_mime function with output_area\n     */\n    OutputArea.prototype.register_mime_type(EXEC_MIME_TYPE, append_mime, {\n      /* Is output safe? */\n      safe: true,\n      /* Index of renderer in `output_area.display_order` */\n      index: 0\n    });\n  }\n\n  // register the mime type if in Jupyter Notebook environment and previously unregistered\n  if (root.Jupyter !== undefined) {\n    const events = require('base/js/events');\n    const OutputArea = require('notebook/js/outputarea').OutputArea;\n\n    if (OutputArea.prototype.mime_types().indexOf(EXEC_MIME_TYPE) == -1) {\n      register_renderer(events, OutputArea);\n    }\n  }\n  if (typeof (root._bokeh_timeout) === \"undefined\" || force === true) {\n    root._bokeh_timeout = Date.now() + 5000;\n    root._bokeh_failed_load = false;\n  }\n\n  const NB_LOAD_WARNING = {'data': {'text/html':\n     \"<div style='background-color: #fdd'>\\n\"+\n     \"<p>\\n\"+\n     \"BokehJS does not appear to have successfully loaded. If loading BokehJS from CDN, this \\n\"+\n     \"may be due to a slow or bad network connection. Possible fixes:\\n\"+\n     \"</p>\\n\"+\n     \"<ul>\\n\"+\n     \"<li>re-rerun `output_notebook()` to attempt to load from CDN again, or</li>\\n\"+\n     \"<li>use INLINE resources instead, as so:</li>\\n\"+\n     \"</ul>\\n\"+\n     \"<code>\\n\"+\n     \"from bokeh.resources import INLINE\\n\"+\n     \"output_notebook(resources=INLINE)\\n\"+\n     \"</code>\\n\"+\n     \"</div>\"}};\n\n  function display_loaded(error = null) {\n    const el = document.getElementById(\"a3c9f00f-ffa7-4fde-bbef-c6fe37791070\");\n    if (el != null) {\n      const html = (() => {\n        if (typeof root.Bokeh === \"undefined\") {\n          if (error == null) {\n            return \"BokehJS is loading ...\";\n          } else {\n            return \"BokehJS failed to load.\";\n          }\n        } else {\n          const prefix = `BokehJS ${root.Bokeh.version}`;\n          if (error == null) {\n            return `${prefix} successfully loaded.`;\n          } else {\n            return `${prefix} <b>encountered errors</b> while loading and may not function as expected.`;\n          }\n        }\n      })();\n      el.innerHTML = html;\n\n      if (error != null) {\n        const wrapper = document.createElement(\"div\");\n        wrapper.style.overflow = \"auto\";\n        wrapper.style.height = \"5em\";\n        wrapper.style.resize = \"vertical\";\n        const content = document.createElement(\"div\");\n        content.style.fontFamily = \"monospace\";\n        content.style.whiteSpace = \"pre-wrap\";\n        content.style.backgroundColor = \"rgb(255, 221, 221)\";\n        content.textContent = error.stack ?? error.toString();\n        wrapper.append(content);\n        el.append(wrapper);\n      }\n    } else if (Date.now() < root._bokeh_timeout) {\n      setTimeout(() => display_loaded(error), 100);\n    }\n  }\n\n  function run_callbacks() {\n    try {\n      root._bokeh_onload_callbacks.forEach(function(callback) {\n        if (callback != null)\n          callback();\n      });\n    } finally {\n      delete root._bokeh_onload_callbacks\n    }\n    console.debug(\"Bokeh: all callbacks have finished\");\n  }\n\n  function load_libs(css_urls, js_urls, callback) {\n    if (css_urls == null) css_urls = [];\n    if (js_urls == null) js_urls = [];\n\n    root._bokeh_onload_callbacks.push(callback);\n    if (root._bokeh_is_loading > 0) {\n      console.debug(\"Bokeh: BokehJS is being loaded, scheduling callback at\", now());\n      return null;\n    }\n    if (js_urls == null || js_urls.length === 0) {\n      run_callbacks();\n      return null;\n    }\n    console.debug(\"Bokeh: BokehJS not loaded, scheduling load and callback at\", now());\n    root._bokeh_is_loading = css_urls.length + js_urls.length;\n\n    function on_load() {\n      root._bokeh_is_loading--;\n      if (root._bokeh_is_loading === 0) {\n        console.debug(\"Bokeh: all BokehJS libraries/stylesheets loaded\");\n        run_callbacks()\n      }\n    }\n\n    function on_error(url) {\n      console.error(\"failed to load \" + url);\n    }\n\n    for (let i = 0; i < css_urls.length; i++) {\n      const url = css_urls[i];\n      const element = document.createElement(\"link\");\n      element.onload = on_load;\n      element.onerror = on_error.bind(null, url);\n      element.rel = \"stylesheet\";\n      element.type = \"text/css\";\n      element.href = url;\n      console.debug(\"Bokeh: injecting link tag for BokehJS stylesheet: \", url);\n      document.body.appendChild(element);\n    }\n\n    for (let i = 0; i < js_urls.length; i++) {\n      const url = js_urls[i];\n      const element = document.createElement('script');\n      element.onload = on_load;\n      element.onerror = on_error.bind(null, url);\n      element.async = false;\n      element.src = url;\n      console.debug(\"Bokeh: injecting script tag for BokehJS library: \", url);\n      document.head.appendChild(element);\n    }\n  };\n\n  function inject_raw_css(css) {\n    const element = document.createElement(\"style\");\n    element.appendChild(document.createTextNode(css));\n    document.body.appendChild(element);\n  }\n\n  const js_urls = [\"https://cdn.bokeh.org/bokeh/release/bokeh-3.7.0.min.js\", \"https://cdn.bokeh.org/bokeh/release/bokeh-gl-3.7.0.min.js\", \"https://cdn.bokeh.org/bokeh/release/bokeh-widgets-3.7.0.min.js\", \"https://cdn.bokeh.org/bokeh/release/bokeh-tables-3.7.0.min.js\", \"https://cdn.bokeh.org/bokeh/release/bokeh-mathjax-3.7.0.min.js\"];\n  const css_urls = [];\n\n  const inline_js = [    function(Bokeh) {\n      Bokeh.set_log_level(\"info\");\n    },\nfunction(Bokeh) {\n    }\n  ];\n\n  function run_inline_js() {\n    if (root.Bokeh !== undefined || force === true) {\n      try {\n            for (let i = 0; i < inline_js.length; i++) {\n      inline_js[i].call(root, root.Bokeh);\n    }\n\n      } catch (error) {display_loaded(error);throw error;\n      }if (force === true) {\n        display_loaded();\n      }} else if (Date.now() < root._bokeh_timeout) {\n      setTimeout(run_inline_js, 100);\n    } else if (!root._bokeh_failed_load) {\n      console.log(\"Bokeh: BokehJS failed to load within specified timeout.\");\n      root._bokeh_failed_load = true;\n    } else if (force !== true) {\n      const cell = $(document.getElementById(\"a3c9f00f-ffa7-4fde-bbef-c6fe37791070\")).parents('.cell').data().cell;\n      cell.output_area.append_execute_result(NB_LOAD_WARNING)\n    }\n  }\n\n  if (root._bokeh_is_loading === 0) {\n    console.debug(\"Bokeh: BokehJS loaded, going straight to plotting\");\n    run_inline_js();\n  } else {\n    load_libs(css_urls, js_urls, function() {\n      console.debug(\"Bokeh: BokehJS plotting callback run at\", now());\n      run_inline_js();\n    });\n  }\n}(window));",
      "application/vnd.bokehjs_load.v0+json": ""
     },
     "metadata": {},
     "output_type": "display_data"
    },
    {
     "data": {
      "text/html": [
       "\n",
       "  <div id=\"cc418f22-5331-4385-9f46-6aa30be62026\" data-root-id=\"p1311\" style=\"display: contents;\"></div>\n"
      ]
     },
     "metadata": {},
     "output_type": "display_data"
    },
    {
     "data": {
      "application/javascript": "(function(root) {\n  function embed_document(root) {\n  const docs_json = {\"2371e987-904a-4d3b-beab-a6cb933bfe41\":{\"version\":\"3.7.0\",\"title\":\"Bokeh Application\",\"roots\":[{\"type\":\"object\",\"name\":\"Figure\",\"id\":\"p1311\",\"attributes\":{\"width\":900,\"height\":500,\"x_range\":{\"type\":\"object\",\"name\":\"FactorRange\",\"id\":\"p1310\",\"attributes\":{\"factors\":[\"0\",\"1\",\"2\",\"3\",\"4\",\"5\",\"6\",\"7\",\"8\",\"9\",\"10\",\"11\",\"12\",\"13\",\"14\",\"15\",\"16\",\"17\",\"18\",\"19\",\"20\",\"21\",\"22\",\"23\"]}},\"y_range\":{\"type\":\"object\",\"name\":\"DataRange1d\",\"id\":\"p1313\"},\"x_scale\":{\"type\":\"object\",\"name\":\"CategoricalScale\",\"id\":\"p1321\"},\"y_scale\":{\"type\":\"object\",\"name\":\"LinearScale\",\"id\":\"p1322\"},\"title\":{\"type\":\"object\",\"name\":\"Title\",\"id\":\"p1314\",\"attributes\":{\"text\":\"Drug/Narcotic Crime Counts by Hour for Police Districts\"}},\"renderers\":[{\"type\":\"object\",\"name\":\"GlyphRenderer\",\"id\":\"p1352\",\"attributes\":{\"name\":\"BAYVIEW\",\"data_source\":{\"type\":\"object\",\"name\":\"ColumnDataSource\",\"id\":\"p1307\",\"attributes\":{\"selected\":{\"type\":\"object\",\"name\":\"Selection\",\"id\":\"p1308\",\"attributes\":{\"indices\":[],\"line_indices\":[]}},\"selection_policy\":{\"type\":\"object\",\"name\":\"UnionRenderers\",\"id\":\"p1309\"},\"data\":{\"type\":\"map\",\"entries\":[[\"index\",{\"type\":\"ndarray\",\"array\":{\"type\":\"bytes\",\"data\":\"AAAAAAEAAAACAAAAAwAAAAQAAAAFAAAABgAAAAcAAAAIAAAACQAAAAoAAAALAAAADAAAAA0AAAAOAAAADwAAABAAAAARAAAAEgAAABMAAAAUAAAAFQAAABYAAAAXAAAA\"},\"shape\":[24],\"dtype\":\"int32\",\"order\":\"little\"}],[\"Hour\",{\"type\":\"ndarray\",\"array\":[\"0\",\"1\",\"2\",\"3\",\"4\",\"5\",\"6\",\"7\",\"8\",\"9\",\"10\",\"11\",\"12\",\"13\",\"14\",\"15\",\"16\",\"17\",\"18\",\"19\",\"20\",\"21\",\"22\",\"23\"],\"shape\":[24],\"dtype\":\"object\",\"order\":\"little\"}],[\"BAYVIEW\",{\"type\":\"ndarray\",\"array\":{\"type\":\"bytes\",\"data\":\"KgEAAIcAAAB0AAAASAAAAEkAAAAnAAAASwAAAOUAAABWAQAA3AEAAKkBAADSAQAAPQIAAM0CAADMAgAA6wIAADwDAAAfAwAA8wIAAJgCAAANAgAAUQEAANUBAACQAQAA\"},\"shape\":[24],\"dtype\":\"int32\",\"order\":\"little\"}],[\"CENTRAL\",{\"type\":\"ndarray\",\"array\":{\"type\":\"bytes\",\"data\":\"TgEAAAkBAADbAAAAggAAAFQAAAAyAAAARQAAAJYAAACkAAAAvgAAANUAAADBAAAA7QAAAO4AAADsAAAAIwEAAP4AAADuAAAA9wAAAP8AAADqAAAA2AAAAGIBAAB3AQAA\"},\"shape\":[24],\"dtype\":\"int32\",\"order\":\"little\"}],[\"INGLESIDE\",{\"type\":\"ndarray\",\"array\":{\"type\":\"bytes\",\"data\":\"xAAAAGEAAABIAAAATAAAACcAAAArAAAAMQAAAG0AAABkAAAAkAAAAKoAAADRAAAAIAEAADYBAACIAQAAkgEAAO0BAADmAQAAtQEAAH8BAAApAQAABAEAAOwAAAD7AAAA\"},\"shape\":[24],\"dtype\":\"int32\",\"order\":\"little\"}],[\"MISSION\",{\"type\":\"ndarray\",\"array\":{\"type\":\"bytes\",\"data\":\"zQIAAP4BAACWAQAA9wAAAKAAAABhAAAAWgEAAJ4CAAAqAwAArQMAAGsEAAAyBQAAkQUAAGoFAABpBQAA5QQAAC0FAADXBQAAawUAAPgEAABSAwAAwAIAAH4DAABzAwAA\"},\"shape\":[24],\"dtype\":\"int32\",\"order\":\"little\"}],[\"NORTHERN\",{\"type\":\"ndarray\",\"array\":{\"type\":\"bytes\",\"data\":\"/QEAAE8BAABiAQAA5QAAAMUAAABXAAAAsAAAAEwBAABqAQAATgEAAMcBAAD6AQAA9gEAAEgCAADvAgAAEwMAAEYDAABXAwAA0AIAAOECAAAZAgAA8wEAANkCAABxAgAA\"},\"shape\":[24],\"dtype\":\"int32\",\"order\":\"little\"}],[\"PARK\",{\"type\":\"ndarray\",\"array\":{\"type\":\"bytes\",\"data\":\"YgAAAEEAAAA5AAAANQAAACQAAAAXAAAAPQAAAIgAAACLAAAAvwAAAN0AAAAvAQAAfgEAAO8BAAB1AgAAgQIAAHICAABtAgAAugEAAB8BAACxAAAAkAAAAMcAAACKAAAA\"},\"shape\":[24],\"dtype\":\"int32\",\"order\":\"little\"}],[\"RICHMOND\",{\"type\":\"ndarray\",\"array\":{\"type\":\"bytes\",\"data\":\"awAAAEcAAAA/AAAAIwAAAB8AAAAgAAAAHQAAACYAAABIAAAAQwAAAE8AAABmAAAAjQAAAI0AAACsAAAAhwAAAOAAAADeAAAAlwAAAHUAAAA+AAAARQAAAGcAAAB6AAAA\"},\"shape\":[24],\"dtype\":\"int32\",\"order\":\"little\"}],[\"SOUTHERN\",{\"type\":\"ndarray\",\"array\":{\"type\":\"bytes\",\"data\":\"/gIAANMBAABQAQAABgEAAJgAAABPAAAAPgEAAKsCAAC1AwAAvQQAAGsEAABdBAAAlwQAAOwGAABnBwAApAYAAHMGAACoBgAA5AUAAJgEAACWAwAAnQMAAOcDAACQAwAA\"},\"shape\":[24],\"dtype\":\"int32\",\"order\":\"little\"}],[\"TARAVAL\",{\"type\":\"ndarray\",\"array\":{\"type\":\"bytes\",\"data\":\"fQAAADwAAABBAAAAMAAAADQAAAAWAAAAIAAAAGMAAABhAAAAfwAAAIcAAACLAAAAywAAAO4AAAA0AQAAEwEAAAMBAAD0AAAA5AAAAMEAAACaAAAAigAAAI8AAAB3AAAA\"},\"shape\":[24],\"dtype\":\"int32\",\"order\":\"little\"}],[\"TENDERLOIN\",{\"type\":\"ndarray\",\"array\":{\"type\":\"bytes\",\"data\":\"iwQAAF4CAADZAQAAUgEAAOsAAACBAAAAHgIAAAMFAAD3BgAAbgcAAHwIAACNCgAAZAsAAA0QAABKEQAAew8AABQPAAD3DQAABwwAAMAJAADQBwAAQggAAP8IAAB0BgAA\"},\"shape\":[24],\"dtype\":\"int32\",\"order\":\"little\"}]]}}},\"view\":{\"type\":\"object\",\"name\":\"CDSView\",\"id\":\"p1353\",\"attributes\":{\"filter\":{\"type\":\"object\",\"name\":\"AllIndices\",\"id\":\"p1354\"}}},\"glyph\":{\"type\":\"object\",\"name\":\"VBar\",\"id\":\"p1349\",\"attributes\":{\"x\":{\"type\":\"field\",\"field\":\"Hour\"},\"width\":{\"type\":\"value\",\"value\":0.8},\"top\":{\"type\":\"field\",\"field\":\"BAYVIEW\"},\"line_color\":{\"type\":\"value\",\"value\":\"#1f77b4\"},\"line_alpha\":{\"type\":\"value\",\"value\":0.6},\"fill_color\":{\"type\":\"value\",\"value\":\"#1f77b4\"},\"fill_alpha\":{\"type\":\"value\",\"value\":0.5},\"hatch_color\":{\"type\":\"value\",\"value\":\"#1f77b4\"},\"hatch_alpha\":{\"type\":\"value\",\"value\":0.6}}},\"nonselection_glyph\":{\"type\":\"object\",\"name\":\"VBar\",\"id\":\"p1350\",\"attributes\":{\"x\":{\"type\":\"field\",\"field\":\"Hour\"},\"width\":{\"type\":\"value\",\"value\":0.8},\"top\":{\"type\":\"field\",\"field\":\"BAYVIEW\"},\"line_color\":{\"type\":\"value\",\"value\":\"#1f77b4\"},\"line_alpha\":{\"type\":\"value\",\"value\":0.1},\"fill_color\":{\"type\":\"value\",\"value\":\"#1f77b4\"},\"fill_alpha\":{\"type\":\"value\",\"value\":0.1},\"hatch_color\":{\"type\":\"value\",\"value\":\"#1f77b4\"},\"hatch_alpha\":{\"type\":\"value\",\"value\":0.1}}},\"muted_glyph\":{\"type\":\"object\",\"name\":\"VBar\",\"id\":\"p1351\",\"attributes\":{\"x\":{\"type\":\"field\",\"field\":\"Hour\"},\"width\":{\"type\":\"value\",\"value\":0.8},\"top\":{\"type\":\"field\",\"field\":\"BAYVIEW\"},\"line_color\":{\"type\":\"value\",\"value\":\"#1f77b4\"},\"line_alpha\":{\"type\":\"value\",\"value\":0.3},\"fill_color\":{\"type\":\"value\",\"value\":\"#1f77b4\"},\"fill_alpha\":{\"type\":\"value\",\"value\":0.3},\"hatch_color\":{\"type\":\"value\",\"value\":\"#1f77b4\"},\"hatch_alpha\":{\"type\":\"value\",\"value\":0.3}}}}},{\"type\":\"object\",\"name\":\"GlyphRenderer\",\"id\":\"p1364\",\"attributes\":{\"name\":\"CENTRAL\",\"data_source\":{\"id\":\"p1307\"},\"view\":{\"type\":\"object\",\"name\":\"CDSView\",\"id\":\"p1365\",\"attributes\":{\"filter\":{\"type\":\"object\",\"name\":\"AllIndices\",\"id\":\"p1366\"}}},\"glyph\":{\"type\":\"object\",\"name\":\"VBar\",\"id\":\"p1361\",\"attributes\":{\"x\":{\"type\":\"field\",\"field\":\"Hour\"},\"width\":{\"type\":\"value\",\"value\":0.8},\"top\":{\"type\":\"field\",\"field\":\"CENTRAL\"},\"line_color\":{\"type\":\"value\",\"value\":\"#ff7f0e\"},\"line_alpha\":{\"type\":\"value\",\"value\":0.6},\"fill_color\":{\"type\":\"value\",\"value\":\"#ff7f0e\"},\"fill_alpha\":{\"type\":\"value\",\"value\":0.5},\"hatch_color\":{\"type\":\"value\",\"value\":\"#ff7f0e\"},\"hatch_alpha\":{\"type\":\"value\",\"value\":0.6}}},\"nonselection_glyph\":{\"type\":\"object\",\"name\":\"VBar\",\"id\":\"p1362\",\"attributes\":{\"x\":{\"type\":\"field\",\"field\":\"Hour\"},\"width\":{\"type\":\"value\",\"value\":0.8},\"top\":{\"type\":\"field\",\"field\":\"CENTRAL\"},\"line_color\":{\"type\":\"value\",\"value\":\"#ff7f0e\"},\"line_alpha\":{\"type\":\"value\",\"value\":0.1},\"fill_color\":{\"type\":\"value\",\"value\":\"#ff7f0e\"},\"fill_alpha\":{\"type\":\"value\",\"value\":0.1},\"hatch_color\":{\"type\":\"value\",\"value\":\"#ff7f0e\"},\"hatch_alpha\":{\"type\":\"value\",\"value\":0.1}}},\"muted_glyph\":{\"type\":\"object\",\"name\":\"VBar\",\"id\":\"p1363\",\"attributes\":{\"x\":{\"type\":\"field\",\"field\":\"Hour\"},\"width\":{\"type\":\"value\",\"value\":0.8},\"top\":{\"type\":\"field\",\"field\":\"CENTRAL\"},\"line_color\":{\"type\":\"value\",\"value\":\"#ff7f0e\"},\"line_alpha\":{\"type\":\"value\",\"value\":0.3},\"fill_color\":{\"type\":\"value\",\"value\":\"#ff7f0e\"},\"fill_alpha\":{\"type\":\"value\",\"value\":0.3},\"hatch_color\":{\"type\":\"value\",\"value\":\"#ff7f0e\"},\"hatch_alpha\":{\"type\":\"value\",\"value\":0.3}}}}},{\"type\":\"object\",\"name\":\"GlyphRenderer\",\"id\":\"p1375\",\"attributes\":{\"name\":\"INGLESIDE\",\"data_source\":{\"id\":\"p1307\"},\"view\":{\"type\":\"object\",\"name\":\"CDSView\",\"id\":\"p1376\",\"attributes\":{\"filter\":{\"type\":\"object\",\"name\":\"AllIndices\",\"id\":\"p1377\"}}},\"glyph\":{\"type\":\"object\",\"name\":\"VBar\",\"id\":\"p1372\",\"attributes\":{\"x\":{\"type\":\"field\",\"field\":\"Hour\"},\"width\":{\"type\":\"value\",\"value\":0.8},\"top\":{\"type\":\"field\",\"field\":\"INGLESIDE\"},\"line_color\":{\"type\":\"value\",\"value\":\"#2ca02c\"},\"line_alpha\":{\"type\":\"value\",\"value\":0.6},\"fill_color\":{\"type\":\"value\",\"value\":\"#2ca02c\"},\"fill_alpha\":{\"type\":\"value\",\"value\":0.5},\"hatch_color\":{\"type\":\"value\",\"value\":\"#2ca02c\"},\"hatch_alpha\":{\"type\":\"value\",\"value\":0.6}}},\"nonselection_glyph\":{\"type\":\"object\",\"name\":\"VBar\",\"id\":\"p1373\",\"attributes\":{\"x\":{\"type\":\"field\",\"field\":\"Hour\"},\"width\":{\"type\":\"value\",\"value\":0.8},\"top\":{\"type\":\"field\",\"field\":\"INGLESIDE\"},\"line_color\":{\"type\":\"value\",\"value\":\"#2ca02c\"},\"line_alpha\":{\"type\":\"value\",\"value\":0.1},\"fill_color\":{\"type\":\"value\",\"value\":\"#2ca02c\"},\"fill_alpha\":{\"type\":\"value\",\"value\":0.1},\"hatch_color\":{\"type\":\"value\",\"value\":\"#2ca02c\"},\"hatch_alpha\":{\"type\":\"value\",\"value\":0.1}}},\"muted_glyph\":{\"type\":\"object\",\"name\":\"VBar\",\"id\":\"p1374\",\"attributes\":{\"x\":{\"type\":\"field\",\"field\":\"Hour\"},\"width\":{\"type\":\"value\",\"value\":0.8},\"top\":{\"type\":\"field\",\"field\":\"INGLESIDE\"},\"line_color\":{\"type\":\"value\",\"value\":\"#2ca02c\"},\"line_alpha\":{\"type\":\"value\",\"value\":0.3},\"fill_color\":{\"type\":\"value\",\"value\":\"#2ca02c\"},\"fill_alpha\":{\"type\":\"value\",\"value\":0.3},\"hatch_color\":{\"type\":\"value\",\"value\":\"#2ca02c\"},\"hatch_alpha\":{\"type\":\"value\",\"value\":0.3}}}}},{\"type\":\"object\",\"name\":\"GlyphRenderer\",\"id\":\"p1386\",\"attributes\":{\"name\":\"MISSION\",\"data_source\":{\"id\":\"p1307\"},\"view\":{\"type\":\"object\",\"name\":\"CDSView\",\"id\":\"p1387\",\"attributes\":{\"filter\":{\"type\":\"object\",\"name\":\"AllIndices\",\"id\":\"p1388\"}}},\"glyph\":{\"type\":\"object\",\"name\":\"VBar\",\"id\":\"p1383\",\"attributes\":{\"x\":{\"type\":\"field\",\"field\":\"Hour\"},\"width\":{\"type\":\"value\",\"value\":0.8},\"top\":{\"type\":\"field\",\"field\":\"MISSION\"},\"line_color\":{\"type\":\"value\",\"value\":\"#d62728\"},\"line_alpha\":{\"type\":\"value\",\"value\":0.6},\"fill_color\":{\"type\":\"value\",\"value\":\"#d62728\"},\"fill_alpha\":{\"type\":\"value\",\"value\":0.5},\"hatch_color\":{\"type\":\"value\",\"value\":\"#d62728\"},\"hatch_alpha\":{\"type\":\"value\",\"value\":0.6}}},\"nonselection_glyph\":{\"type\":\"object\",\"name\":\"VBar\",\"id\":\"p1384\",\"attributes\":{\"x\":{\"type\":\"field\",\"field\":\"Hour\"},\"width\":{\"type\":\"value\",\"value\":0.8},\"top\":{\"type\":\"field\",\"field\":\"MISSION\"},\"line_color\":{\"type\":\"value\",\"value\":\"#d62728\"},\"line_alpha\":{\"type\":\"value\",\"value\":0.1},\"fill_color\":{\"type\":\"value\",\"value\":\"#d62728\"},\"fill_alpha\":{\"type\":\"value\",\"value\":0.1},\"hatch_color\":{\"type\":\"value\",\"value\":\"#d62728\"},\"hatch_alpha\":{\"type\":\"value\",\"value\":0.1}}},\"muted_glyph\":{\"type\":\"object\",\"name\":\"VBar\",\"id\":\"p1385\",\"attributes\":{\"x\":{\"type\":\"field\",\"field\":\"Hour\"},\"width\":{\"type\":\"value\",\"value\":0.8},\"top\":{\"type\":\"field\",\"field\":\"MISSION\"},\"line_color\":{\"type\":\"value\",\"value\":\"#d62728\"},\"line_alpha\":{\"type\":\"value\",\"value\":0.3},\"fill_color\":{\"type\":\"value\",\"value\":\"#d62728\"},\"fill_alpha\":{\"type\":\"value\",\"value\":0.3},\"hatch_color\":{\"type\":\"value\",\"value\":\"#d62728\"},\"hatch_alpha\":{\"type\":\"value\",\"value\":0.3}}}}},{\"type\":\"object\",\"name\":\"GlyphRenderer\",\"id\":\"p1397\",\"attributes\":{\"name\":\"NORTHERN\",\"data_source\":{\"id\":\"p1307\"},\"view\":{\"type\":\"object\",\"name\":\"CDSView\",\"id\":\"p1398\",\"attributes\":{\"filter\":{\"type\":\"object\",\"name\":\"AllIndices\",\"id\":\"p1399\"}}},\"glyph\":{\"type\":\"object\",\"name\":\"VBar\",\"id\":\"p1394\",\"attributes\":{\"x\":{\"type\":\"field\",\"field\":\"Hour\"},\"width\":{\"type\":\"value\",\"value\":0.8},\"top\":{\"type\":\"field\",\"field\":\"NORTHERN\"},\"line_color\":{\"type\":\"value\",\"value\":\"#9467bd\"},\"line_alpha\":{\"type\":\"value\",\"value\":0.6},\"fill_color\":{\"type\":\"value\",\"value\":\"#9467bd\"},\"fill_alpha\":{\"type\":\"value\",\"value\":0.5},\"hatch_color\":{\"type\":\"value\",\"value\":\"#9467bd\"},\"hatch_alpha\":{\"type\":\"value\",\"value\":0.6}}},\"nonselection_glyph\":{\"type\":\"object\",\"name\":\"VBar\",\"id\":\"p1395\",\"attributes\":{\"x\":{\"type\":\"field\",\"field\":\"Hour\"},\"width\":{\"type\":\"value\",\"value\":0.8},\"top\":{\"type\":\"field\",\"field\":\"NORTHERN\"},\"line_color\":{\"type\":\"value\",\"value\":\"#9467bd\"},\"line_alpha\":{\"type\":\"value\",\"value\":0.1},\"fill_color\":{\"type\":\"value\",\"value\":\"#9467bd\"},\"fill_alpha\":{\"type\":\"value\",\"value\":0.1},\"hatch_color\":{\"type\":\"value\",\"value\":\"#9467bd\"},\"hatch_alpha\":{\"type\":\"value\",\"value\":0.1}}},\"muted_glyph\":{\"type\":\"object\",\"name\":\"VBar\",\"id\":\"p1396\",\"attributes\":{\"x\":{\"type\":\"field\",\"field\":\"Hour\"},\"width\":{\"type\":\"value\",\"value\":0.8},\"top\":{\"type\":\"field\",\"field\":\"NORTHERN\"},\"line_color\":{\"type\":\"value\",\"value\":\"#9467bd\"},\"line_alpha\":{\"type\":\"value\",\"value\":0.3},\"fill_color\":{\"type\":\"value\",\"value\":\"#9467bd\"},\"fill_alpha\":{\"type\":\"value\",\"value\":0.3},\"hatch_color\":{\"type\":\"value\",\"value\":\"#9467bd\"},\"hatch_alpha\":{\"type\":\"value\",\"value\":0.3}}}}},{\"type\":\"object\",\"name\":\"GlyphRenderer\",\"id\":\"p1408\",\"attributes\":{\"name\":\"PARK\",\"data_source\":{\"id\":\"p1307\"},\"view\":{\"type\":\"object\",\"name\":\"CDSView\",\"id\":\"p1409\",\"attributes\":{\"filter\":{\"type\":\"object\",\"name\":\"AllIndices\",\"id\":\"p1410\"}}},\"glyph\":{\"type\":\"object\",\"name\":\"VBar\",\"id\":\"p1405\",\"attributes\":{\"x\":{\"type\":\"field\",\"field\":\"Hour\"},\"width\":{\"type\":\"value\",\"value\":0.8},\"top\":{\"type\":\"field\",\"field\":\"PARK\"},\"line_color\":{\"type\":\"value\",\"value\":\"#8c564b\"},\"line_alpha\":{\"type\":\"value\",\"value\":0.6},\"fill_color\":{\"type\":\"value\",\"value\":\"#8c564b\"},\"fill_alpha\":{\"type\":\"value\",\"value\":0.5},\"hatch_color\":{\"type\":\"value\",\"value\":\"#8c564b\"},\"hatch_alpha\":{\"type\":\"value\",\"value\":0.6}}},\"nonselection_glyph\":{\"type\":\"object\",\"name\":\"VBar\",\"id\":\"p1406\",\"attributes\":{\"x\":{\"type\":\"field\",\"field\":\"Hour\"},\"width\":{\"type\":\"value\",\"value\":0.8},\"top\":{\"type\":\"field\",\"field\":\"PARK\"},\"line_color\":{\"type\":\"value\",\"value\":\"#8c564b\"},\"line_alpha\":{\"type\":\"value\",\"value\":0.1},\"fill_color\":{\"type\":\"value\",\"value\":\"#8c564b\"},\"fill_alpha\":{\"type\":\"value\",\"value\":0.1},\"hatch_color\":{\"type\":\"value\",\"value\":\"#8c564b\"},\"hatch_alpha\":{\"type\":\"value\",\"value\":0.1}}},\"muted_glyph\":{\"type\":\"object\",\"name\":\"VBar\",\"id\":\"p1407\",\"attributes\":{\"x\":{\"type\":\"field\",\"field\":\"Hour\"},\"width\":{\"type\":\"value\",\"value\":0.8},\"top\":{\"type\":\"field\",\"field\":\"PARK\"},\"line_color\":{\"type\":\"value\",\"value\":\"#8c564b\"},\"line_alpha\":{\"type\":\"value\",\"value\":0.3},\"fill_color\":{\"type\":\"value\",\"value\":\"#8c564b\"},\"fill_alpha\":{\"type\":\"value\",\"value\":0.3},\"hatch_color\":{\"type\":\"value\",\"value\":\"#8c564b\"},\"hatch_alpha\":{\"type\":\"value\",\"value\":0.3}}}}},{\"type\":\"object\",\"name\":\"GlyphRenderer\",\"id\":\"p1419\",\"attributes\":{\"name\":\"RICHMOND\",\"data_source\":{\"id\":\"p1307\"},\"view\":{\"type\":\"object\",\"name\":\"CDSView\",\"id\":\"p1420\",\"attributes\":{\"filter\":{\"type\":\"object\",\"name\":\"AllIndices\",\"id\":\"p1421\"}}},\"glyph\":{\"type\":\"object\",\"name\":\"VBar\",\"id\":\"p1416\",\"attributes\":{\"x\":{\"type\":\"field\",\"field\":\"Hour\"},\"width\":{\"type\":\"value\",\"value\":0.8},\"top\":{\"type\":\"field\",\"field\":\"RICHMOND\"},\"line_color\":{\"type\":\"value\",\"value\":\"#e377c2\"},\"line_alpha\":{\"type\":\"value\",\"value\":0.6},\"fill_color\":{\"type\":\"value\",\"value\":\"#e377c2\"},\"fill_alpha\":{\"type\":\"value\",\"value\":0.5},\"hatch_color\":{\"type\":\"value\",\"value\":\"#e377c2\"},\"hatch_alpha\":{\"type\":\"value\",\"value\":0.6}}},\"nonselection_glyph\":{\"type\":\"object\",\"name\":\"VBar\",\"id\":\"p1417\",\"attributes\":{\"x\":{\"type\":\"field\",\"field\":\"Hour\"},\"width\":{\"type\":\"value\",\"value\":0.8},\"top\":{\"type\":\"field\",\"field\":\"RICHMOND\"},\"line_color\":{\"type\":\"value\",\"value\":\"#e377c2\"},\"line_alpha\":{\"type\":\"value\",\"value\":0.1},\"fill_color\":{\"type\":\"value\",\"value\":\"#e377c2\"},\"fill_alpha\":{\"type\":\"value\",\"value\":0.1},\"hatch_color\":{\"type\":\"value\",\"value\":\"#e377c2\"},\"hatch_alpha\":{\"type\":\"value\",\"value\":0.1}}},\"muted_glyph\":{\"type\":\"object\",\"name\":\"VBar\",\"id\":\"p1418\",\"attributes\":{\"x\":{\"type\":\"field\",\"field\":\"Hour\"},\"width\":{\"type\":\"value\",\"value\":0.8},\"top\":{\"type\":\"field\",\"field\":\"RICHMOND\"},\"line_color\":{\"type\":\"value\",\"value\":\"#e377c2\"},\"line_alpha\":{\"type\":\"value\",\"value\":0.3},\"fill_color\":{\"type\":\"value\",\"value\":\"#e377c2\"},\"fill_alpha\":{\"type\":\"value\",\"value\":0.3},\"hatch_color\":{\"type\":\"value\",\"value\":\"#e377c2\"},\"hatch_alpha\":{\"type\":\"value\",\"value\":0.3}}}}},{\"type\":\"object\",\"name\":\"GlyphRenderer\",\"id\":\"p1430\",\"attributes\":{\"name\":\"SOUTHERN\",\"data_source\":{\"id\":\"p1307\"},\"view\":{\"type\":\"object\",\"name\":\"CDSView\",\"id\":\"p1431\",\"attributes\":{\"filter\":{\"type\":\"object\",\"name\":\"AllIndices\",\"id\":\"p1432\"}}},\"glyph\":{\"type\":\"object\",\"name\":\"VBar\",\"id\":\"p1427\",\"attributes\":{\"x\":{\"type\":\"field\",\"field\":\"Hour\"},\"width\":{\"type\":\"value\",\"value\":0.8},\"top\":{\"type\":\"field\",\"field\":\"SOUTHERN\"},\"line_color\":{\"type\":\"value\",\"value\":\"#7f7f7f\"},\"line_alpha\":{\"type\":\"value\",\"value\":0.6},\"fill_color\":{\"type\":\"value\",\"value\":\"#7f7f7f\"},\"fill_alpha\":{\"type\":\"value\",\"value\":0.5},\"hatch_color\":{\"type\":\"value\",\"value\":\"#7f7f7f\"},\"hatch_alpha\":{\"type\":\"value\",\"value\":0.6}}},\"nonselection_glyph\":{\"type\":\"object\",\"name\":\"VBar\",\"id\":\"p1428\",\"attributes\":{\"x\":{\"type\":\"field\",\"field\":\"Hour\"},\"width\":{\"type\":\"value\",\"value\":0.8},\"top\":{\"type\":\"field\",\"field\":\"SOUTHERN\"},\"line_color\":{\"type\":\"value\",\"value\":\"#7f7f7f\"},\"line_alpha\":{\"type\":\"value\",\"value\":0.1},\"fill_color\":{\"type\":\"value\",\"value\":\"#7f7f7f\"},\"fill_alpha\":{\"type\":\"value\",\"value\":0.1},\"hatch_color\":{\"type\":\"value\",\"value\":\"#7f7f7f\"},\"hatch_alpha\":{\"type\":\"value\",\"value\":0.1}}},\"muted_glyph\":{\"type\":\"object\",\"name\":\"VBar\",\"id\":\"p1429\",\"attributes\":{\"x\":{\"type\":\"field\",\"field\":\"Hour\"},\"width\":{\"type\":\"value\",\"value\":0.8},\"top\":{\"type\":\"field\",\"field\":\"SOUTHERN\"},\"line_color\":{\"type\":\"value\",\"value\":\"#7f7f7f\"},\"line_alpha\":{\"type\":\"value\",\"value\":0.3},\"fill_color\":{\"type\":\"value\",\"value\":\"#7f7f7f\"},\"fill_alpha\":{\"type\":\"value\",\"value\":0.3},\"hatch_color\":{\"type\":\"value\",\"value\":\"#7f7f7f\"},\"hatch_alpha\":{\"type\":\"value\",\"value\":0.3}}}}},{\"type\":\"object\",\"name\":\"GlyphRenderer\",\"id\":\"p1441\",\"attributes\":{\"name\":\"TARAVAL\",\"data_source\":{\"id\":\"p1307\"},\"view\":{\"type\":\"object\",\"name\":\"CDSView\",\"id\":\"p1442\",\"attributes\":{\"filter\":{\"type\":\"object\",\"name\":\"AllIndices\",\"id\":\"p1443\"}}},\"glyph\":{\"type\":\"object\",\"name\":\"VBar\",\"id\":\"p1438\",\"attributes\":{\"x\":{\"type\":\"field\",\"field\":\"Hour\"},\"width\":{\"type\":\"value\",\"value\":0.8},\"top\":{\"type\":\"field\",\"field\":\"TARAVAL\"},\"line_color\":{\"type\":\"value\",\"value\":\"#bcbd22\"},\"line_alpha\":{\"type\":\"value\",\"value\":0.6},\"fill_color\":{\"type\":\"value\",\"value\":\"#bcbd22\"},\"fill_alpha\":{\"type\":\"value\",\"value\":0.5},\"hatch_color\":{\"type\":\"value\",\"value\":\"#bcbd22\"},\"hatch_alpha\":{\"type\":\"value\",\"value\":0.6}}},\"nonselection_glyph\":{\"type\":\"object\",\"name\":\"VBar\",\"id\":\"p1439\",\"attributes\":{\"x\":{\"type\":\"field\",\"field\":\"Hour\"},\"width\":{\"type\":\"value\",\"value\":0.8},\"top\":{\"type\":\"field\",\"field\":\"TARAVAL\"},\"line_color\":{\"type\":\"value\",\"value\":\"#bcbd22\"},\"line_alpha\":{\"type\":\"value\",\"value\":0.1},\"fill_color\":{\"type\":\"value\",\"value\":\"#bcbd22\"},\"fill_alpha\":{\"type\":\"value\",\"value\":0.1},\"hatch_color\":{\"type\":\"value\",\"value\":\"#bcbd22\"},\"hatch_alpha\":{\"type\":\"value\",\"value\":0.1}}},\"muted_glyph\":{\"type\":\"object\",\"name\":\"VBar\",\"id\":\"p1440\",\"attributes\":{\"x\":{\"type\":\"field\",\"field\":\"Hour\"},\"width\":{\"type\":\"value\",\"value\":0.8},\"top\":{\"type\":\"field\",\"field\":\"TARAVAL\"},\"line_color\":{\"type\":\"value\",\"value\":\"#bcbd22\"},\"line_alpha\":{\"type\":\"value\",\"value\":0.3},\"fill_color\":{\"type\":\"value\",\"value\":\"#bcbd22\"},\"fill_alpha\":{\"type\":\"value\",\"value\":0.3},\"hatch_color\":{\"type\":\"value\",\"value\":\"#bcbd22\"},\"hatch_alpha\":{\"type\":\"value\",\"value\":0.3}}}}},{\"type\":\"object\",\"name\":\"GlyphRenderer\",\"id\":\"p1452\",\"attributes\":{\"name\":\"TENDERLOIN\",\"data_source\":{\"id\":\"p1307\"},\"view\":{\"type\":\"object\",\"name\":\"CDSView\",\"id\":\"p1453\",\"attributes\":{\"filter\":{\"type\":\"object\",\"name\":\"AllIndices\",\"id\":\"p1454\"}}},\"glyph\":{\"type\":\"object\",\"name\":\"VBar\",\"id\":\"p1449\",\"attributes\":{\"x\":{\"type\":\"field\",\"field\":\"Hour\"},\"width\":{\"type\":\"value\",\"value\":0.8},\"top\":{\"type\":\"field\",\"field\":\"TENDERLOIN\"},\"line_color\":{\"type\":\"value\",\"value\":\"#17becf\"},\"line_alpha\":{\"type\":\"value\",\"value\":0.6},\"fill_color\":{\"type\":\"value\",\"value\":\"#17becf\"},\"fill_alpha\":{\"type\":\"value\",\"value\":0.5},\"hatch_color\":{\"type\":\"value\",\"value\":\"#17becf\"},\"hatch_alpha\":{\"type\":\"value\",\"value\":0.6}}},\"nonselection_glyph\":{\"type\":\"object\",\"name\":\"VBar\",\"id\":\"p1450\",\"attributes\":{\"x\":{\"type\":\"field\",\"field\":\"Hour\"},\"width\":{\"type\":\"value\",\"value\":0.8},\"top\":{\"type\":\"field\",\"field\":\"TENDERLOIN\"},\"line_color\":{\"type\":\"value\",\"value\":\"#17becf\"},\"line_alpha\":{\"type\":\"value\",\"value\":0.1},\"fill_color\":{\"type\":\"value\",\"value\":\"#17becf\"},\"fill_alpha\":{\"type\":\"value\",\"value\":0.1},\"hatch_color\":{\"type\":\"value\",\"value\":\"#17becf\"},\"hatch_alpha\":{\"type\":\"value\",\"value\":0.1}}},\"muted_glyph\":{\"type\":\"object\",\"name\":\"VBar\",\"id\":\"p1451\",\"attributes\":{\"x\":{\"type\":\"field\",\"field\":\"Hour\"},\"width\":{\"type\":\"value\",\"value\":0.8},\"top\":{\"type\":\"field\",\"field\":\"TENDERLOIN\"},\"line_color\":{\"type\":\"value\",\"value\":\"#17becf\"},\"line_alpha\":{\"type\":\"value\",\"value\":0.3},\"fill_color\":{\"type\":\"value\",\"value\":\"#17becf\"},\"fill_alpha\":{\"type\":\"value\",\"value\":0.3},\"hatch_color\":{\"type\":\"value\",\"value\":\"#17becf\"},\"hatch_alpha\":{\"type\":\"value\",\"value\":0.3}}}}}],\"toolbar\":{\"type\":\"object\",\"name\":\"Toolbar\",\"id\":\"p1320\",\"attributes\":{\"tools\":[{\"type\":\"object\",\"name\":\"PanTool\",\"id\":\"p1333\"},{\"type\":\"object\",\"name\":\"WheelZoomTool\",\"id\":\"p1334\",\"attributes\":{\"renderers\":\"auto\"}},{\"type\":\"object\",\"name\":\"BoxZoomTool\",\"id\":\"p1335\",\"attributes\":{\"dimensions\":\"both\",\"overlay\":{\"type\":\"object\",\"name\":\"BoxAnnotation\",\"id\":\"p1336\",\"attributes\":{\"syncable\":false,\"line_color\":\"black\",\"line_alpha\":1.0,\"line_width\":2,\"line_dash\":[4,4],\"fill_color\":\"lightgrey\",\"fill_alpha\":0.5,\"level\":\"overlay\",\"visible\":false,\"left\":{\"type\":\"number\",\"value\":\"nan\"},\"right\":{\"type\":\"number\",\"value\":\"nan\"},\"top\":{\"type\":\"number\",\"value\":\"nan\"},\"bottom\":{\"type\":\"number\",\"value\":\"nan\"},\"left_units\":\"canvas\",\"right_units\":\"canvas\",\"top_units\":\"canvas\",\"bottom_units\":\"canvas\",\"handles\":{\"type\":\"object\",\"name\":\"BoxInteractionHandles\",\"id\":\"p1342\",\"attributes\":{\"all\":{\"type\":\"object\",\"name\":\"AreaVisuals\",\"id\":\"p1341\",\"attributes\":{\"fill_color\":\"white\",\"hover_fill_color\":\"lightgray\"}}}}}}}},{\"type\":\"object\",\"name\":\"SaveTool\",\"id\":\"p1343\"},{\"type\":\"object\",\"name\":\"ResetTool\",\"id\":\"p1344\"},{\"type\":\"object\",\"name\":\"HelpTool\",\"id\":\"p1345\"},{\"type\":\"object\",\"name\":\"HoverTool\",\"id\":\"p1357\",\"attributes\":{\"renderers\":[{\"id\":\"p1352\"}],\"tooltips\":[[\"District\",\"BAYVIEW\"],[\"Hour\",\"@Hour\"],[\"Hourly Count\",\"@BAYVIEW\"]]}},{\"type\":\"object\",\"name\":\"HoverTool\",\"id\":\"p1368\",\"attributes\":{\"renderers\":[{\"id\":\"p1364\"}],\"tooltips\":[[\"District\",\"CENTRAL\"],[\"Hour\",\"@Hour\"],[\"Hourly Count\",\"@CENTRAL\"]]}},{\"type\":\"object\",\"name\":\"HoverTool\",\"id\":\"p1379\",\"attributes\":{\"renderers\":[{\"id\":\"p1375\"}],\"tooltips\":[[\"District\",\"INGLESIDE\"],[\"Hour\",\"@Hour\"],[\"Hourly Count\",\"@INGLESIDE\"]]}},{\"type\":\"object\",\"name\":\"HoverTool\",\"id\":\"p1390\",\"attributes\":{\"renderers\":[{\"id\":\"p1386\"}],\"tooltips\":[[\"District\",\"MISSION\"],[\"Hour\",\"@Hour\"],[\"Hourly Count\",\"@MISSION\"]]}},{\"type\":\"object\",\"name\":\"HoverTool\",\"id\":\"p1401\",\"attributes\":{\"renderers\":[{\"id\":\"p1397\"}],\"tooltips\":[[\"District\",\"NORTHERN\"],[\"Hour\",\"@Hour\"],[\"Hourly Count\",\"@NORTHERN\"]]}},{\"type\":\"object\",\"name\":\"HoverTool\",\"id\":\"p1412\",\"attributes\":{\"renderers\":[{\"id\":\"p1408\"}],\"tooltips\":[[\"District\",\"PARK\"],[\"Hour\",\"@Hour\"],[\"Hourly Count\",\"@PARK\"]]}},{\"type\":\"object\",\"name\":\"HoverTool\",\"id\":\"p1423\",\"attributes\":{\"renderers\":[{\"id\":\"p1419\"}],\"tooltips\":[[\"District\",\"RICHMOND\"],[\"Hour\",\"@Hour\"],[\"Hourly Count\",\"@RICHMOND\"]]}},{\"type\":\"object\",\"name\":\"HoverTool\",\"id\":\"p1434\",\"attributes\":{\"renderers\":[{\"id\":\"p1430\"}],\"tooltips\":[[\"District\",\"SOUTHERN\"],[\"Hour\",\"@Hour\"],[\"Hourly Count\",\"@SOUTHERN\"]]}},{\"type\":\"object\",\"name\":\"HoverTool\",\"id\":\"p1445\",\"attributes\":{\"renderers\":[{\"id\":\"p1441\"}],\"tooltips\":[[\"District\",\"TARAVAL\"],[\"Hour\",\"@Hour\"],[\"Hourly Count\",\"@TARAVAL\"]]}},{\"type\":\"object\",\"name\":\"HoverTool\",\"id\":\"p1456\",\"attributes\":{\"renderers\":[{\"id\":\"p1452\"}],\"tooltips\":[[\"District\",\"TENDERLOIN\"],[\"Hour\",\"@Hour\"],[\"Hourly Count\",\"@TENDERLOIN\"]]}}]}},\"left\":[{\"type\":\"object\",\"name\":\"LinearAxis\",\"id\":\"p1328\",\"attributes\":{\"ticker\":{\"type\":\"object\",\"name\":\"BasicTicker\",\"id\":\"p1329\",\"attributes\":{\"mantissas\":[1,2,5]}},\"formatter\":{\"type\":\"object\",\"name\":\"BasicTickFormatter\",\"id\":\"p1330\"},\"axis_label\":\"Crime Count\",\"major_label_policy\":{\"type\":\"object\",\"name\":\"AllLabels\",\"id\":\"p1331\"}}}],\"below\":[{\"type\":\"object\",\"name\":\"CategoricalAxis\",\"id\":\"p1323\",\"attributes\":{\"ticker\":{\"type\":\"object\",\"name\":\"CategoricalTicker\",\"id\":\"p1324\"},\"formatter\":{\"type\":\"object\",\"name\":\"CategoricalTickFormatter\",\"id\":\"p1325\"},\"axis_label\":\"Hour of the Day\",\"major_label_policy\":{\"type\":\"object\",\"name\":\"AllLabels\",\"id\":\"p1326\"}}}],\"center\":[{\"type\":\"object\",\"name\":\"Grid\",\"id\":\"p1327\",\"attributes\":{\"axis\":{\"id\":\"p1323\"}}},{\"type\":\"object\",\"name\":\"Grid\",\"id\":\"p1332\",\"attributes\":{\"dimension\":1,\"axis\":{\"id\":\"p1328\"}}},{\"type\":\"object\",\"name\":\"Legend\",\"id\":\"p1355\",\"attributes\":{\"click_policy\":\"hide\",\"items\":[{\"type\":\"object\",\"name\":\"LegendItem\",\"id\":\"p1356\",\"attributes\":{\"label\":{\"type\":\"value\",\"value\":\"BAYVIEW\"},\"renderers\":[{\"id\":\"p1352\"}]}},{\"type\":\"object\",\"name\":\"LegendItem\",\"id\":\"p1367\",\"attributes\":{\"label\":{\"type\":\"value\",\"value\":\"CENTRAL\"},\"renderers\":[{\"id\":\"p1364\"}]}},{\"type\":\"object\",\"name\":\"LegendItem\",\"id\":\"p1378\",\"attributes\":{\"label\":{\"type\":\"value\",\"value\":\"INGLESIDE\"},\"renderers\":[{\"id\":\"p1375\"}]}},{\"type\":\"object\",\"name\":\"LegendItem\",\"id\":\"p1389\",\"attributes\":{\"label\":{\"type\":\"value\",\"value\":\"MISSION\"},\"renderers\":[{\"id\":\"p1386\"}]}},{\"type\":\"object\",\"name\":\"LegendItem\",\"id\":\"p1400\",\"attributes\":{\"label\":{\"type\":\"value\",\"value\":\"NORTHERN\"},\"renderers\":[{\"id\":\"p1397\"}]}},{\"type\":\"object\",\"name\":\"LegendItem\",\"id\":\"p1411\",\"attributes\":{\"label\":{\"type\":\"value\",\"value\":\"PARK\"},\"renderers\":[{\"id\":\"p1408\"}]}},{\"type\":\"object\",\"name\":\"LegendItem\",\"id\":\"p1422\",\"attributes\":{\"label\":{\"type\":\"value\",\"value\":\"RICHMOND\"},\"renderers\":[{\"id\":\"p1419\"}]}},{\"type\":\"object\",\"name\":\"LegendItem\",\"id\":\"p1433\",\"attributes\":{\"label\":{\"type\":\"value\",\"value\":\"SOUTHERN\"},\"renderers\":[{\"id\":\"p1430\"}]}},{\"type\":\"object\",\"name\":\"LegendItem\",\"id\":\"p1444\",\"attributes\":{\"label\":{\"type\":\"value\",\"value\":\"TARAVAL\"},\"renderers\":[{\"id\":\"p1441\"}]}},{\"type\":\"object\",\"name\":\"LegendItem\",\"id\":\"p1455\",\"attributes\":{\"label\":{\"type\":\"value\",\"value\":\"TENDERLOIN\"},\"renderers\":[{\"id\":\"p1452\"}]}}]}}]}}]}};\n  const render_items = [{\"docid\":\"2371e987-904a-4d3b-beab-a6cb933bfe41\",\"roots\":{\"p1311\":\"cc418f22-5331-4385-9f46-6aa30be62026\"},\"root_ids\":[\"p1311\"]}];\n  void root.Bokeh.embed.embed_items_notebook(docs_json, render_items);\n  }\n  if (root.Bokeh !== undefined) {\n    embed_document(root);\n  } else {\n    let attempts = 0;\n    const timer = setInterval(function(root) {\n      if (root.Bokeh !== undefined) {\n        clearInterval(timer);\n        embed_document(root);\n      } else {\n        attempts++;\n        if (attempts > 100) {\n          clearInterval(timer);\n          console.log(\"Bokeh: ERROR: Unable to run BokehJS code because BokehJS library is missing\");\n        }\n      }\n    }, 10, root)\n  }\n})(window);",
      "application/vnd.bokehjs_exec.v0+json": ""
     },
     "metadata": {
      "application/vnd.bokehjs_exec.v0+json": {
       "id": "p1311"
      }
     },
     "output_type": "display_data"
    }
   ],
   "source": [
    "import pandas as pd\n",
    "from bokeh.models import ColumnDataSource, FactorRange, HoverTool\n",
    "from bokeh.plotting import figure, show, output_notebook\n",
    "from bokeh.palettes import Category10, Category20\n",
    "\n",
    "# Removing \"OUT OF SF\" police district\n",
    "df_drug = df_drug[df_drug['Police District'] != 'OUT OF SF']\n",
    "\n",
    "# 1. Create a pivot table with raw counts:\n",
    "#    Rows = Hour, Columns = Police District\n",
    "crime_counts = df_drug.groupby(['Hour', 'Police District']).size().unstack(fill_value=0)\n",
    "\n",
    "# 2. Reset the index so that \"Hour\" becomes a column.\n",
    "df_bokeh = crime_counts.reset_index()\n",
    "\n",
    "# 3. Convert Hour to string so that Bokeh treats it as a categorical factor.\n",
    "df_bokeh['Hour'] = df_bokeh['Hour'].astype(str)\n",
    "\n",
    "# 4. Create a ColumnDataSource for Bokeh.\n",
    "source = ColumnDataSource(df_bokeh)\n",
    "\n",
    "# 5. Define the categorical x-axis using the Hour values.\n",
    "hours_as_str = list(df_bokeh['Hour'])\n",
    "\n",
    "# 6. Create the figure with a FactorRange for the x-axis.\n",
    "p = figure(\n",
    "    x_range=FactorRange(*hours_as_str),\n",
    "    width=900,\n",
    "    height=500,\n",
    "    title=\"Drug/Narcotic Crime Counts by Hour for Police Districts\",\n",
    "    toolbar_location='right'\n",
    ")\n",
    "\n",
    "# 7. Identify the police district columns (all columns except \"Hour\")\n",
    "district_columns = df_bokeh.columns.drop(\"Hour\")\n",
    "n_districts = len(district_columns)\n",
    "\n",
    "# Choose an appropriate color palette.\n",
    "if n_districts <= 10:\n",
    "    palette = Category10[n_districts]\n",
    "elif n_districts <= 20:\n",
    "    palette = Category20[n_districts]\n",
    "else:\n",
    "    from bokeh.palettes import viridis\n",
    "    palette = viridis(n_districts)\n",
    "\n",
    "# 8. Overlay vbars for each police district.\n",
    "#    All bars are drawn at the same x position (no dodge) so that they overlay.\n",
    "renderers = []\n",
    "for i, district in enumerate(district_columns):\n",
    "    r = p.vbar(\n",
    "        x='Hour',\n",
    "        top=district,\n",
    "        width=0.8,  # Full width so bars overlay exactly\n",
    "        source=source,\n",
    "        legend_label=district,\n",
    "        color=palette[i],\n",
    "        fill_alpha=0.5,  # Partial transparency allows overlaps to be seen\n",
    "        muted_alpha=0.3,\n",
    "        alpha=0.6,\n",
    "        name=district  # Used for the hover tool\n",
    "    )\n",
    "    renderers.append(r)\n",
    "    \n",
    "    # Add a dedicated HoverTool for this district that always shows the full hourly count for that district.\n",
    "    # It explicitly references the column for that district, so the value doesn't vary.\n",
    "    hover = HoverTool(renderers=[r], tooltips=[\n",
    "        (\"District\", district),\n",
    "        (\"Hour\", \"@Hour\"),\n",
    "        (\"Hourly Count\", \"@\" + district)\n",
    "    ])\n",
    "    p.add_tools(hover)\n",
    "\n",
    "# 9. Enable clickable legend items to hide/show individual district bars.\n",
    "p.legend.click_policy = \"hide\"\n",
    "\n",
    "# 10. Format the axes.\n",
    "p.xaxis.axis_label = \"Hour of the Day\"\n",
    "p.yaxis.axis_label = \"Crime Count\"\n",
    "\n",
    "# 11. Display the plot.\n",
    "output_notebook()\n",
    "show(p)\n"
   ]
  },
  {
   "cell_type": "code",
   "execution_count": 20,
   "metadata": {},
   "outputs": [
    {
     "data": {
      "text/plain": [
       "'/Users/paulabarho/Desktop/DTU/24_25/Term_2/SocDA/repo/02806_Social_Data/plots/drug_crime_plot.html'"
      ]
     },
     "execution_count": 20,
     "metadata": {},
     "output_type": "execute_result"
    }
   ],
   "source": [
    "import pandas as pd\n",
    "from bokeh.models import ColumnDataSource, FactorRange, HoverTool, MultiSelect, CustomJS\n",
    "from bokeh.plotting import figure\n",
    "from bokeh.palettes import Category10, Category20\n",
    "from bokeh.layouts import column\n",
    "from bokeh.io import output_file, save\n",
    "\n",
    "# --- Data Preparation ---\n",
    "# (Assuming df_drug is defined; here we filter out the \"OUT OF SF\" district)\n",
    "df_drug_filtered = df_drug[df_drug['Police District'] != 'OUT OF SF'].copy()\n",
    "\n",
    "# For consistency, get all hours (as sorted strings) and all police districts from the full data.\n",
    "all_hours = sorted(df_drug_filtered['Hour'].unique())\n",
    "all_hours_str = [str(h) for h in all_hours]\n",
    "\n",
    "# Get the union of police districts (from the full data pivot)\n",
    "full_pivot = df_drug_filtered.groupby(['Hour', 'Police District']).size().unstack(fill_value=0)\n",
    "districts = list(full_pivot.columns)\n",
    "\n",
    "# Get the unique years (as integers) and sort them.\n",
    "years = sorted(df_drug_filtered['Year'].unique())\n",
    "\n",
    "# Precompute, for each year, a pivot table (with Hour as a column and one column per district).\n",
    "# We reindex so that every pivot has the same set of hours and districts.\n",
    "pivot_dict = {}\n",
    "for yr in years:\n",
    "    pivot = (df_drug_filtered[df_drug_filtered['Year'] == yr]\n",
    "             .groupby(['Hour', 'Police District']).size().unstack(fill_value=0))\n",
    "    # Reindex rows (hours) and columns (districts) so that they are consistent.\n",
    "    pivot = pivot.reindex(all_hours, fill_value=0)\n",
    "    pivot = pivot.reindex(columns=districts, fill_value=0)\n",
    "    pivot = pivot.reset_index()\n",
    "    pivot['Hour'] = pivot['Hour'].astype(str)\n",
    "    # Store as a dictionary of lists.\n",
    "    pivot_dict[str(yr)] = pivot.to_dict(orient='list')\n",
    "\n",
    "# Compute the initial pivot table (using all years summed together)\n",
    "initial_pivot = (df_drug_filtered\n",
    "                 .groupby(['Hour', 'Police District']).size().unstack(fill_value=0))\n",
    "initial_pivot = initial_pivot.reindex(all_hours, fill_value=0)\n",
    "initial_pivot = initial_pivot.reindex(columns=districts, fill_value=0)\n",
    "initial_pivot = initial_pivot.reset_index()\n",
    "initial_pivot['Hour'] = initial_pivot['Hour'].astype(str)\n",
    "\n",
    "# Create the ColumnDataSource from the initial pivot.\n",
    "source = ColumnDataSource(initial_pivot)\n",
    "\n",
    "# --- Create the Figure ---\n",
    "p = figure(\n",
    "    x_range=FactorRange(*all_hours_str),\n",
    "    width=900,\n",
    "    height=500,\n",
    "    title=\"Drug/Narcotic Crime Counts by Hour for Police Districts\",\n",
    "    toolbar_location='above'\n",
    ")\n",
    "\n",
    "# Choose a color palette based on the number of districts.\n",
    "n_districts = len(districts)\n",
    "if n_districts <= 10:\n",
    "    palette = Category10[n_districts]\n",
    "elif n_districts <= 20:\n",
    "    palette = Category20[n_districts]\n",
    "else:\n",
    "    from bokeh.palettes import viridis\n",
    "    palette = viridis(n_districts)\n",
    "\n",
    "# Overlay vbars for each police district (bars overlap at each hour).\n",
    "renderers = []\n",
    "for i, district in enumerate(districts):\n",
    "    r = p.vbar(\n",
    "        x='Hour',\n",
    "        top=district,\n",
    "        width=0.8,  # full width so that bars overlay\n",
    "        source=source,\n",
    "        legend_label=district,\n",
    "        color=palette[i],\n",
    "        fill_alpha=0.5,\n",
    "        muted_alpha=0.3,\n",
    "        alpha=0.6,\n",
    "        name=district  # used in hover tooltip\n",
    "    )\n",
    "    renderers.append(r)\n",
    "    # Add a HoverTool for this district that always shows its full hourly count.\n",
    "    hover = HoverTool(renderers=[r], tooltips=[\n",
    "        (\"District\", district),\n",
    "        (\"Hour\", \"@Hour\"),\n",
    "        (\"Count\", \"@\" + district)\n",
    "    ])\n",
    "    p.add_tools(hover)\n",
    "\n",
    "p.legend.click_policy = \"hide\"\n",
    "p.xaxis.axis_label = \"Hour of the Day\"\n",
    "p.yaxis.axis_label = \"Crime Count\"\n",
    "\n",
    "# --- Create MultiSelect Widget with a CustomJS Callback ---\n",
    "# The MultiSelect will list all years (as strings)\n",
    "year_options = [(str(yr), str(yr)) for yr in years]\n",
    "multi_select = MultiSelect(title=\"Select Year(s)\", value=[str(yr) for yr in years], options=year_options)\n",
    "\n",
    "# The CustomJS callback uses the precomputed pivot_dict to sum data over the selected years.\n",
    "callback = CustomJS(args=dict(source=source, pivot_dict=pivot_dict, x_range=p.x_range), code=\"\"\"\n",
    "    // Retrieve the selected years (as strings)\n",
    "    var selected_years = cb_obj.value;\n",
    "    \n",
    "    // If no year is selected, clear the data.\n",
    "    if(selected_years.length === 0) {\n",
    "        source.data = {\"Hour\": []};\n",
    "        x_range.factors = [];\n",
    "        source.change.emit();\n",
    "        return;\n",
    "    }\n",
    "    \n",
    "    // Get reference pivot for the first selected year to determine number of hours.\n",
    "    var ref = pivot_dict[selected_years[0]];\n",
    "    var n = ref[\"Hour\"].length;\n",
    "    \n",
    "    // Initialize new_data with \"Hour\" and all district keys.\n",
    "    var new_data = {};\n",
    "    new_data[\"Hour\"] = ref[\"Hour\"].slice();  // copy array of hours\n",
    "    for (var key in ref) {\n",
    "        if(key !== \"Hour\"){\n",
    "            new_data[key] = new Array(n).fill(0);\n",
    "        }\n",
    "    }\n",
    "    \n",
    "    // For each selected year, add its counts to new_data.\n",
    "    for (var i = 0; i < selected_years.length; i++){\n",
    "        var yr = selected_years[i];\n",
    "        var data = pivot_dict[yr];\n",
    "        for (var key in data){\n",
    "            if(key !== \"Hour\"){\n",
    "                for(var j = 0; j < n; j++){\n",
    "                    new_data[key][j] += data[key][j];\n",
    "                }\n",
    "            }\n",
    "        }\n",
    "    }\n",
    "    \n",
    "    // Update the ColumnDataSource and the x_range factors.\n",
    "    source.data = new_data;\n",
    "    x_range.factors = new_data[\"Hour\"];\n",
    "    source.change.emit();\n",
    "\"\"\")\n",
    "multi_select.js_on_change('value', callback)\n",
    "\n",
    "# --- Layout ---\n",
    "layout = column(multi_select, p)\n",
    "\n",
    "# --- Save to HTML file ---\n",
    "output_file(\"../plots/drug_crime_plot.html\", title=\"Drug/Narcotic Crime Counts by Hour\")\n",
    "save(layout)"
   ]
  }
 ],
 "metadata": {
  "kernelspec": {
   "display_name": "my-env",
   "language": "python",
   "name": "python3"
  },
  "language_info": {
   "codemirror_mode": {
    "name": "ipython",
    "version": 3
   },
   "file_extension": ".py",
   "mimetype": "text/x-python",
   "name": "python",
   "nbconvert_exporter": "python",
   "pygments_lexer": "ipython3",
   "version": "3.11.9"
  }
 },
 "nbformat": 4,
 "nbformat_minor": 2
}
