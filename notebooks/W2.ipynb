{
 "cells": [
  {
   "cell_type": "markdown",
   "metadata": {},
   "source": [
    "# Week 2 - Visualizations\n",
    "\n",
    "By Group XX:\n",
    "\n",
    "-   Aleksandar Lukic - s194066\n",
    "-   Paula Barho - s242926\n",
    "-   Victor Gustav Harbo Rasmussen - s204475"
   ]
  },
  {
   "cell_type": "markdown",
   "metadata": {},
   "source": [
    "## Part 1: A little visualization exercise\n",
    "\n",
    "For this exercise we will look at the data provided in the course repository.\n",
    "\n",
    "Using `pandas` we will load the data into python."
   ]
  },
  {
   "cell_type": "code",
   "execution_count": 1,
   "metadata": {},
   "outputs": [],
   "source": [
    "import os\n",
    "import numpy as np\n",
    "import pandas as pd"
   ]
  },
  {
   "cell_type": "code",
   "execution_count": 2,
   "metadata": {},
   "outputs": [],
   "source": [
    "# Set pandas display options to show all columns for .head command\n",
    "pd.set_option('display.max_columns', None)  # Show all columns\n",
    "pd.set_option('display.width', None)        # Auto-detect the display width\n",
    "pd.set_option('display.max_colwidth', None) # Show full content of each column"
   ]
  },
  {
   "cell_type": "code",
   "execution_count": 3,
   "metadata": {},
   "outputs": [
    {
     "data": {
      "text/plain": [
       "'/home/aleksandar-lukic/school/02806_Social_Data/files'"
      ]
     },
     "execution_count": 3,
     "metadata": {},
     "output_type": "execute_result"
    }
   ],
   "source": [
    "# Get path of data directory\n",
    "files_path = os.path.abspath(os.path.join(os.pardir, \"files\"))\n",
    "files_path"
   ]
  },
  {
   "cell_type": "code",
   "execution_count": 4,
   "metadata": {},
   "outputs": [],
   "source": [
    "# Create paths to the datasets\n",
    "data_1_path = os.path.join(files_path, \"data1.tsv\")\n",
    "data_2_path = os.path.join(files_path, \"data2.tsv\")\n",
    "data_3_path = os.path.join(files_path, \"data3.tsv\")\n",
    "data_4_path = os.path.join(files_path, \"data4.tsv\") \n",
    "\n",
    "# Load the datasets from the files folder\n",
    "df_1 = pd.read_csv(data_1_path,sep='\\t')\n",
    "df_2 = pd.read_csv(data_2_path,sep='\\t')\n",
    "df_3 = pd.read_csv(data_3_path,sep='\\t')\n",
    "df_4 = pd.read_csv(data_4_path,sep='\\t')"
   ]
  },
  {
   "cell_type": "code",
   "execution_count": null,
   "metadata": {},
   "outputs": [],
   "source": []
  }
 ],
 "metadata": {
  "kernelspec": {
   "display_name": "02806",
   "language": "python",
   "name": "python3"
  },
  "language_info": {
   "codemirror_mode": {
    "name": "ipython",
    "version": 3
   },
   "file_extension": ".py",
   "mimetype": "text/x-python",
   "name": "python",
   "nbconvert_exporter": "python",
   "pygments_lexer": "ipython3",
   "version": "3.13.1"
  }
 },
 "nbformat": 4,
 "nbformat_minor": 2
}
