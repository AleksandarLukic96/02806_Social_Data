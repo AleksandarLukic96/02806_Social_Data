{
 "cells": [
  {
   "cell_type": "markdown",
   "id": "1d5da44c",
   "metadata": {},
   "source": [
    "# Data overview for Final Project - Parking Spaces in CPH"
   ]
  },
  {
   "cell_type": "markdown",
   "id": "97ec3632",
   "metadata": {},
   "source": [
    "The available parking spaces and their occupancy are counted in Copenhagen and the data sets are available on [Opendata](opendata.dk). There are two datasets available: \n",
    "- **Parking spaces**: The data set shows legal parking spaces during the day (7am-6pm) at street level (on public and private shared roads), parking spaces in publicly owned parking facilities as well as parking spaces without a parking system. Parking options for electric cars, shared cars, taxis and disabled drivers appear. Also includes parking spaces reserved for embassies and consulates.\n",
    "\n",
    "The data sets will be analyzed and preprocessed in the following cells."
   ]
  },
  {
   "cell_type": "markdown",
   "id": "d2d57c2d",
   "metadata": {},
   "source": [
    "## Preamble"
   ]
  },
  {
   "cell_type": "code",
   "execution_count": 1,
   "id": "6613494b",
   "metadata": {},
   "outputs": [],
   "source": [
    "import matplotlib.pyplot as plt\n",
    "import numpy as np\n",
    "import os\n",
    "import pandas as pd\n",
    "import re\n"
   ]
  },
  {
   "cell_type": "code",
   "execution_count": 2,
   "id": "f444d951",
   "metadata": {},
   "outputs": [],
   "source": [
    "# Set pandas display options to show all columns for .head command\n",
    "pd.set_option(\"display.max_columns\", None)  # Show all columns\n",
    "pd.set_option(\"display.width\", None)        # Auto-detect the display width\n",
    "pd.set_option(\"display.max_colwidth\", None) # Show full content of each column"
   ]
  },
  {
   "cell_type": "code",
   "execution_count": 3,
   "id": "a7d99729",
   "metadata": {},
   "outputs": [],
   "source": [
    "# Loading the data and files\n",
    "data_path = os.path.abspath(os.path.join(os.pardir, \"projectData\"))\n",
    "\n",
    "# Load csv data into pandas dataframe\n",
    "parking_spaces_name = \"parking_spaces.csv\"\n",
    "parking_spaces_path = os.path.join(data_path, parking_spaces_name)\n",
    "df = pd.read_csv(parking_spaces_path)"
   ]
  },
  {
   "cell_type": "markdown",
   "id": "127b0dd6",
   "metadata": {},
   "source": [
    "## Cleaning the data"
   ]
  },
  {
   "cell_type": "markdown",
   "id": "6c9d7976",
   "metadata": {},
   "source": [
    "### Data overview\n",
    "\n",
    "The original dataset from Opendata contains 26 columns and 28762 rows.\n",
    "\n",
    "| Original Column name              | Renamed Column name   | Description   |\n",
    "| ------                            | ------                | ------        |\n",
    "|**FID**                            | NaN                   | Identifier for Parking Space Object strictly used for this dataset|\n",
    "|**vejkode**                        | street_code           | Numeric Identifier for a given street |\n",
    "|**vejnavn**                        | street_name           | Street name|\n",
    "|**antal_pladser**                  | no_of_spaces          | Number of parking spaces registered under Parking Space Object |\n",
    "|**restriktion**                    | restriction           | Restriction boolean indicator |\n",
    "|**vejstatus**                      | NaN                   | Street type, e.g. public road or private area |\n",
    "|**vejside**                        | NaN                   | Side of the road, i.e. even or odd numbered house numbers |\n",
    "|**bydel**                          | district              | District, e.g. Nørrebro, Valby, etc. |\n",
    "|**p_ordning**                      | parking_type          | Parking Space Object type, e.g. Electric car parking w. charger, Handicap, Blue zone, etc. |\n",
    "|**p_type**                         | NaN                   | Parking Space Object physical type, e.g. Marked parking, 45deg marked parking, |\n",
    "|**p_status**                       | NaN                   | Status of whether the parking spot is \"created\" or \"temporarily out of service\" |\n",
    "|**rettelsedato**                   | date_correction       | Date of correction |\n",
    "|**oprettelsesdato**                | date_creation         | Date of creation |\n",
    "|**x**                              | NaN                   | Individual Text description for Parking Space Object type, e.g. license plate for private handicap parking spot |\n",
    "|**id**                             | NaN                   | Unique Identifer for each Parking Space Object |\n",
    "|**taelle_id**                      | NaN                   | Identifier for internal counting/tally procedures\n",
    "|**startdato_midlertidigt_nedlagt** | NaN                   | Start date for registered Out of Service (only NaN in dataset) |\n",
    "|**slutdato_midlertidigt_nedlagt**  | NaN                   | End date for registered Out of Service (only NaN and a single entry in dataset) |\n",
    "|**restriktionstype**               | restriction_type      | Restriction type name |\n",
    "|**restriktionstekst**              | restriction_text      | Restriction description, e.g. \"8-18\" if parking not allowed in given hours |\n",
    "|**taelle_note**                    | NaN                   | Text notes for internal counting/tally procedures |\n",
    "|**delebilsklub**                   | NaN                   | Car sharing company |\n",
    "|**aendring_p_ordning**             | changed_parking_type  | Indicator if parking space has been converted to Electric parking w.o. charger |\n",
    "|**uuid**                           | NaN                   | Unique Identifer for each Parking Space Object |\n",
    "|**ogc_fid**                        | NaN                   | Numeric Identifier for Parking Space Object strictly used for this dataset|\n",
    "|**wkb_geometry**                   | NaN                   | Location of Parking Space Object, in the form of a MultiLineString with altitude/longitude coordinates |"
   ]
  },
  {
   "cell_type": "code",
   "execution_count": 4,
   "id": "01374260",
   "metadata": {},
   "outputs": [
    {
     "name": "stdout",
     "output_type": "stream",
     "text": [
      "FID \n",
      " ['p_pladser.1', 'p_pladser.2', 'p_pladser.3', 'p_pladser.4', 'p_pladser.5', 'p_pladser.6', 'p_pladser.7', 'p_pladser.8', 'p_pladser.9', 'p_pladser.10'] \n",
      "Len:\n",
      " 28762 \n",
      "\n",
      "vejkode \n",
      " [np.int64(4), np.int64(8), np.int64(72), np.int64(12), np.int64(16), np.int64(20), np.int64(24), np.int64(28), np.int64(32), np.int64(36)] \n",
      "Len:\n",
      " 2008 \n",
      "\n",
      "vejnavn \n",
      " ['Abel Cathrines Gade', 'Abildgaardsgade', 'Ahrenkildes Allé', 'Abildhøj', 'Abrikosvej', 'Absalonsgade', 'Adelgade', 'Admiralgade', 'Adriansvej', 'Agerbo'] \n",
      "Len:\n",
      " 2008 \n",
      "\n",
      "antal_pladser \n",
      " [np.float64(10.0), np.float64(4.0), np.float64(1.0), np.float64(2.0), np.float64(3.0), np.float64(11.0), np.float64(13.0), np.float64(8.0), np.float64(5.0), np.float64(7.0)] \n",
      "Len:\n",
      " 71 \n",
      "\n",
      "restriktion \n",
      " ['nej', 'ja', nan] \n",
      "Len:\n",
      " 3 \n",
      "\n",
      "vejstatus \n",
      " ['Offentlig vej', 'Privat fællesvej', 'Privat vej', nan, 'Privat fællesvej §10 stk3', 'Privat fællessti'] \n",
      "Len:\n",
      " 6 \n",
      "\n",
      "vejside \n",
      " ['Lige husnr.', 'Ulige husnr.', nan, 'Midt i gaden', 'P-område/areal'] \n",
      "Len:\n",
      " 5 \n",
      "\n",
      "bydel \n",
      " ['Vesterbro-Kongens Enghave', 'Indre By', 'Amager Øst', 'Brønshøj-Husum', 'Vanløse', 'Amager Vest', 'Østerbro', 'Nørrebro', 'Bispebjerg', 'Valby'] \n",
      "Len:\n",
      " 11 \n",
      "\n",
      "p_ordning \n",
      " ['Grøn betalingszone', 'Delebil parkering', nan, 'Blå betalingszone', 'Handicap parkering', 'Besøgsplads', 'Rød betalingszone', '3 timers restriktion', 'Elbil-plads med ladestandere', 'Gul betalingszone'] \n",
      "Len:\n",
      " 22 \n",
      "\n",
      "p_type \n",
      " ['Uafmærket parkering', 'Afmærket parkering', 'Afmærket skråparkering, 60°', 'Afmærket skråparkering, 45°', 'Afmærket skråparkering, 90°', 'Afmærket skråparkering, 75°', nan, 'Uafmærket skråparkering, 90°', 'Uafmærket skråparkering, 45°', 'Afmærket skråparkering, 30°'] \n",
      "Len:\n",
      " 10 \n",
      "\n",
      "p_status \n",
      " [nan, 'oprettet', 'midlertidigt nedlagt'] \n",
      "Len:\n",
      " 3 \n",
      "\n",
      "rettelsedato \n",
      " ['2021-01-15T20:16:10.536', '2021-01-15T20:16:13.164', '2025-01-30T09:03:14.719', '2021-01-15T20:16:10.193', '2021-01-15T20:16:17.972', '2021-01-15T20:16:17.214', '2024-10-07T14:51:36.97', '2024-04-15T13:32:43.143', '2024-10-07T14:51:28.668', '2022-05-06T08:39:47.412'] \n",
      "Len:\n",
      " 15941 \n",
      "\n",
      "oprettelsesdato \n",
      " ['2003-05-28T00:00:00', '2019-06-13T11:05:27.844', '2014-07-16T09:58:57.999', '2003-04-15T00:00:00', '2004-12-22T00:00:00', '2007-07-16T00:00:00', '2007-07-02T00:00:00', '2003-01-07T00:00:00', '2020-04-23T09:34:31.777', '2003-07-01T00:00:00'] \n",
      "Len:\n",
      " 2056 \n",
      "\n",
      "x \n",
      " [nan, 'ved husnr. 14 \"GW 58 087\"', 'Ved husnr. 13', 'Ved husnr 37  (Dr.Tværgade) \"BZ 24 621\"', 'Ved husnr. 56 \"CK 45 097\"', 'Udfor husnr. 48 Dr. Tværgade\" YD 20976\" ', 'Ud for nr. 59 \"DA 12 968\"', 'Besøgspladser udfor husnr. 29 \"CW 92 129\"', 'Besøgspladser udfor husnr. 29', 'v. Klostervænget - Besøgsplads'] \n",
      "Len:\n",
      " 1580 \n",
      "\n",
      "id \n",
      " [np.int64(15287), np.int64(15282), np.int64(15284), np.int64(15285), np.int64(44281), np.int64(44279), np.int64(15286), np.int64(47200), np.int64(52866), np.int64(49037)] \n",
      "Len:\n",
      " 28762 \n",
      "\n",
      "taelle_id \n",
      " [np.float64(128.0), np.float64(nan), np.float64(129.0), np.float64(6292.0), np.float64(5404.0), np.float64(446.0), np.float64(447.0), np.float64(131.0), np.float64(130.0), np.float64(75.0)] \n",
      "Len:\n",
      " 2066 \n",
      "\n",
      "startdato_midlertidigt_nedlagt \n",
      " [np.float64(nan)] \n",
      "Len:\n",
      " 1 \n",
      "\n",
      "slutdato_midlertidigt_nedlagt \n",
      " [nan, '2017-12-15'] \n",
      "Len:\n",
      " 2 \n",
      "\n",
      "restriktionstype \n",
      " [nan, 'Forbeholdt busser', 'Standsningsforbud', 'Parkeringsforbud', 'Erhvervspladser, nye', 'Tidsbegrænsning', 'Flere restriktioner', 'Erhvervspladser, gamle', 'Forbeholdt turistbusser'] \n",
      "Len:\n",
      " 9 \n",
      "\n",
      "restriktionstekst \n",
      " [nan, '8-9 15-17', '8-18', '7-18 (7-13)', '7-17 Reserveret til erhverskøretøjer på gule nummerplader', '8-19', 'Reserveret til erhvervskøretøjer på gule nummerplader', '8-22', '3 timer 8-19', '3 timer 8-19, øvrige tid P-betalingszone'] \n",
      "Len:\n",
      " 452 \n",
      "\n",
      "taelle_note \n",
      " [nan, '-2 kl. 12', 'tidligere tælleID 1454', 'Kan tælles kl. 17 og 22', '-28 kl. 17', 'Må ikke tælles mandag og torsdag', 'Afventer Heidi, 2020-11-20', 'Tjek udstrækning_SA', '582', 'Er undersøgt, skal tælles 2020-11-20'] \n",
      "Len:\n",
      " 19 \n",
      "\n",
      "delebilsklub \n",
      " [nan, 'HYRE', 'GoMore', 'KINTO', 'Relok', 'GreenMobility', 'GoMORE', 'LetsGo'] \n",
      "Len:\n",
      " 8 \n",
      "\n",
      "aendring_p_ordning \n",
      " [nan, 'El-delebil-plads uden ladestandere'] \n",
      "Len:\n",
      " 2 \n",
      "\n",
      "uuid \n",
      " ['f091dc0c-e4c1-49d1-8c0e-f2abe9cf3274', 'f78e2d50-6d05-4efe-82da-ac3306e91544', '6f1dcd37-a01d-4c43-af33-1ca17476e116', '9a26e4f5-758f-48ab-ad0d-e0549ecad115', 'aa712abe-4293-4c75-b991-af4f3f5c74c6', '4ef7ed30-b992-4de4-853a-4a1786db2366', 'e906ea2b-991e-4418-a242-d11dfad2a6a2', '3540cea3-f44c-4208-9663-7a71dc37bd65', '227351c7-b02c-465c-a8e4-4f10403ca439', '21a79d24-eb19-4728-889e-4557f8aa4b2e'] \n",
      "Len:\n",
      " 28762 \n",
      "\n",
      "ogc_fid \n",
      " [np.int64(1), np.int64(2), np.int64(3), np.int64(4), np.int64(5), np.int64(6), np.int64(7), np.int64(8), np.int64(9), np.int64(10)] \n",
      "Len:\n",
      " 28762 \n",
      "\n",
      "wkb_geometry \n",
      " ['MULTILINESTRING ((12.558951218164538 55.67151987967718, 12.559712354787063 55.67130454392531))', 'MULTILINESTRING ((12.559540823191533 55.671430595065814, 12.559837257903178 55.67134719577676))', 'MULTILINESTRING ((12.558251725661727 55.6717938811232, 12.55855041814385 55.671709896567116))', 'MULTILINESTRING ((12.55787572262436 55.67189963770022, 12.557997967050476 55.67186525478351))', 'MULTILINESTRING ((12.55863434613667 55.671685523568456, 12.558780742845714 55.67164406376279))', 'MULTILINESTRING ((12.559130041509443 55.6715479489855, 12.559142958299363 55.671544394943155, 12.559462139997622 55.671452884857956))', 'MULTILINESTRING ((12.558189517793323 55.67173419336891, 12.558425809843941 55.671668278332135))', 'MULTILINESTRING ((12.559059718299144 55.67156744868647, 12.558972594675058 55.67159144184657))', 'MULTILINESTRING ((12.5585867912904 55.67162261988697, 12.558726605774742 55.67158291012052))', 'MULTILINESTRING ((12.558089082272557 55.6718396062652, 12.558166207400115 55.67181792185901))'] \n",
      "Len:\n",
      " 28754 \n",
      "\n"
     ]
    }
   ],
   "source": [
    "# Quick overview of some value examples\n",
    "for col in df.columns:\n",
    "    l = list(df[col].unique())\n",
    "    l_len = len(l)\n",
    "    if l_len > 10:\n",
    "        l = l[:10]\n",
    "    print(col, \"\\n\", l, \"\\nLen:\\n\", l_len, \"\\n\")"
   ]
  },
  {
   "cell_type": "code",
   "execution_count": 5,
   "id": "9c245a7b",
   "metadata": {},
   "outputs": [],
   "source": [
    "# Drop redundant columns\n",
    "df_dropped = df.drop(\n",
    "    columns=[\n",
    "        \"FID\",\n",
    "        #\"vejkode\",\n",
    "        #\"vejnavn\",\n",
    "        #\"antal_pladser\",\n",
    "        #\"restriktion\",\n",
    "        \"vejstatus\",\n",
    "        \"vejside\",\n",
    "        #\"bydel\",\n",
    "        #\"p_ordning\",\n",
    "        \"p_type\",\n",
    "        \"p_status\",\n",
    "        #\"rettelsedato\",\n",
    "        #\"oprettelsesdato\",\n",
    "        \"x\",\n",
    "        \"id\",\n",
    "        \"taelle_id\",\n",
    "        \"startdato_midlertidigt_nedlagt\",\n",
    "        \"slutdato_midlertidigt_nedlagt\",\n",
    "        #\"restriktionstype\",\n",
    "        #\"restriktionstekst\",\n",
    "        \"taelle_note\",\n",
    "        \"delebilsklub\",\n",
    "        #\"aendring_p_ordning\",\n",
    "        \"uuid\",\n",
    "        \"ogc_fid\",\n",
    "        #\"wkb_geometry\",\n",
    "    ], errors='ignore')"
   ]
  },
  {
   "cell_type": "code",
   "execution_count": 6,
   "id": "204ecca9",
   "metadata": {},
   "outputs": [],
   "source": [
    "# Drop any rows which do not contain quantifiable informations\n",
    "df_dropped = df_dropped.dropna(subset=[\n",
    "    \"antal_pladser\",\n",
    "    \"bydel\",\n",
    "    \"wkb_geometry\"\n",
    "])"
   ]
  },
  {
   "cell_type": "markdown",
   "id": "8f424c8f",
   "metadata": {},
   "source": [
    "### Renaming columns and changing the types"
   ]
  },
  {
   "cell_type": "code",
   "execution_count": 7,
   "id": "8d654c8f",
   "metadata": {},
   "outputs": [],
   "source": [
    "# Rename columns to English and more specific naming\n",
    "cols_rename = {\n",
    "    \"vejkode\": \"street_code\",\n",
    "    \"vejnavn\": \"street_name\", \n",
    "    \"antal_pladser\": \"no_of_spaces\",\n",
    "    \"restriktion\": \"restriction\",\n",
    "    \"bydel\": \"district\",\n",
    "    \"p_ordning\": \"parking_type\",\n",
    "    \"rettelsedato\": \"date_correction\", \n",
    "    \"oprettelsesdato\": \"date_creation\",\n",
    "    \"restriktionstype\": \"restriction_type\",\n",
    "    \"restriktionstekst\": \"restriction_text\",\n",
    "    \"aendring_p_ordning\": \"changed_parking_type\",\n",
    "}\n",
    "\n",
    "df_renamed = df_dropped.copy()\n",
    "df_renamed.rename(columns=cols_rename, inplace=True)\n",
    "\n",
    "#--------------------------------------------------------------------------\n",
    "# Convert to bool values and fill NaN with False\n",
    "df_renamed[\"restriction\"] = df_renamed[\"restriction\"].fillna(False)\n",
    "df_renamed[\"restriction\"] = df_renamed[\"restriction\"].map({\"ja\": True, \"nej\": False})\n",
    "\n",
    "#--------------------------------------------------------------------------\n",
    "# Reorder the columns for better reading\n",
    "df_renamed = df_renamed[[\n",
    "    \"street_code\", \n",
    "    \"street_name\",\n",
    "    \"district\", \n",
    "    \"no_of_spaces\", \n",
    "    \"parking_type\",\n",
    "    \"changed_parking_type\", \n",
    "    \"restriction\", \n",
    "    \"restriction_type\", \n",
    "    \"restriction_text\",\n",
    "    \"date_creation\",\n",
    "    \"date_correction\",\n",
    "    \"wkb_geometry\"\n",
    "]]\n",
    "\n",
    "#--------------------------------------------------------------------------\n",
    "# Define the conversion dictionary\n",
    "convert_dict = {\n",
    "    \"street_code\": int, \n",
    "    \"street_name\": str,\n",
    "    \"district\": str, \n",
    "    \"no_of_spaces\": int, \n",
    "    \"parking_type\": str,\n",
    "    \"changed_parking_type\": str, \n",
    "    \"restriction\": bool, \n",
    "    \"restriction_type\": str, \n",
    "    \"restriction_text\": str,\n",
    "    \"wkb_geometry\": str   \n",
    "}\n",
    "\n",
    "# Convert columns using the dictionary\n",
    "df_renamed = df_renamed.astype(convert_dict)"
   ]
  },
  {
   "cell_type": "markdown",
   "id": "13b7dea6",
   "metadata": {},
   "source": [
    "### Extract year of creation and correction"
   ]
  },
  {
   "cell_type": "code",
   "execution_count": 8,
   "id": "9f560591",
   "metadata": {},
   "outputs": [],
   "source": [
    "# Manual extraction of years from creation and correction date columns\n",
    "df_renamed[\"year_creation\"] = df_renamed[\"date_creation\"].str.slice(0, 4).astype(int)\n",
    "df_renamed[\"year_correction\"] = df_renamed[\"date_correction\"].str.slice(0, 4).astype(int)\n",
    "\n",
    "df_renamed = df_renamed.drop(columns=[\"date_creation\", \"date_correction\"], errors='ignore')"
   ]
  },
  {
   "cell_type": "markdown",
   "id": "815e2fc0",
   "metadata": {},
   "source": [
    "### Convert geometry data for easier manipulation"
   ]
  },
  {
   "cell_type": "code",
   "execution_count": 9,
   "id": "3495f92c",
   "metadata": {},
   "outputs": [],
   "source": [
    "# Drop duplicates based on location coordinates\n",
    "subset = df_renamed[\n",
    "    df_renamed.duplicated(subset=['wkb_geometry'])\n",
    "]\n",
    "\n",
    "df_renamed = pd.concat([df_renamed, subset, subset]).drop_duplicates(keep=False)"
   ]
  },
  {
   "cell_type": "code",
   "execution_count": 10,
   "id": "841f2e59",
   "metadata": {},
   "outputs": [],
   "source": [
    "# Helper function to convert the Multilinestring format to a list of tuples\n",
    "def multilinestring_to_tuplelist(s):\n",
    "    matches = re.findall(r'[-\\d\\.]+ [-\\d\\.]+', s)\n",
    "    coord_list = []\n",
    "    for match in matches:\n",
    "        lon, lat = map(float, match.split())\n",
    "        coord_list.append((lat, lon))\n",
    "    return coord_list"
   ]
  },
  {
   "cell_type": "code",
   "execution_count": 11,
   "id": "2831858b",
   "metadata": {},
   "outputs": [],
   "source": [
    "# Create new columns with parking space coordinates as list of tuples\n",
    "df_renamed[\"coordinates\"] = df_renamed[\"wkb_geometry\"].apply(multilinestring_to_tuplelist)\n",
    "\n",
    "# Drop the original geometry column\n",
    "df_renamed = df_renamed.drop(columns=[\"wkb_geometry\"], errors='ignore')"
   ]
  },
  {
   "cell_type": "markdown",
   "id": "f38d0434",
   "metadata": {},
   "source": [
    "### Extract geographical data for separate dataset"
   ]
  },
  {
   "cell_type": "code",
   "execution_count": 12,
   "id": "ed20230c",
   "metadata": {},
   "outputs": [],
   "source": [
    "df_geo = df_renamed[[\n",
    "    \"street_code\",\n",
    "    \"street_name\",\n",
    "    \"district\",\n",
    "    \"no_of_spaces\",\n",
    "    \"year_creation\",\n",
    "    \"year_correction\",\n",
    "    \"coordinates\"\n",
    "]].copy()\n",
    "\n",
    "df_geo.reset_index(drop=True, inplace=True)"
   ]
  },
  {
   "cell_type": "code",
   "execution_count": 13,
   "id": "617b21a3",
   "metadata": {},
   "outputs": [],
   "source": [
    "# Store geographical dataframe to new csv file\n",
    "cleaned_name_geo = \"parking_space_locations.csv\"\n",
    "cleaned_path_geo = os.path.join(data_path, cleaned_name_geo)\n",
    "df_geo.to_csv(cleaned_path_geo, index=False)"
   ]
  },
  {
   "cell_type": "code",
   "execution_count": 14,
   "id": "c90b0180",
   "metadata": {},
   "outputs": [],
   "source": [
    "# Drop coordinates in initial dataframe\n",
    "df_renamed = df_renamed.drop(columns=[\"coordinates\"], errors='ignore')"
   ]
  },
  {
   "cell_type": "markdown",
   "id": "1aa244b0",
   "metadata": {},
   "source": [
    "### Generate rows for each year a parking space has existed"
   ]
  },
  {
   "cell_type": "code",
   "execution_count": 15,
   "id": "a003dec1",
   "metadata": {},
   "outputs": [],
   "source": [
    "# Traverse dataframe and duplicate entries for each year since they were registered as created\n",
    "data = []\n",
    "for index, row in df_renamed.iterrows():\n",
    "    start_y = row[\"year_creation\"]\n",
    "    end_y = 2025\n",
    "    for y in range(start_y, end_y+1):\n",
    "        data.append([*row.tolist(), y])\n",
    "\n",
    "# Create dataframe from generated data\n",
    "df_yearly = pd.DataFrame(columns=[*list(df_renamed.columns), \"year_active\"], data=data)\n",
    "df_yearly.reset_index(drop=True, inplace=True)"
   ]
  },
  {
   "cell_type": "code",
   "execution_count": 16,
   "id": "5f8b7323",
   "metadata": {},
   "outputs": [],
   "source": [
    "# Store yearly dataframe to new csv file\n",
    "cleaned_name_yearly = \"parking_space_yearly_entries.csv\"\n",
    "cleaned_path_yearly = os.path.join(data_path, cleaned_name_yearly)\n",
    "df_yearly.to_csv(cleaned_path_yearly, index=False)"
   ]
  },
  {
   "cell_type": "code",
   "execution_count": null,
   "id": "765a1ca9",
   "metadata": {},
   "outputs": [],
   "source": []
  },
  {
   "cell_type": "code",
   "execution_count": null,
   "id": "8816d3f7",
   "metadata": {},
   "outputs": [],
   "source": []
  },
  {
   "cell_type": "code",
   "execution_count": null,
   "id": "aae39be2",
   "metadata": {},
   "outputs": [],
   "source": []
  }
 ],
 "metadata": {
  "kernelspec": {
   "display_name": "02806",
   "language": "python",
   "name": "python3"
  },
  "language_info": {
   "codemirror_mode": {
    "name": "ipython",
    "version": 3
   },
   "file_extension": ".py",
   "mimetype": "text/x-python",
   "name": "python",
   "nbconvert_exporter": "python",
   "pygments_lexer": "ipython3",
   "version": "3.13.1"
  }
 },
 "nbformat": 4,
 "nbformat_minor": 5
}
